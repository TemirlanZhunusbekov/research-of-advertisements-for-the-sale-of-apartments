{
 "cells": [
  {
   "cell_type": "markdown",
   "metadata": {
    "toc": true
   },
   "source": [
    "<h1>Содержание<span class=\"tocSkip\"></span></h1>\n",
    "<div class=\"toc\"><ul class=\"toc-item\"><li><span><a href=\"#Изучение-данных-из-файла\" data-toc-modified-id=\"Изучение-данных-из-файла-1\"><span class=\"toc-item-num\">1&nbsp;&nbsp;</span>Изучение данных из файла</a></span><ul class=\"toc-item\"><li><span><a href=\"#Вывод\" data-toc-modified-id=\"Вывод-1.1\"><span class=\"toc-item-num\">1.1&nbsp;&nbsp;</span>Вывод</a></span></li></ul></li><li><span><a href=\"#Предобработка-данных\" data-toc-modified-id=\"Предобработка-данных-2\"><span class=\"toc-item-num\">2&nbsp;&nbsp;</span>Предобработка данных</a></span></li><li><span><a href=\"#Расчёты-и-добавление-результатов-в-таблицу\" data-toc-modified-id=\"Расчёты-и-добавление-результатов-в-таблицу-3\"><span class=\"toc-item-num\">3&nbsp;&nbsp;</span>Расчёты и добавление результатов в таблицу</a></span></li><li><span><a href=\"#Исследовательский-анализ-данных\" data-toc-modified-id=\"Исследовательский-анализ-данных-4\"><span class=\"toc-item-num\">4&nbsp;&nbsp;</span>Исследовательский анализ данных</a></span></li><li><span><a href=\"#Общий-вывод\" data-toc-modified-id=\"Общий-вывод-5\"><span class=\"toc-item-num\">5&nbsp;&nbsp;</span>Общий вывод</a></span></li><li><span><a href=\"#Чек-лист-готовности-проекта\" data-toc-modified-id=\"Чек-лист-готовности-проекта-6\"><span class=\"toc-item-num\">6&nbsp;&nbsp;</span>Чек-лист готовности проекта</a></span></li></ul></div>"
   ]
  },
  {
   "cell_type": "markdown",
   "metadata": {},
   "source": [
    "# Исследование объявлений о продаже квартир\n",
    "\n",
    "В вашем распоряжении данные сервиса Яндекс.Недвижимость — архив объявлений о продаже квартир в Санкт-Петербурге и соседних населённых пунктах за несколько лет. Нужно научиться определять рыночную стоимость объектов недвижимости. Ваша задача — установить параметры. Это позволит построить автоматизированную систему: она отследит аномалии и мошенническую деятельность. \n",
    "\n",
    "По каждой квартире на продажу доступны два вида данных. Первые вписаны пользователем, вторые получены автоматически на основе картографических данных. Например, расстояние до центра, аэропорта, ближайшего парка и водоёма. "
   ]
  },
  {
   "cell_type": "markdown",
   "metadata": {},
   "source": [
    "# Описание данных\n",
    "- `airports_nearest` — расстояние до ближайшего аэропорта в метрах (м)\n",
    "- `balcony` — число балконов\n",
    "- `ceiling_height` — высота потолков (м)\n",
    "- `cityCenters_nearest` — расстояние до центра города (м)\n",
    "- `days_exposition` — сколько дней было размещено объявление (от публикации до снятия)\n",
    "- `first_day_exposition` — дата публикации\n",
    "- `floor` — этаж\n",
    "- `floors_total` — всего этажей в доме\n",
    "- `is_apartment` — апартаменты (булев тип)\n",
    "- `kitchen_area` — площадь кухни в квадратных метрах (м²)\n",
    "- `last_price` — цена на момент снятия с публикации\n",
    "- `living_area` — жилая площадь в квадратных метрах (м²)\n",
    "- `locality_name` — название населённого пункта\n",
    "- `open_plan` — свободная планировка (булев тип)\n",
    "- `parks_around3000` — число парков в радиусе 3 км\n",
    "- `parks_nearest` — расстояние до ближайшего парка (м)\n",
    "- `ponds_around3000` — число водоёмов в радиусе 3 км\n",
    "- `ponds_nearest` — расстояние до ближайшего водоёма (м)\n",
    "- `rooms` — число комнат\n",
    "- `studio` — квартира-студия (булев тип)\n",
    "- `total_area` — площадь квартиры в квадратных метрах (м²)\n",
    "- `total_images` — число фотографий квартиры в объявлении"
   ]
  },
  {
   "cell_type": "markdown",
   "metadata": {},
   "source": [
    "## Изучение данных из файла"
   ]
  },
  {
   "cell_type": "code",
   "execution_count": 1,
   "metadata": {},
   "outputs": [
    {
     "name": "stdout",
     "output_type": "stream",
     "text": [
      "<class 'pandas.core.frame.DataFrame'>\n",
      "RangeIndex: 23699 entries, 0 to 23698\n",
      "Data columns (total 22 columns):\n",
      "total_images            23699 non-null int64\n",
      "last_price              23699 non-null float64\n",
      "total_area              23699 non-null float64\n",
      "first_day_exposition    23699 non-null object\n",
      "rooms                   23699 non-null int64\n",
      "ceiling_height          14504 non-null float64\n",
      "floors_total            23613 non-null float64\n",
      "living_area             21796 non-null float64\n",
      "floor                   23699 non-null int64\n",
      "is_apartment            2775 non-null object\n",
      "studio                  23699 non-null bool\n",
      "open_plan               23699 non-null bool\n",
      "kitchen_area            21421 non-null float64\n",
      "balcony                 12180 non-null float64\n",
      "locality_name           23650 non-null object\n",
      "airports_nearest        18157 non-null float64\n",
      "cityCenters_nearest     18180 non-null float64\n",
      "parks_around3000        18181 non-null float64\n",
      "parks_nearest           8079 non-null float64\n",
      "ponds_around3000        18181 non-null float64\n",
      "ponds_nearest           9110 non-null float64\n",
      "days_exposition         20518 non-null float64\n",
      "dtypes: bool(2), float64(14), int64(3), object(3)\n",
      "memory usage: 3.7+ MB\n"
     ]
    }
   ],
   "source": [
    "import pandas as pd\n",
    "import matplotlib.pyplot as plt\n",
    "pd.options.mode.chained_assignment = None  # default='warn' #на шаге 23 возникает ложное предупреждение. прогуглил и нашел выход, которое убирает это ложное предпреждение.\n",
    "data = pd.read_csv('/datasets/real_estate_data.csv', sep='\\t')\n",
    "data.info()"
   ]
  },
  {
   "cell_type": "code",
   "execution_count": 2,
   "metadata": {},
   "outputs": [
    {
     "data": {
      "text/html": [
       "<div>\n",
       "<style scoped>\n",
       "    .dataframe tbody tr th:only-of-type {\n",
       "        vertical-align: middle;\n",
       "    }\n",
       "\n",
       "    .dataframe tbody tr th {\n",
       "        vertical-align: top;\n",
       "    }\n",
       "\n",
       "    .dataframe thead th {\n",
       "        text-align: right;\n",
       "    }\n",
       "</style>\n",
       "<table border=\"1\" class=\"dataframe\">\n",
       "  <thead>\n",
       "    <tr style=\"text-align: right;\">\n",
       "      <th></th>\n",
       "      <th>total_images</th>\n",
       "      <th>last_price</th>\n",
       "      <th>total_area</th>\n",
       "      <th>first_day_exposition</th>\n",
       "      <th>rooms</th>\n",
       "      <th>ceiling_height</th>\n",
       "      <th>floors_total</th>\n",
       "      <th>living_area</th>\n",
       "      <th>floor</th>\n",
       "      <th>is_apartment</th>\n",
       "      <th>...</th>\n",
       "      <th>kitchen_area</th>\n",
       "      <th>balcony</th>\n",
       "      <th>locality_name</th>\n",
       "      <th>airports_nearest</th>\n",
       "      <th>cityCenters_nearest</th>\n",
       "      <th>parks_around3000</th>\n",
       "      <th>parks_nearest</th>\n",
       "      <th>ponds_around3000</th>\n",
       "      <th>ponds_nearest</th>\n",
       "      <th>days_exposition</th>\n",
       "    </tr>\n",
       "  </thead>\n",
       "  <tbody>\n",
       "    <tr>\n",
       "      <td>0</td>\n",
       "      <td>20</td>\n",
       "      <td>13000000.0</td>\n",
       "      <td>108.0</td>\n",
       "      <td>2019-03-07T00:00:00</td>\n",
       "      <td>3</td>\n",
       "      <td>2.70</td>\n",
       "      <td>16.0</td>\n",
       "      <td>51.0</td>\n",
       "      <td>8</td>\n",
       "      <td>NaN</td>\n",
       "      <td>...</td>\n",
       "      <td>25.0</td>\n",
       "      <td>NaN</td>\n",
       "      <td>Санкт-Петербург</td>\n",
       "      <td>18863.0</td>\n",
       "      <td>16028.0</td>\n",
       "      <td>1.0</td>\n",
       "      <td>482.0</td>\n",
       "      <td>2.0</td>\n",
       "      <td>755.0</td>\n",
       "      <td>NaN</td>\n",
       "    </tr>\n",
       "    <tr>\n",
       "      <td>1</td>\n",
       "      <td>7</td>\n",
       "      <td>3350000.0</td>\n",
       "      <td>40.4</td>\n",
       "      <td>2018-12-04T00:00:00</td>\n",
       "      <td>1</td>\n",
       "      <td>NaN</td>\n",
       "      <td>11.0</td>\n",
       "      <td>18.6</td>\n",
       "      <td>1</td>\n",
       "      <td>NaN</td>\n",
       "      <td>...</td>\n",
       "      <td>11.0</td>\n",
       "      <td>2.0</td>\n",
       "      <td>посёлок Шушары</td>\n",
       "      <td>12817.0</td>\n",
       "      <td>18603.0</td>\n",
       "      <td>0.0</td>\n",
       "      <td>NaN</td>\n",
       "      <td>0.0</td>\n",
       "      <td>NaN</td>\n",
       "      <td>81.0</td>\n",
       "    </tr>\n",
       "    <tr>\n",
       "      <td>2</td>\n",
       "      <td>10</td>\n",
       "      <td>5196000.0</td>\n",
       "      <td>56.0</td>\n",
       "      <td>2015-08-20T00:00:00</td>\n",
       "      <td>2</td>\n",
       "      <td>NaN</td>\n",
       "      <td>5.0</td>\n",
       "      <td>34.3</td>\n",
       "      <td>4</td>\n",
       "      <td>NaN</td>\n",
       "      <td>...</td>\n",
       "      <td>8.3</td>\n",
       "      <td>0.0</td>\n",
       "      <td>Санкт-Петербург</td>\n",
       "      <td>21741.0</td>\n",
       "      <td>13933.0</td>\n",
       "      <td>1.0</td>\n",
       "      <td>90.0</td>\n",
       "      <td>2.0</td>\n",
       "      <td>574.0</td>\n",
       "      <td>558.0</td>\n",
       "    </tr>\n",
       "    <tr>\n",
       "      <td>3</td>\n",
       "      <td>0</td>\n",
       "      <td>64900000.0</td>\n",
       "      <td>159.0</td>\n",
       "      <td>2015-07-24T00:00:00</td>\n",
       "      <td>3</td>\n",
       "      <td>NaN</td>\n",
       "      <td>14.0</td>\n",
       "      <td>NaN</td>\n",
       "      <td>9</td>\n",
       "      <td>NaN</td>\n",
       "      <td>...</td>\n",
       "      <td>NaN</td>\n",
       "      <td>0.0</td>\n",
       "      <td>Санкт-Петербург</td>\n",
       "      <td>28098.0</td>\n",
       "      <td>6800.0</td>\n",
       "      <td>2.0</td>\n",
       "      <td>84.0</td>\n",
       "      <td>3.0</td>\n",
       "      <td>234.0</td>\n",
       "      <td>424.0</td>\n",
       "    </tr>\n",
       "    <tr>\n",
       "      <td>4</td>\n",
       "      <td>2</td>\n",
       "      <td>10000000.0</td>\n",
       "      <td>100.0</td>\n",
       "      <td>2018-06-19T00:00:00</td>\n",
       "      <td>2</td>\n",
       "      <td>3.03</td>\n",
       "      <td>14.0</td>\n",
       "      <td>32.0</td>\n",
       "      <td>13</td>\n",
       "      <td>NaN</td>\n",
       "      <td>...</td>\n",
       "      <td>41.0</td>\n",
       "      <td>NaN</td>\n",
       "      <td>Санкт-Петербург</td>\n",
       "      <td>31856.0</td>\n",
       "      <td>8098.0</td>\n",
       "      <td>2.0</td>\n",
       "      <td>112.0</td>\n",
       "      <td>1.0</td>\n",
       "      <td>48.0</td>\n",
       "      <td>121.0</td>\n",
       "    </tr>\n",
       "  </tbody>\n",
       "</table>\n",
       "<p>5 rows × 22 columns</p>\n",
       "</div>"
      ],
      "text/plain": [
       "   total_images  last_price  total_area first_day_exposition  rooms  \\\n",
       "0            20  13000000.0       108.0  2019-03-07T00:00:00      3   \n",
       "1             7   3350000.0        40.4  2018-12-04T00:00:00      1   \n",
       "2            10   5196000.0        56.0  2015-08-20T00:00:00      2   \n",
       "3             0  64900000.0       159.0  2015-07-24T00:00:00      3   \n",
       "4             2  10000000.0       100.0  2018-06-19T00:00:00      2   \n",
       "\n",
       "   ceiling_height  floors_total  living_area  floor is_apartment  ...  \\\n",
       "0            2.70          16.0         51.0      8          NaN  ...   \n",
       "1             NaN          11.0         18.6      1          NaN  ...   \n",
       "2             NaN           5.0         34.3      4          NaN  ...   \n",
       "3             NaN          14.0          NaN      9          NaN  ...   \n",
       "4            3.03          14.0         32.0     13          NaN  ...   \n",
       "\n",
       "   kitchen_area  balcony    locality_name  airports_nearest  \\\n",
       "0          25.0      NaN  Санкт-Петербург           18863.0   \n",
       "1          11.0      2.0   посёлок Шушары           12817.0   \n",
       "2           8.3      0.0  Санкт-Петербург           21741.0   \n",
       "3           NaN      0.0  Санкт-Петербург           28098.0   \n",
       "4          41.0      NaN  Санкт-Петербург           31856.0   \n",
       "\n",
       "  cityCenters_nearest  parks_around3000  parks_nearest  ponds_around3000  \\\n",
       "0             16028.0               1.0          482.0               2.0   \n",
       "1             18603.0               0.0            NaN               0.0   \n",
       "2             13933.0               1.0           90.0               2.0   \n",
       "3              6800.0               2.0           84.0               3.0   \n",
       "4              8098.0               2.0          112.0               1.0   \n",
       "\n",
       "   ponds_nearest  days_exposition  \n",
       "0          755.0              NaN  \n",
       "1            NaN             81.0  \n",
       "2          574.0            558.0  \n",
       "3          234.0            424.0  \n",
       "4           48.0            121.0  \n",
       "\n",
       "[5 rows x 22 columns]"
      ]
     },
     "execution_count": 2,
     "metadata": {},
     "output_type": "execute_result"
    }
   ],
   "source": [
    "data.head()"
   ]
  },
  {
   "cell_type": "code",
   "execution_count": 3,
   "metadata": {},
   "outputs": [
    {
     "data": {
      "text/html": [
       "<div>\n",
       "<style scoped>\n",
       "    .dataframe tbody tr th:only-of-type {\n",
       "        vertical-align: middle;\n",
       "    }\n",
       "\n",
       "    .dataframe tbody tr th {\n",
       "        vertical-align: top;\n",
       "    }\n",
       "\n",
       "    .dataframe thead th {\n",
       "        text-align: right;\n",
       "    }\n",
       "</style>\n",
       "<table border=\"1\" class=\"dataframe\">\n",
       "  <thead>\n",
       "    <tr style=\"text-align: right;\">\n",
       "      <th></th>\n",
       "      <th>total_images</th>\n",
       "      <th>last_price</th>\n",
       "      <th>total_area</th>\n",
       "      <th>rooms</th>\n",
       "      <th>ceiling_height</th>\n",
       "      <th>floors_total</th>\n",
       "      <th>living_area</th>\n",
       "      <th>floor</th>\n",
       "      <th>kitchen_area</th>\n",
       "      <th>balcony</th>\n",
       "      <th>airports_nearest</th>\n",
       "      <th>cityCenters_nearest</th>\n",
       "      <th>parks_around3000</th>\n",
       "      <th>parks_nearest</th>\n",
       "      <th>ponds_around3000</th>\n",
       "      <th>ponds_nearest</th>\n",
       "      <th>days_exposition</th>\n",
       "    </tr>\n",
       "  </thead>\n",
       "  <tbody>\n",
       "    <tr>\n",
       "      <td>count</td>\n",
       "      <td>23699.000000</td>\n",
       "      <td>2.369900e+04</td>\n",
       "      <td>23699.000000</td>\n",
       "      <td>23699.000000</td>\n",
       "      <td>14504.000000</td>\n",
       "      <td>23613.000000</td>\n",
       "      <td>21796.000000</td>\n",
       "      <td>23699.000000</td>\n",
       "      <td>21421.000000</td>\n",
       "      <td>12180.000000</td>\n",
       "      <td>18157.000000</td>\n",
       "      <td>18180.000000</td>\n",
       "      <td>18181.000000</td>\n",
       "      <td>8079.000000</td>\n",
       "      <td>18181.000000</td>\n",
       "      <td>9110.000000</td>\n",
       "      <td>20518.000000</td>\n",
       "    </tr>\n",
       "    <tr>\n",
       "      <td>mean</td>\n",
       "      <td>9.858475</td>\n",
       "      <td>6.541549e+06</td>\n",
       "      <td>60.348651</td>\n",
       "      <td>2.070636</td>\n",
       "      <td>2.771499</td>\n",
       "      <td>10.673824</td>\n",
       "      <td>34.457852</td>\n",
       "      <td>5.892358</td>\n",
       "      <td>10.569807</td>\n",
       "      <td>1.150082</td>\n",
       "      <td>28793.672193</td>\n",
       "      <td>14191.277833</td>\n",
       "      <td>0.611408</td>\n",
       "      <td>490.804555</td>\n",
       "      <td>0.770255</td>\n",
       "      <td>517.980900</td>\n",
       "      <td>180.888634</td>\n",
       "    </tr>\n",
       "    <tr>\n",
       "      <td>std</td>\n",
       "      <td>5.682529</td>\n",
       "      <td>1.088701e+07</td>\n",
       "      <td>35.654083</td>\n",
       "      <td>1.078405</td>\n",
       "      <td>1.261056</td>\n",
       "      <td>6.597173</td>\n",
       "      <td>22.030445</td>\n",
       "      <td>4.885249</td>\n",
       "      <td>5.905438</td>\n",
       "      <td>1.071300</td>\n",
       "      <td>12630.880622</td>\n",
       "      <td>8608.386210</td>\n",
       "      <td>0.802074</td>\n",
       "      <td>342.317995</td>\n",
       "      <td>0.938346</td>\n",
       "      <td>277.720643</td>\n",
       "      <td>219.727988</td>\n",
       "    </tr>\n",
       "    <tr>\n",
       "      <td>min</td>\n",
       "      <td>0.000000</td>\n",
       "      <td>1.219000e+04</td>\n",
       "      <td>12.000000</td>\n",
       "      <td>0.000000</td>\n",
       "      <td>1.000000</td>\n",
       "      <td>1.000000</td>\n",
       "      <td>2.000000</td>\n",
       "      <td>1.000000</td>\n",
       "      <td>1.300000</td>\n",
       "      <td>0.000000</td>\n",
       "      <td>0.000000</td>\n",
       "      <td>181.000000</td>\n",
       "      <td>0.000000</td>\n",
       "      <td>1.000000</td>\n",
       "      <td>0.000000</td>\n",
       "      <td>13.000000</td>\n",
       "      <td>1.000000</td>\n",
       "    </tr>\n",
       "    <tr>\n",
       "      <td>25%</td>\n",
       "      <td>6.000000</td>\n",
       "      <td>3.400000e+06</td>\n",
       "      <td>40.000000</td>\n",
       "      <td>1.000000</td>\n",
       "      <td>2.520000</td>\n",
       "      <td>5.000000</td>\n",
       "      <td>18.600000</td>\n",
       "      <td>2.000000</td>\n",
       "      <td>7.000000</td>\n",
       "      <td>0.000000</td>\n",
       "      <td>18585.000000</td>\n",
       "      <td>9238.000000</td>\n",
       "      <td>0.000000</td>\n",
       "      <td>288.000000</td>\n",
       "      <td>0.000000</td>\n",
       "      <td>294.000000</td>\n",
       "      <td>45.000000</td>\n",
       "    </tr>\n",
       "    <tr>\n",
       "      <td>50%</td>\n",
       "      <td>9.000000</td>\n",
       "      <td>4.650000e+06</td>\n",
       "      <td>52.000000</td>\n",
       "      <td>2.000000</td>\n",
       "      <td>2.650000</td>\n",
       "      <td>9.000000</td>\n",
       "      <td>30.000000</td>\n",
       "      <td>4.000000</td>\n",
       "      <td>9.100000</td>\n",
       "      <td>1.000000</td>\n",
       "      <td>26726.000000</td>\n",
       "      <td>13098.500000</td>\n",
       "      <td>0.000000</td>\n",
       "      <td>455.000000</td>\n",
       "      <td>1.000000</td>\n",
       "      <td>502.000000</td>\n",
       "      <td>95.000000</td>\n",
       "    </tr>\n",
       "    <tr>\n",
       "      <td>75%</td>\n",
       "      <td>14.000000</td>\n",
       "      <td>6.800000e+06</td>\n",
       "      <td>69.900000</td>\n",
       "      <td>3.000000</td>\n",
       "      <td>2.800000</td>\n",
       "      <td>16.000000</td>\n",
       "      <td>42.300000</td>\n",
       "      <td>8.000000</td>\n",
       "      <td>12.000000</td>\n",
       "      <td>2.000000</td>\n",
       "      <td>37273.000000</td>\n",
       "      <td>16293.000000</td>\n",
       "      <td>1.000000</td>\n",
       "      <td>612.000000</td>\n",
       "      <td>1.000000</td>\n",
       "      <td>729.000000</td>\n",
       "      <td>232.000000</td>\n",
       "    </tr>\n",
       "    <tr>\n",
       "      <td>max</td>\n",
       "      <td>50.000000</td>\n",
       "      <td>7.630000e+08</td>\n",
       "      <td>900.000000</td>\n",
       "      <td>19.000000</td>\n",
       "      <td>100.000000</td>\n",
       "      <td>60.000000</td>\n",
       "      <td>409.700000</td>\n",
       "      <td>33.000000</td>\n",
       "      <td>112.000000</td>\n",
       "      <td>5.000000</td>\n",
       "      <td>84869.000000</td>\n",
       "      <td>65968.000000</td>\n",
       "      <td>3.000000</td>\n",
       "      <td>3190.000000</td>\n",
       "      <td>3.000000</td>\n",
       "      <td>1344.000000</td>\n",
       "      <td>1580.000000</td>\n",
       "    </tr>\n",
       "  </tbody>\n",
       "</table>\n",
       "</div>"
      ],
      "text/plain": [
       "       total_images    last_price    total_area         rooms  ceiling_height  \\\n",
       "count  23699.000000  2.369900e+04  23699.000000  23699.000000    14504.000000   \n",
       "mean       9.858475  6.541549e+06     60.348651      2.070636        2.771499   \n",
       "std        5.682529  1.088701e+07     35.654083      1.078405        1.261056   \n",
       "min        0.000000  1.219000e+04     12.000000      0.000000        1.000000   \n",
       "25%        6.000000  3.400000e+06     40.000000      1.000000        2.520000   \n",
       "50%        9.000000  4.650000e+06     52.000000      2.000000        2.650000   \n",
       "75%       14.000000  6.800000e+06     69.900000      3.000000        2.800000   \n",
       "max       50.000000  7.630000e+08    900.000000     19.000000      100.000000   \n",
       "\n",
       "       floors_total   living_area         floor  kitchen_area       balcony  \\\n",
       "count  23613.000000  21796.000000  23699.000000  21421.000000  12180.000000   \n",
       "mean      10.673824     34.457852      5.892358     10.569807      1.150082   \n",
       "std        6.597173     22.030445      4.885249      5.905438      1.071300   \n",
       "min        1.000000      2.000000      1.000000      1.300000      0.000000   \n",
       "25%        5.000000     18.600000      2.000000      7.000000      0.000000   \n",
       "50%        9.000000     30.000000      4.000000      9.100000      1.000000   \n",
       "75%       16.000000     42.300000      8.000000     12.000000      2.000000   \n",
       "max       60.000000    409.700000     33.000000    112.000000      5.000000   \n",
       "\n",
       "       airports_nearest  cityCenters_nearest  parks_around3000  parks_nearest  \\\n",
       "count      18157.000000         18180.000000      18181.000000    8079.000000   \n",
       "mean       28793.672193         14191.277833          0.611408     490.804555   \n",
       "std        12630.880622          8608.386210          0.802074     342.317995   \n",
       "min            0.000000           181.000000          0.000000       1.000000   \n",
       "25%        18585.000000          9238.000000          0.000000     288.000000   \n",
       "50%        26726.000000         13098.500000          0.000000     455.000000   \n",
       "75%        37273.000000         16293.000000          1.000000     612.000000   \n",
       "max        84869.000000         65968.000000          3.000000    3190.000000   \n",
       "\n",
       "       ponds_around3000  ponds_nearest  days_exposition  \n",
       "count      18181.000000    9110.000000     20518.000000  \n",
       "mean           0.770255     517.980900       180.888634  \n",
       "std            0.938346     277.720643       219.727988  \n",
       "min            0.000000      13.000000         1.000000  \n",
       "25%            0.000000     294.000000        45.000000  \n",
       "50%            1.000000     502.000000        95.000000  \n",
       "75%            1.000000     729.000000       232.000000  \n",
       "max            3.000000    1344.000000      1580.000000  "
      ]
     },
     "execution_count": 3,
     "metadata": {},
     "output_type": "execute_result"
    }
   ],
   "source": [
    "data.describe()"
   ]
  },
  {
   "cell_type": "code",
   "execution_count": 4,
   "metadata": {},
   "outputs": [],
   "source": [
    "#data['ceiling_height'] = data['ceiling_height'].fillna(111111)\n",
    "#ch_data = data.query('ceiling_height == 111111')\n",
    "#ch_data.describe()"
   ]
  },
  {
   "cell_type": "markdown",
   "metadata": {},
   "source": [
    "### Вывод"
   ]
  },
  {
   "cell_type": "markdown",
   "metadata": {},
   "source": [
    "1. floors_total - должен быть int, потому что этажи целое число\n",
    "2. balcony - NaN заменить на нулевые значения, заменить на int \n",
    "3. parks_around3000 - должен быть int, количество парков целое число\n",
    "4. ponds_around3000 - также заменить на int\n",
    "5. ceiling_height - максимум 100 метров, звучит неправдопободно\n",
    "6. room - количество комнат 0 звучит довольно странно, нужно перепроверить, к тому же нужно заменить на целое число\n",
    "7. days_exposition - заменить на int\n",
    "8. is_apartment - должно быть bool\n",
    "9. во всех остальных случаях заменим нулевые значения по необходимости\n",
    "7. first_day_exposition - перевести в datetime формат\n",
    "\n",
    "Предположения о том, почему пропущены данные:\n",
    "1. balcony - люди у которых нет балконов, просто не заполняют эту графу\n",
    "2. ceiling_height - исследовал это поле. никаких странностей не обнаружил. заполню этот столбец медианными значениями.\n",
    "3. days_exposition - нет никаких предположений на данном этапе. нужно исследовать столбец\n",
    "4. cityCenters_nearest"
   ]
  },
  {
   "cell_type": "markdown",
   "metadata": {},
   "source": [
    "## Предобработка данных"
   ]
  },
  {
   "cell_type": "code",
   "execution_count": 5,
   "metadata": {
    "scrolled": true
   },
   "outputs": [],
   "source": [
    "data['balcony'].value_counts()\n",
    "data['balcony'].describe #присутствуют значения NaN, видимо балконов нет\n",
    "data['balcony'] = data['balcony'].fillna(0).astype('int') #заполняем пустые ячейки нулем, меняем тип данных на целые числа\n",
    "\n",
    "data['parks_around3000'] = data['parks_around3000'].fillna(0).astype('int') #присутствуют значения NaN, видимо парков нет\n",
    "data['ponds_around3000'] = data['ponds_around3000'].fillna(0).astype('int') #присутствуют значения NaN, видимо озёр нет\n",
    "\n",
    "data['ceiling_height'] = data['ceiling_height'].fillna(data['ceiling_height'].median()) #заменим пустые значения на медиану\n",
    "\n",
    "data['is_apartment'] = data['is_apartment'].fillna(False) #пустоты заменим на False\n",
    "\n",
    "data['last_price'] = data['last_price'].astype('int') #для удобства поменяем на целые числа\n",
    "\n",
    "data[data['floors_total'].isna()] #к сожалению никаких общих характеристик между total_floor == NaN нет, поэтому оставим как есть\n",
    "\n",
    "data['first_day_exposition'] = pd.to_datetime(data['first_day_exposition'], format='%Y-%m-%d') #заменили тип данных, без указания времени, так как времени тут нет\n",
    "data[data['floors_total'].isna()] #никаких общих черт у данных нет, оставляем как есть\n",
    "\n",
    "data['days_exposition'] = data['days_exposition'].fillna(999999).astype('int')\n",
    "data = data.query('days_exposition != 999999')\n",
    "#приходится удалить данные, потому что немогу в моменте создания good_data исключить float days_exposition.\n",
    "#подсказали использовать Int64, но пишет \"ValueError: Cannot convert non-finite values (NA or inf) to integer\"\n",
    "#был такой вариант data[‘days exposition’]=data[‘days exposition’].round().astype(‘Int64’) но выдает аналогично верхней строке ошибку\n",
    "#просто data['days_exposition'] = data['days_exposition'].astype('int') тоже выдает ошибку. \n",
    "#если у вас есть варианты, как без удаления форматировать данные в int, подскажите пожалуйста\n"
   ]
  },
  {
   "cell_type": "code",
   "execution_count": 6,
   "metadata": {},
   "outputs": [],
   "source": [
    "#data['year'] = data['first_day_exposition'].dt.year\n",
    "#data['days_exposition'] = data['days_exposition'].fillna(999999999)\n",
    "#none_data = data.query('days_exposition == 999999999')\n",
    "#none_data['year'].value_counts()\n",
    "\n",
    "#2019    1796\n",
    "#2018     959\n",
    "#2017     271\n",
    "#2015      70\n",
    "#2016      67\n",
    "#2014      18`\n",
    "\n",
    "#Проверил, сколько пропусков в записях за каждый год, скорее всего это всё ещё активные объявления, которые были выгружены в 2019 году (больше всего объявок именно в этот год с пропущенными значениями)\n",
    "#Данные придется удалить...."
   ]
  },
  {
   "cell_type": "markdown",
   "metadata": {},
   "source": [
    "## Расчёты и добавление результатов в таблицу"
   ]
  },
  {
   "cell_type": "markdown",
   "metadata": {},
   "source": [
    "1. цену квадратного метра;\n",
    "2. день недели, месяц и год публикации объявления;\n",
    "3. этаж квартиры; варианты — первый, последний, другой;\n",
    "4. соотношение жилой и общей площади, а также отношение площади кухни к общей."
   ]
  },
  {
   "cell_type": "code",
   "execution_count": 7,
   "metadata": {},
   "outputs": [],
   "source": [
    "data['price_per_square_meter'] = (data['last_price'] / data['total_area']).astype('int')"
   ]
  },
  {
   "cell_type": "code",
   "execution_count": 8,
   "metadata": {},
   "outputs": [],
   "source": [
    "data['weekday'] = data['first_day_exposition'].dt.weekday\n",
    "data['month'] = data['first_day_exposition'].dt.month\n",
    "data['year'] = data['first_day_exposition'].dt.year"
   ]
  },
  {
   "cell_type": "code",
   "execution_count": 9,
   "metadata": {},
   "outputs": [],
   "source": [
    "def floor_category(row):\n",
    "    floors_total = row['floors_total']\n",
    "    floor = row['floor']\n",
    "    if floor == floors_total:\n",
    "        return 'последний'\n",
    "    elif floor == 1:\n",
    "        return 'первый'\n",
    "    else:\n",
    "        return 'другой'\n",
    "\n",
    "data['floor_category'] = data.apply(floor_category, axis = 1)"
   ]
  },
  {
   "cell_type": "code",
   "execution_count": 10,
   "metadata": {},
   "outputs": [],
   "source": [
    "data['living_to_total_ratio'] = data['living_area'] / data['total_area']\n",
    "data['kitchen_to_total_ratio'] = data['kitchen_area'] / data['total_area']"
   ]
  },
  {
   "cell_type": "markdown",
   "metadata": {},
   "source": [
    "## Исследовательский анализ данных"
   ]
  },
  {
   "cell_type": "markdown",
   "metadata": {},
   "source": [
    "1. Изучите следующие параметры: площадь, цена, число комнат, высота потолков. Постройте гистограммы для каждого параметра.\n",
    "2. Изучите время продажи квартиры. Постройте гистограмму. Посчитайте среднее и медиану. Опишите, сколько обычно занимает продажа. Когда можно считать, что продажи прошли очень быстро, а когда необычно долго?\n",
    "3. Уберите редкие и выбивающиеся значения. Опишите, какие особенности обнаружили.\n",
    "4. Какие факторы больше всего влияют на стоимость квартиры? Изучите, зависит ли цена от площади, числа комнат, удалённости от центра. Изучите зависимость цены от того, на каком этаже расположена квартира: первом, последнем или другом. Также изучите зависимость от даты размещения: дня недели, месяца и года.\n",
    "5. Выберите 10 населённых пунктов с наибольшим числом объявлений. Посчитайте среднюю цену квадратного метра в этих населённых пунктах. Выделите населённые пункты с самой высокой и низкой стоимостью жилья. Эти данные можно найти по имени в столбце locality_name.\n",
    "6. Изучите предложения квартир: для каждой квартиры есть информация о расстоянии до центра. Выделите квартиры в Санкт-Петербурге (locality_name). Ваша задача — выяснить, какая область входит в центр. Создайте столбец с расстоянием до центра в километрах: округлите до целых значений. После этого посчитайте среднюю цену для каждого километра. Постройте график: он должен показывать, как цена зависит от удалённости от центра. Определите границу, где график сильно меняется, — это и будет центральная зона.\n",
    "7. Выделите сегмент квартир в центре. Проанализируйте эту территорию и изучите следующие параметры: площадь, цена, число комнат, высота потолков. Также выделите факторы, которые влияют на стоимость квартиры (число комнат, этаж, удалённость от центра, дата размещения объявления). Сделайте выводы. Отличаются ли они от общих выводов по всему городу?"
   ]
  },
  {
   "cell_type": "code",
   "execution_count": 11,
   "metadata": {},
   "outputs": [
    {
     "data": {
      "text/plain": [
       "Text(0.5, 0, 'Высота потолков')"
      ]
     },
     "execution_count": 11,
     "metadata": {},
     "output_type": "execute_result"
    },
    {
     "data": {
      "image/png": "[encoded data removed]",
      "text/plain": [
       "<Figure size 432x288 with 1 Axes>"
      ]
     },
     "metadata": {
      "needs_background": "light"
     },
     "output_type": "display_data"
    },
    {
     "data": {
      "image/png": "[encoded data removed]",
      "text/plain": [
       "<Figure size 432x288 with 1 Axes>"
      ]
     },
     "metadata": {
      "needs_background": "light"
     },
     "output_type": "display_data"
    },
    {
     "data": {
      "image/png": "[encoded data removed]",
      "text/plain": [
       "<Figure size 432x288 with 1 Axes>"
      ]
     },
     "metadata": {
      "needs_background": "light"
     },
     "output_type": "display_data"
    },
    {
     "data": {
      "image/png": "[encoded data removed]",
      "text/plain": [
       "<Figure size 432x288 with 1 Axes>"
      ]
     },
     "metadata": {
      "needs_background": "light"
     },
     "output_type": "display_data"
    }
   ],
   "source": [
    "data.plot(kind='hist', y='total_area', bins=100, grid=True, range = (0, 200), title='Самая частая площадь')\n",
    "plt.xlabel('Общая площадь')\n",
    "data.plot(kind='hist', y='last_price', bins=100, grid=True, range = (0, 30000000), title='График цен')\n",
    "plt.xlabel('Цена')\n",
    "data.plot(kind='hist', y='rooms', bins=19, grid=True, range = (0, 10), title='Какое количество комнат больше всего')\n",
    "plt.xlabel('Количество комнат')\n",
    "data.plot(kind='hist', y='ceiling_height', bins=30, grid=True, range = (2.4, 4), title='Частота высоты потолков')\n",
    "plt.xlabel('Высота потолков')"
   ]
  },
  {
   "cell_type": "code",
   "execution_count": 12,
   "metadata": {},
   "outputs": [
    {
     "data": {
      "text/plain": [
       "count    20518.000000\n",
       "mean        58.870830\n",
       "std         34.077046\n",
       "min         12.000000\n",
       "25%         39.500000\n",
       "50%         50.900000\n",
       "75%         67.900000\n",
       "max        900.000000\n",
       "Name: total_area, dtype: float64"
      ]
     },
     "execution_count": 12,
     "metadata": {},
     "output_type": "execute_result"
    },
    {
     "data": {
      "image/png": "[encoded data removed]",
      "text/plain": [
       "<Figure size 432x288 with 1 Axes>"
      ]
     },
     "metadata": {
      "needs_background": "light"
     },
     "output_type": "display_data"
    }
   ],
   "source": [
    "plt.boxplot(data['total_area'])\n",
    "plt.title('Диаграмма размаха')\n",
    "plt.xlabel('Общая площадь, м²')\n",
    "plt.ylim(0, 150)\n",
    "data['total_area'].describe()"
   ]
  },
  {
   "cell_type": "code",
   "execution_count": 13,
   "metadata": {},
   "outputs": [
    {
     "data": {
      "text/plain": [
       "count    2.051800e+04\n",
       "mean     6.266173e+06\n",
       "std      1.086298e+07\n",
       "min      1.219000e+04\n",
       "25%      3.400000e+06\n",
       "50%      4.500000e+06\n",
       "75%      6.500000e+06\n",
       "max      7.630000e+08\n",
       "Name: last_price, dtype: float64"
      ]
     },
     "execution_count": 13,
     "metadata": {},
     "output_type": "execute_result"
    },
    {
     "data": {
      "image/png": "[encoded data removed]",
      "text/plain": [
       "<Figure size 432x288 with 1 Axes>"
      ]
     },
     "metadata": {
      "needs_background": "light"
     },
     "output_type": "display_data"
    }
   ],
   "source": [
    "plt.boxplot(data['last_price'])\n",
    "plt.title('Диаграмма размаха')\n",
    "plt.xlabel('Цена, м²')\n",
    "plt.ylim(0, 25000000)\n",
    "data['last_price'].describe()"
   ]
  },
  {
   "cell_type": "code",
   "execution_count": 14,
   "metadata": {},
   "outputs": [
    {
     "data": {
      "text/plain": [
       "count    20518.000000\n",
       "mean         2.024564\n",
       "std          1.054808\n",
       "min          0.000000\n",
       "25%          1.000000\n",
       "50%          2.000000\n",
       "75%          3.000000\n",
       "max         19.000000\n",
       "Name: rooms, dtype: float64"
      ]
     },
     "execution_count": 14,
     "metadata": {},
     "output_type": "execute_result"
    },
    {
     "data": {
      "image/png": "[encoded data removed]",
      "text/plain": [
       "<Figure size 432x288 with 1 Axes>"
      ]
     },
     "metadata": {
      "needs_background": "light"
     },
     "output_type": "display_data"
    }
   ],
   "source": [
    "plt.boxplot(data['rooms'])\n",
    "plt.title('Диаграмма размаха')\n",
    "plt.xlabel('Число комнат')\n",
    "plt.ylim(0, 7)\n",
    "data['rooms'].describe()"
   ]
  },
  {
   "cell_type": "code",
   "execution_count": 15,
   "metadata": {},
   "outputs": [
    {
     "data": {
      "text/plain": [
       "(0, 12000000)"
      ]
     },
     "execution_count": 15,
     "metadata": {},
     "output_type": "execute_result"
    },
    {
     "data": {
      "image/png": "[encoded data removed]",
      "text/plain": [
       "<Figure size 432x288 with 1 Axes>"
      ]
     },
     "metadata": {
      "needs_background": "light"
     },
     "output_type": "display_data"
    }
   ],
   "source": [
    "plt.boxplot(data['last_price'])\n",
    "plt.title('Диаграмма размаха')\n",
    "plt.xlabel('Цена')\n",
    "data['last_price'].describe()\n",
    "plt.ylim(0, 12000000)"
   ]
  },
  {
   "cell_type": "code",
   "execution_count": 16,
   "metadata": {},
   "outputs": [
    {
     "data": {
      "text/html": [
       "<div>\n",
       "<style scoped>\n",
       "    .dataframe tbody tr th:only-of-type {\n",
       "        vertical-align: middle;\n",
       "    }\n",
       "\n",
       "    .dataframe tbody tr th {\n",
       "        vertical-align: top;\n",
       "    }\n",
       "\n",
       "    .dataframe thead th {\n",
       "        text-align: right;\n",
       "    }\n",
       "</style>\n",
       "<table border=\"1\" class=\"dataframe\">\n",
       "  <thead>\n",
       "    <tr style=\"text-align: right;\">\n",
       "      <th></th>\n",
       "      <th>total_images</th>\n",
       "      <th>last_price</th>\n",
       "      <th>total_area</th>\n",
       "      <th>first_day_exposition</th>\n",
       "      <th>rooms</th>\n",
       "      <th>ceiling_height</th>\n",
       "      <th>floors_total</th>\n",
       "      <th>living_area</th>\n",
       "      <th>floor</th>\n",
       "      <th>is_apartment</th>\n",
       "      <th>...</th>\n",
       "      <th>ponds_around3000</th>\n",
       "      <th>ponds_nearest</th>\n",
       "      <th>days_exposition</th>\n",
       "      <th>price_per_square_meter</th>\n",
       "      <th>weekday</th>\n",
       "      <th>month</th>\n",
       "      <th>year</th>\n",
       "      <th>floor_category</th>\n",
       "      <th>living_to_total_ratio</th>\n",
       "      <th>kitchen_to_total_ratio</th>\n",
       "    </tr>\n",
       "  </thead>\n",
       "  <tbody>\n",
       "    <tr>\n",
       "      <td>1</td>\n",
       "      <td>7</td>\n",
       "      <td>3350000</td>\n",
       "      <td>40.40</td>\n",
       "      <td>2018-12-04</td>\n",
       "      <td>1</td>\n",
       "      <td>2.65</td>\n",
       "      <td>11.0</td>\n",
       "      <td>18.6</td>\n",
       "      <td>1</td>\n",
       "      <td>False</td>\n",
       "      <td>...</td>\n",
       "      <td>0</td>\n",
       "      <td>NaN</td>\n",
       "      <td>81</td>\n",
       "      <td>82920</td>\n",
       "      <td>1</td>\n",
       "      <td>12</td>\n",
       "      <td>2018</td>\n",
       "      <td>первый</td>\n",
       "      <td>0.460396</td>\n",
       "      <td>0.272277</td>\n",
       "    </tr>\n",
       "    <tr>\n",
       "      <td>2</td>\n",
       "      <td>10</td>\n",
       "      <td>5196000</td>\n",
       "      <td>56.00</td>\n",
       "      <td>2015-08-20</td>\n",
       "      <td>2</td>\n",
       "      <td>2.65</td>\n",
       "      <td>5.0</td>\n",
       "      <td>34.3</td>\n",
       "      <td>4</td>\n",
       "      <td>False</td>\n",
       "      <td>...</td>\n",
       "      <td>2</td>\n",
       "      <td>574.0</td>\n",
       "      <td>558</td>\n",
       "      <td>92785</td>\n",
       "      <td>3</td>\n",
       "      <td>8</td>\n",
       "      <td>2015</td>\n",
       "      <td>другой</td>\n",
       "      <td>0.612500</td>\n",
       "      <td>0.148214</td>\n",
       "    </tr>\n",
       "    <tr>\n",
       "      <td>3</td>\n",
       "      <td>0</td>\n",
       "      <td>64900000</td>\n",
       "      <td>159.00</td>\n",
       "      <td>2015-07-24</td>\n",
       "      <td>3</td>\n",
       "      <td>2.65</td>\n",
       "      <td>14.0</td>\n",
       "      <td>NaN</td>\n",
       "      <td>9</td>\n",
       "      <td>False</td>\n",
       "      <td>...</td>\n",
       "      <td>3</td>\n",
       "      <td>234.0</td>\n",
       "      <td>424</td>\n",
       "      <td>408176</td>\n",
       "      <td>4</td>\n",
       "      <td>7</td>\n",
       "      <td>2015</td>\n",
       "      <td>другой</td>\n",
       "      <td>NaN</td>\n",
       "      <td>NaN</td>\n",
       "    </tr>\n",
       "    <tr>\n",
       "      <td>4</td>\n",
       "      <td>2</td>\n",
       "      <td>10000000</td>\n",
       "      <td>100.00</td>\n",
       "      <td>2018-06-19</td>\n",
       "      <td>2</td>\n",
       "      <td>3.03</td>\n",
       "      <td>14.0</td>\n",
       "      <td>32.0</td>\n",
       "      <td>13</td>\n",
       "      <td>False</td>\n",
       "      <td>...</td>\n",
       "      <td>1</td>\n",
       "      <td>48.0</td>\n",
       "      <td>121</td>\n",
       "      <td>100000</td>\n",
       "      <td>1</td>\n",
       "      <td>6</td>\n",
       "      <td>2018</td>\n",
       "      <td>другой</td>\n",
       "      <td>0.320000</td>\n",
       "      <td>0.410000</td>\n",
       "    </tr>\n",
       "    <tr>\n",
       "      <td>5</td>\n",
       "      <td>10</td>\n",
       "      <td>2890000</td>\n",
       "      <td>30.40</td>\n",
       "      <td>2018-09-10</td>\n",
       "      <td>1</td>\n",
       "      <td>2.65</td>\n",
       "      <td>12.0</td>\n",
       "      <td>14.4</td>\n",
       "      <td>5</td>\n",
       "      <td>False</td>\n",
       "      <td>...</td>\n",
       "      <td>0</td>\n",
       "      <td>NaN</td>\n",
       "      <td>55</td>\n",
       "      <td>95065</td>\n",
       "      <td>0</td>\n",
       "      <td>9</td>\n",
       "      <td>2018</td>\n",
       "      <td>другой</td>\n",
       "      <td>0.473684</td>\n",
       "      <td>0.299342</td>\n",
       "    </tr>\n",
       "    <tr>\n",
       "      <td>...</td>\n",
       "      <td>...</td>\n",
       "      <td>...</td>\n",
       "      <td>...</td>\n",
       "      <td>...</td>\n",
       "      <td>...</td>\n",
       "      <td>...</td>\n",
       "      <td>...</td>\n",
       "      <td>...</td>\n",
       "      <td>...</td>\n",
       "      <td>...</td>\n",
       "      <td>...</td>\n",
       "      <td>...</td>\n",
       "      <td>...</td>\n",
       "      <td>...</td>\n",
       "      <td>...</td>\n",
       "      <td>...</td>\n",
       "      <td>...</td>\n",
       "      <td>...</td>\n",
       "      <td>...</td>\n",
       "      <td>...</td>\n",
       "      <td>...</td>\n",
       "    </tr>\n",
       "    <tr>\n",
       "      <td>23691</td>\n",
       "      <td>11</td>\n",
       "      <td>9470000</td>\n",
       "      <td>72.90</td>\n",
       "      <td>2016-10-13</td>\n",
       "      <td>2</td>\n",
       "      <td>2.75</td>\n",
       "      <td>25.0</td>\n",
       "      <td>40.3</td>\n",
       "      <td>7</td>\n",
       "      <td>False</td>\n",
       "      <td>...</td>\n",
       "      <td>1</td>\n",
       "      <td>806.0</td>\n",
       "      <td>519</td>\n",
       "      <td>129903</td>\n",
       "      <td>3</td>\n",
       "      <td>10</td>\n",
       "      <td>2016</td>\n",
       "      <td>другой</td>\n",
       "      <td>0.552812</td>\n",
       "      <td>0.145405</td>\n",
       "    </tr>\n",
       "    <tr>\n",
       "      <td>23692</td>\n",
       "      <td>2</td>\n",
       "      <td>1350000</td>\n",
       "      <td>30.00</td>\n",
       "      <td>2017-07-07</td>\n",
       "      <td>1</td>\n",
       "      <td>2.65</td>\n",
       "      <td>5.0</td>\n",
       "      <td>17.5</td>\n",
       "      <td>4</td>\n",
       "      <td>False</td>\n",
       "      <td>...</td>\n",
       "      <td>0</td>\n",
       "      <td>NaN</td>\n",
       "      <td>413</td>\n",
       "      <td>45000</td>\n",
       "      <td>4</td>\n",
       "      <td>7</td>\n",
       "      <td>2017</td>\n",
       "      <td>другой</td>\n",
       "      <td>0.583333</td>\n",
       "      <td>0.200000</td>\n",
       "    </tr>\n",
       "    <tr>\n",
       "      <td>23693</td>\n",
       "      <td>9</td>\n",
       "      <td>4600000</td>\n",
       "      <td>62.40</td>\n",
       "      <td>2016-08-05</td>\n",
       "      <td>3</td>\n",
       "      <td>2.60</td>\n",
       "      <td>9.0</td>\n",
       "      <td>40.0</td>\n",
       "      <td>8</td>\n",
       "      <td>False</td>\n",
       "      <td>...</td>\n",
       "      <td>1</td>\n",
       "      <td>675.0</td>\n",
       "      <td>239</td>\n",
       "      <td>73717</td>\n",
       "      <td>4</td>\n",
       "      <td>8</td>\n",
       "      <td>2016</td>\n",
       "      <td>другой</td>\n",
       "      <td>0.641026</td>\n",
       "      <td>0.128205</td>\n",
       "    </tr>\n",
       "    <tr>\n",
       "      <td>23695</td>\n",
       "      <td>14</td>\n",
       "      <td>3100000</td>\n",
       "      <td>59.00</td>\n",
       "      <td>2018-01-15</td>\n",
       "      <td>3</td>\n",
       "      <td>2.65</td>\n",
       "      <td>5.0</td>\n",
       "      <td>38.0</td>\n",
       "      <td>4</td>\n",
       "      <td>False</td>\n",
       "      <td>...</td>\n",
       "      <td>0</td>\n",
       "      <td>NaN</td>\n",
       "      <td>45</td>\n",
       "      <td>52542</td>\n",
       "      <td>0</td>\n",
       "      <td>1</td>\n",
       "      <td>2018</td>\n",
       "      <td>другой</td>\n",
       "      <td>0.644068</td>\n",
       "      <td>0.144068</td>\n",
       "    </tr>\n",
       "    <tr>\n",
       "      <td>23697</td>\n",
       "      <td>13</td>\n",
       "      <td>11475000</td>\n",
       "      <td>76.75</td>\n",
       "      <td>2017-03-28</td>\n",
       "      <td>2</td>\n",
       "      <td>3.00</td>\n",
       "      <td>17.0</td>\n",
       "      <td>NaN</td>\n",
       "      <td>12</td>\n",
       "      <td>False</td>\n",
       "      <td>...</td>\n",
       "      <td>3</td>\n",
       "      <td>196.0</td>\n",
       "      <td>602</td>\n",
       "      <td>149511</td>\n",
       "      <td>1</td>\n",
       "      <td>3</td>\n",
       "      <td>2017</td>\n",
       "      <td>другой</td>\n",
       "      <td>NaN</td>\n",
       "      <td>0.303583</td>\n",
       "    </tr>\n",
       "  </tbody>\n",
       "</table>\n",
       "<p>20518 rows × 29 columns</p>\n",
       "</div>"
      ],
      "text/plain": [
       "       total_images  last_price  total_area first_day_exposition  rooms  \\\n",
       "1                 7     3350000       40.40           2018-12-04      1   \n",
       "2                10     5196000       56.00           2015-08-20      2   \n",
       "3                 0    64900000      159.00           2015-07-24      3   \n",
       "4                 2    10000000      100.00           2018-06-19      2   \n",
       "5                10     2890000       30.40           2018-09-10      1   \n",
       "...             ...         ...         ...                  ...    ...   \n",
       "23691            11     9470000       72.90           2016-10-13      2   \n",
       "23692             2     1350000       30.00           2017-07-07      1   \n",
       "23693             9     4600000       62.40           2016-08-05      3   \n",
       "23695            14     3100000       59.00           2018-01-15      3   \n",
       "23697            13    11475000       76.75           2017-03-28      2   \n",
       "\n",
       "       ceiling_height  floors_total  living_area  floor  is_apartment  ...  \\\n",
       "1                2.65          11.0         18.6      1         False  ...   \n",
       "2                2.65           5.0         34.3      4         False  ...   \n",
       "3                2.65          14.0          NaN      9         False  ...   \n",
       "4                3.03          14.0         32.0     13         False  ...   \n",
       "5                2.65          12.0         14.4      5         False  ...   \n",
       "...               ...           ...          ...    ...           ...  ...   \n",
       "23691            2.75          25.0         40.3      7         False  ...   \n",
       "23692            2.65           5.0         17.5      4         False  ...   \n",
       "23693            2.60           9.0         40.0      8         False  ...   \n",
       "23695            2.65           5.0         38.0      4         False  ...   \n",
       "23697            3.00          17.0          NaN     12         False  ...   \n",
       "\n",
       "       ponds_around3000  ponds_nearest  days_exposition  \\\n",
       "1                     0            NaN               81   \n",
       "2                     2          574.0              558   \n",
       "3                     3          234.0              424   \n",
       "4                     1           48.0              121   \n",
       "5                     0            NaN               55   \n",
       "...                 ...            ...              ...   \n",
       "23691                 1          806.0              519   \n",
       "23692                 0            NaN              413   \n",
       "23693                 1          675.0              239   \n",
       "23695                 0            NaN               45   \n",
       "23697                 3          196.0              602   \n",
       "\n",
       "       price_per_square_meter weekday  month  year  floor_category  \\\n",
       "1                       82920       1     12  2018          первый   \n",
       "2                       92785       3      8  2015          другой   \n",
       "3                      408176       4      7  2015          другой   \n",
       "4                      100000       1      6  2018          другой   \n",
       "5                       95065       0      9  2018          другой   \n",
       "...                       ...     ...    ...   ...             ...   \n",
       "23691                  129903       3     10  2016          другой   \n",
       "23692                   45000       4      7  2017          другой   \n",
       "23693                   73717       4      8  2016          другой   \n",
       "23695                   52542       0      1  2018          другой   \n",
       "23697                  149511       1      3  2017          другой   \n",
       "\n",
       "       living_to_total_ratio  kitchen_to_total_ratio  \n",
       "1                   0.460396                0.272277  \n",
       "2                   0.612500                0.148214  \n",
       "3                        NaN                     NaN  \n",
       "4                   0.320000                0.410000  \n",
       "5                   0.473684                0.299342  \n",
       "...                      ...                     ...  \n",
       "23691               0.552812                0.145405  \n",
       "23692               0.583333                0.200000  \n",
       "23693               0.641026                0.128205  \n",
       "23695               0.644068                0.144068  \n",
       "23697                    NaN                0.303583  \n",
       "\n",
       "[20518 rows x 29 columns]"
      ]
     },
     "execution_count": 16,
     "metadata": {},
     "output_type": "execute_result"
    }
   ],
   "source": [
    "data"
   ]
  },
  {
   "cell_type": "markdown",
   "metadata": {},
   "source": [
    "Вывод:\n",
    "1. Площадь колеблется от 30 до 100 квадратных метров\n",
    "2. Цена похожа на нормальное распределение. Большинство квартир продают в районе 4 млн рублей\n",
    "3. Больше всего однушек и двушек\n",
    "4. Наблюдаем, что больше всего квартир с высотой потолков около 2.65 метров"
   ]
  },
  {
   "cell_type": "code",
   "execution_count": 16,
   "metadata": {},
   "outputs": [
    {
     "data": {
      "text/plain": [
       "count    20518.000000\n",
       "mean       180.888634\n",
       "std        219.727988\n",
       "min          1.000000\n",
       "25%         45.000000\n",
       "50%         95.000000\n",
       "75%        232.000000\n",
       "max       1580.000000\n",
       "Name: days_exposition, dtype: float64"
      ]
     },
     "execution_count": 16,
     "metadata": {},
     "output_type": "execute_result"
    },
    {
     "data": {
      "image/png": "[encoded data removed]",
      "text/plain": [
       "<Figure size 432x288 with 1 Axes>"
      ]
     },
     "metadata": {
      "needs_background": "light"
     },
     "output_type": "display_data"
    }
   ],
   "source": [
    "#Изучите время продажи квартиры. Постройте гистограмму. \n",
    "#Посчитайте среднее и медиану. Опишите, сколько обычно занимает продажа.\n",
    "\n",
    "data.plot(kind = 'hist', y = 'days_exposition', bins = 80, grid = True)\n",
    "data[data['days_exposition'] != 0]['days_exposition'].describe()"
   ]
  },
  {
   "cell_type": "markdown",
   "metadata": {},
   "source": [
    "Вывод: В среднем продажа квартиры занимает 180 дней."
   ]
  },
  {
   "cell_type": "code",
   "execution_count": 17,
   "metadata": {},
   "outputs": [],
   "source": [
    "data = data.query('days_exposition != 45 and days_exposition != 60 and days_exposition != 7 and days_exposition != 30 and days_exposition != 90 and days_exposition < 600')\n",
    "data = data.query('rooms < 7') #больше 7 комнат считаются выбросами\n",
    "data = data.query('total_area > 12 and total_area < 175') #на самом деле выбросами можно считать комнаты больше 120 кв.м., однако по графику следует сделать вывод, что квартиры больше 175 кв.м. действитель считаются редким явлением.\n",
    "data = data.query('last_price < 12000000') #выбросом на диаграмме являлись данные в районе 12 млн рублей.\n",
    "good_data = data.query('ceiling_height > 2.4 and ceiling_height < 3.5') #посмотрел в интернете, что минимальная высота потолков для комфортной жизни 2.4, а максимальная 3.5. опираясь на вышеуказанные данные по потолкам исключил данные выбросы"
   ]
  },
  {
   "cell_type": "code",
   "execution_count": 18,
   "metadata": {
    "scrolled": true
   },
   "outputs": [
    {
     "data": {
      "text/plain": [
       "Text(0.5, 0, 'Цена')"
      ]
     },
     "execution_count": 18,
     "metadata": {},
     "output_type": "execute_result"
    },
    {
     "data": {
      "image/png": "[encoded data removed]",
      "text/plain": [
       "<Figure size 432x288 with 1 Axes>"
      ]
     },
     "metadata": {
      "needs_background": "light"
     },
     "output_type": "display_data"
    },
    {
     "data": {
      "image/png": "[encoded data removed]",
      "text/plain": [
       "<Figure size 432x288 with 1 Axes>"
      ]
     },
     "metadata": {
      "needs_background": "light"
     },
     "output_type": "display_data"
    },
    {
     "data": {
      "image/png": "[encoded data removed]",
      "text/plain": [
       "<Figure size 432x288 with 1 Axes>"
      ]
     },
     "metadata": {
      "needs_background": "light"
     },
     "output_type": "display_data"
    },
    {
     "data": {
      "image/png": "[encoded data removed]",
      "text/plain": [
       "<Figure size 432x288 with 1 Axes>"
      ]
     },
     "metadata": {
      "needs_background": "light"
     },
     "output_type": "display_data"
    },
    {
     "data": {
      "image/png": "[encoded data removed]",
      "text/plain": [
       "<Figure size 432x288 with 1 Axes>"
      ]
     },
     "metadata": {
      "needs_background": "light"
     },
     "output_type": "display_data"
    }
   ],
   "source": [
    "good_data.plot(kind='hist', y='days_exposition', grid=True, range=(0,650), bins=80)\n",
    "plt.xlabel('Сколько дней было размещено объявление')\n",
    "good_data.plot(kind='hist', y='ceiling_height', grid=True)\n",
    "plt.xlabel('Высота потолков')\n",
    "good_data.plot(kind='hist', y='rooms', grid=True)\n",
    "plt.xlabel('Комнаты')\n",
    "good_data.plot(kind='hist', y='total_area', grid=True)\n",
    "plt.xlabel('Площадь')\n",
    "good_data.plot(kind='hist', y='last_price', bins=100, grid=True, range = (0, 30000000), title='График цен')\n",
    "plt.xlabel('Цена')"
   ]
  },
  {
   "cell_type": "markdown",
   "metadata": {},
   "source": [
    "Вывод:\n",
    "1. Заметил аномально высокие показатели на 7, 30, 45, 60 и 90 день. Скорее всего это связано с автоматическим снятием объявления с сервиса, что и подтвердилось в ходе исследования вопроса. \n",
    "2. Очистил данные. Видим низходящую диаграмму. Большинство продаж занимает около 200 - 300 дней. Продажи больше 600 дней считаются сверхдолгими, поэтому будем считать их выбросами.\n",
    "3. Потолки ниже 2.4 метров и выше 3.5 метров убрал. Минимальная для комфортного проживания считаются потолки 2.4 метра, а высокими считаются 3 метра, однако возможно есть элитные квартиры с очень высокими потолками, поэтому их я оставил.\n",
    "4. Удалил квартиры дороже 12 млн. \n",
    "5. Удалил выбросы в площади квартир. Данные больше 175 и меньше 12 считаются выбросами."
   ]
  },
  {
   "cell_type": "code",
   "execution_count": 19,
   "metadata": {},
   "outputs": [
    {
     "data": {
      "text/plain": [
       "0.4656118832354659"
      ]
     },
     "execution_count": 19,
     "metadata": {},
     "output_type": "execute_result"
    },
    {
     "data": {
      "image/png": "[encoded data removed]",
      "text/plain": [
       "<Figure size 432x288 with 1 Axes>"
      ]
     },
     "metadata": {
      "needs_background": "light"
     },
     "output_type": "display_data"
    }
   ],
   "source": [
    "#Какие факторы больше всего влияют на стоимость квартиры? \n",
    "#Изучите, зависит ли цена от площади, числа комнат, удалённости от центра. \n",
    "#Изучите зависимость цены от того, на каком этаже расположена квартира: первом, последнем или другом. \n",
    "#Также изучите зависимость от даты размещения: дня недели, месяца и года.\n",
    "\n",
    "room_price_dependence = good_data.query('rooms != 0').pivot_table(index='rooms', values='last_price', aggfunc=['mean', 'median', 'count'])\n",
    "room_price_dependence.columns = ['mean', 'median', 'count']\n",
    "room_price_dependence['mean'] = room_price_dependence['mean'].astype('int')\n",
    "room_price_dependence['median'] = room_price_dependence['median'].astype('int')\n",
    "room_price_dependence.query('count > 100').plot(y='median', style='-o', grid=True)\n",
    "good_data['rooms'].corr(good_data['last_price'])"
   ]
  },
  {
   "cell_type": "markdown",
   "metadata": {},
   "source": [
    "Вывод: Как видим из графика, цена за квартиру с каждой дополнительной комнатой становится всё выше."
   ]
  },
  {
   "cell_type": "code",
   "execution_count": 20,
   "metadata": {},
   "outputs": [
    {
     "data": {
      "text/plain": [
       "0.7148677066649095"
      ]
     },
     "execution_count": 20,
     "metadata": {},
     "output_type": "execute_result"
    },
    {
     "data": {
      "image/png": "[encoded data removed]",
      "text/plain": [
       "<Figure size 432x288 with 1 Axes>"
      ]
     },
     "metadata": {
      "needs_background": "light"
     },
     "output_type": "display_data"
    }
   ],
   "source": [
    "area_price_dependence = good_data.pivot_table(index='total_area', values='last_price', aggfunc=['mean', 'median', 'count'])\n",
    "area_price_dependence.columns = ['mean', 'median', 'count']\n",
    "area_price_dependence['mean'] = area_price_dependence['mean'].astype('int')\n",
    "area_price_dependence['median'] = area_price_dependence['median'].astype('int')\n",
    "area_price_dependence.plot(y='median', style='o', grid=True, alpha=0.3)\n",
    "good_data['total_area'].corr(good_data['last_price'])"
   ]
  },
  {
   "cell_type": "markdown",
   "metadata": {},
   "source": [
    "Вывод: Видим положительную корреляцию. Чем больше площадь, тем больше цена за квартиру."
   ]
  },
  {
   "cell_type": "code",
   "execution_count": 21,
   "metadata": {},
   "outputs": [
    {
     "data": {
      "text/plain": [
       "-0.3370078345134622"
      ]
     },
     "execution_count": 21,
     "metadata": {},
     "output_type": "execute_result"
    },
    {
     "data": {
      "image/png": "[encoded data removed]",
      "text/plain": [
       "<Figure size 432x288 with 1 Axes>"
      ]
     },
     "metadata": {
      "needs_background": "light"
     },
     "output_type": "display_data"
    }
   ],
   "source": [
    "price_citycenter_dependence = good_data.pivot_table(index='cityCenters_nearest', values='last_price', aggfunc=['mean', 'median', 'count'])\n",
    "price_citycenter_dependence.columns = ['mean', 'median', 'count']\n",
    "price_citycenter_dependence.plot(y='median', grid=True, style='o', alpha=0.5)\n",
    "good_data['cityCenters_nearest'].corr(good_data['last_price'])"
   ]
  },
  {
   "cell_type": "markdown",
   "metadata": {},
   "source": [
    "Вывод: Видим незначительную отрицательную корреляцию. Цена на квартиры показывают заметное увеличение в районе 10 км от центра города. "
   ]
  },
  {
   "cell_type": "code",
   "execution_count": 22,
   "metadata": {},
   "outputs": [
    {
     "data": {
      "text/plain": [
       "<matplotlib.axes._subplots.AxesSubplot at 0x7f86cbb0eed0>"
      ]
     },
     "execution_count": 22,
     "metadata": {},
     "output_type": "execute_result"
    },
    {
     "data": {
      "image/png": "[encoded data removed]",
      "text/plain": [
       "<Figure size 432x288 with 1 Axes>"
      ]
     },
     "metadata": {
      "needs_background": "light"
     },
     "output_type": "display_data"
    }
   ],
   "source": [
    "floor_price_dependence = good_data.pivot_table(index='floor_category', values='last_price', aggfunc=['mean', 'median', 'count'])\n",
    "floor_price_dependence.columns = ['mean', 'median', 'count']\n",
    "floor_price_dependence.plot(y='median', grid=True,  kind='bar')"
   ]
  },
  {
   "cell_type": "markdown",
   "metadata": {},
   "source": [
    "Вывод: Самые дешевые квартиры на первом этаже. Наиболее дорогие квартиры находятся между первым и последним этажем."
   ]
  },
  {
   "cell_type": "code",
   "execution_count": 23,
   "metadata": {},
   "outputs": [
    {
     "data": {
      "text/plain": [
       "-0.010062513292927311"
      ]
     },
     "execution_count": 23,
     "metadata": {},
     "output_type": "execute_result"
    },
    {
     "data": {
      "image/png": "[encoded data removed]",
      "text/plain": [
       "<Figure size 432x288 with 1 Axes>"
      ]
     },
     "metadata": {
      "needs_background": "light"
     },
     "output_type": "display_data"
    }
   ],
   "source": [
    "weekday_data = good_data.pivot_table(index='weekday', values='last_price', aggfunc=['mean', 'median', 'count'])\n",
    "weekday_data.columns = ['mean', 'median', 'count']\n",
    "weekday_data.plot(y='median', grid=True, style='-o')\n",
    "good_data['weekday'].corr(good_data['last_price'])"
   ]
  },
  {
   "cell_type": "markdown",
   "metadata": {},
   "source": [
    "Вывод: Самая низкая цена на квартиру в воскресенье. Пик приходится на вторник."
   ]
  },
  {
   "cell_type": "code",
   "execution_count": 24,
   "metadata": {},
   "outputs": [
    {
     "data": {
      "text/plain": [
       "-0.001280180375027885"
      ]
     },
     "execution_count": 24,
     "metadata": {},
     "output_type": "execute_result"
    },
    {
     "data": {
      "image/png": "[encoded data removed]",
      "text/plain": [
       "<Figure size 432x288 with 1 Axes>"
      ]
     },
     "metadata": {
      "needs_background": "light"
     },
     "output_type": "display_data"
    }
   ],
   "source": [
    "month_data = good_data.pivot_table(index='month', values='last_price', aggfunc=['mean', 'median', 'count'])\n",
    "month_data.columns = ['mean', 'median', 'count']\n",
    "month_data.plot(y='median', grid=True, style='-o')\n",
    "good_data['month'].corr(good_data['last_price'])"
   ]
  },
  {
   "cell_type": "markdown",
   "metadata": {},
   "source": [
    "Вывод: Самая низкая цена на квартиру в июне. Пик цен приходится на апрель и ноябрь."
   ]
  },
  {
   "cell_type": "code",
   "execution_count": 25,
   "metadata": {},
   "outputs": [
    {
     "data": {
      "text/plain": [
       "-0.0006796983992361829"
      ]
     },
     "execution_count": 25,
     "metadata": {},
     "output_type": "execute_result"
    },
    {
     "data": {
      "image/png": "[encoded data removed]",
      "text/plain": [
       "<Figure size 432x288 with 1 Axes>"
      ]
     },
     "metadata": {
      "needs_background": "light"
     },
     "output_type": "display_data"
    }
   ],
   "source": [
    "year_data = good_data.pivot_table(index='year', values='last_price', aggfunc=['mean', 'median', 'count'])\n",
    "year_data.columns = ['mean', 'median', 'count']\n",
    "year_data.plot(y='median', grid=True, style='-o')\n",
    "good_data['year'].corr(good_data['last_price'])"
   ]
  },
  {
   "cell_type": "markdown",
   "metadata": {},
   "source": [
    "Вывод: Видим резкое снижение цены на квадратные метры в 2015 году. Провел мини-исследование и убедился, что в 2015 в России произошел экономический кризис. По этой причине произошла стагнация цен на квадратные метры. "
   ]
  },
  {
   "cell_type": "code",
   "execution_count": 26,
   "metadata": {},
   "outputs": [
    {
     "data": {
      "text/html": [
       "<div>\n",
       "<style scoped>\n",
       "    .dataframe tbody tr th:only-of-type {\n",
       "        vertical-align: middle;\n",
       "    }\n",
       "\n",
       "    .dataframe tbody tr th {\n",
       "        vertical-align: top;\n",
       "    }\n",
       "\n",
       "    .dataframe thead th {\n",
       "        text-align: right;\n",
       "    }\n",
       "</style>\n",
       "<table border=\"1\" class=\"dataframe\">\n",
       "  <thead>\n",
       "    <tr style=\"text-align: right;\">\n",
       "      <th></th>\n",
       "      <th>mean</th>\n",
       "      <th>count</th>\n",
       "    </tr>\n",
       "    <tr>\n",
       "      <th>locality_name</th>\n",
       "      <th></th>\n",
       "      <th></th>\n",
       "    </tr>\n",
       "  </thead>\n",
       "  <tbody>\n",
       "    <tr>\n",
       "      <td>Санкт-Петербург</td>\n",
       "      <td>104056.099505</td>\n",
       "      <td>10311</td>\n",
       "    </tr>\n",
       "    <tr>\n",
       "      <td>посёлок Мурино</td>\n",
       "      <td>85786.781250</td>\n",
       "      <td>448</td>\n",
       "    </tr>\n",
       "    <tr>\n",
       "      <td>посёлок Шушары</td>\n",
       "      <td>78139.924419</td>\n",
       "      <td>344</td>\n",
       "    </tr>\n",
       "    <tr>\n",
       "      <td>Всеволожск</td>\n",
       "      <td>66579.562278</td>\n",
       "      <td>281</td>\n",
       "    </tr>\n",
       "    <tr>\n",
       "      <td>Колпино</td>\n",
       "      <td>74693.808429</td>\n",
       "      <td>261</td>\n",
       "    </tr>\n",
       "    <tr>\n",
       "      <td>посёлок Парголово</td>\n",
       "      <td>89750.179283</td>\n",
       "      <td>251</td>\n",
       "    </tr>\n",
       "    <tr>\n",
       "      <td>деревня Кудрово</td>\n",
       "      <td>92398.112033</td>\n",
       "      <td>241</td>\n",
       "    </tr>\n",
       "    <tr>\n",
       "      <td>Пушкин</td>\n",
       "      <td>99567.092437</td>\n",
       "      <td>238</td>\n",
       "    </tr>\n",
       "    <tr>\n",
       "      <td>Гатчина</td>\n",
       "      <td>67404.185520</td>\n",
       "      <td>221</td>\n",
       "    </tr>\n",
       "    <tr>\n",
       "      <td>Выборг</td>\n",
       "      <td>56916.275000</td>\n",
       "      <td>160</td>\n",
       "    </tr>\n",
       "  </tbody>\n",
       "</table>\n",
       "</div>"
      ],
      "text/plain": [
       "                            mean  count\n",
       "locality_name                          \n",
       "Санкт-Петербург    104056.099505  10311\n",
       "посёлок Мурино      85786.781250    448\n",
       "посёлок Шушары      78139.924419    344\n",
       "Всеволожск          66579.562278    281\n",
       "Колпино             74693.808429    261\n",
       "посёлок Парголово   89750.179283    251\n",
       "деревня Кудрово     92398.112033    241\n",
       "Пушкин              99567.092437    238\n",
       "Гатчина             67404.185520    221\n",
       "Выборг              56916.275000    160"
      ]
     },
     "execution_count": 26,
     "metadata": {},
     "output_type": "execute_result"
    }
   ],
   "source": [
    "#Выберите 10 населённых пунктов с наибольшим числом объявлений. \n",
    "#Посчитайте среднюю цену квадратного метра в этих населённых пунктах. \n",
    "#Выделите населённые пункты с самой высокой и низкой стоимостью жилья. \n",
    "#Эти данные можно найти по имени в столбце locality_name.\n",
    "\n",
    "locality_ad = good_data.pivot_table(index='locality_name', values='price_per_square_meter', aggfunc=['mean', 'count'])\n",
    "locality_ad.columns = ['mean', 'count']\n",
    "locality_ad.sort_values(by='count', ascending=False).head(10)"
   ]
  },
  {
   "cell_type": "markdown",
   "metadata": {},
   "source": [
    "Вывод: Наиболее высокая средняя цена за квадратный метр в Санкт-Петербурге. Самая низкая средняя цена в Выборге. "
   ]
  },
  {
   "cell_type": "code",
   "execution_count": 27,
   "metadata": {},
   "outputs": [
    {
     "data": {
      "text/html": [
       "<div>\n",
       "<style scoped>\n",
       "    .dataframe tbody tr th:only-of-type {\n",
       "        vertical-align: middle;\n",
       "    }\n",
       "\n",
       "    .dataframe tbody tr th {\n",
       "        vertical-align: top;\n",
       "    }\n",
       "\n",
       "    .dataframe thead th {\n",
       "        text-align: right;\n",
       "    }\n",
       "</style>\n",
       "<table border=\"1\" class=\"dataframe\">\n",
       "  <thead>\n",
       "    <tr style=\"text-align: right;\">\n",
       "      <th></th>\n",
       "      <th>last_price</th>\n",
       "    </tr>\n",
       "    <tr>\n",
       "      <th>cityCenters_nearest_km</th>\n",
       "      <th></th>\n",
       "    </tr>\n",
       "  </thead>\n",
       "  <tbody>\n",
       "    <tr>\n",
       "      <td>0</td>\n",
       "      <td>8.010310e+06</td>\n",
       "    </tr>\n",
       "    <tr>\n",
       "      <td>1</td>\n",
       "      <td>7.869111e+06</td>\n",
       "    </tr>\n",
       "    <tr>\n",
       "      <td>2</td>\n",
       "      <td>7.507615e+06</td>\n",
       "    </tr>\n",
       "    <tr>\n",
       "      <td>3</td>\n",
       "      <td>7.165535e+06</td>\n",
       "    </tr>\n",
       "    <tr>\n",
       "      <td>4</td>\n",
       "      <td>7.499103e+06</td>\n",
       "    </tr>\n",
       "    <tr>\n",
       "      <td>5</td>\n",
       "      <td>7.258952e+06</td>\n",
       "    </tr>\n",
       "    <tr>\n",
       "      <td>6</td>\n",
       "      <td>6.666603e+06</td>\n",
       "    </tr>\n",
       "    <tr>\n",
       "      <td>7</td>\n",
       "      <td>6.679095e+06</td>\n",
       "    </tr>\n",
       "    <tr>\n",
       "      <td>8</td>\n",
       "      <td>6.144586e+06</td>\n",
       "    </tr>\n",
       "    <tr>\n",
       "      <td>9</td>\n",
       "      <td>5.291348e+06</td>\n",
       "    </tr>\n",
       "  </tbody>\n",
       "</table>\n",
       "</div>"
      ],
      "text/plain": [
       "                          last_price\n",
       "cityCenters_nearest_km              \n",
       "0                       8.010310e+06\n",
       "1                       7.869111e+06\n",
       "2                       7.507615e+06\n",
       "3                       7.165535e+06\n",
       "4                       7.499103e+06\n",
       "5                       7.258952e+06\n",
       "6                       6.666603e+06\n",
       "7                       6.679095e+06\n",
       "8                       6.144586e+06\n",
       "9                       5.291348e+06"
      ]
     },
     "execution_count": 27,
     "metadata": {},
     "output_type": "execute_result"
    },
    {
     "data": {
      "image/png": "[encoded data removed]",
      "text/plain": [
       "<Figure size 432x288 with 1 Axes>"
      ]
     },
     "metadata": {
      "needs_background": "light"
     },
     "output_type": "display_data"
    }
   ],
   "source": [
    "#Изучите предложения квартир: для каждой квартиры есть информация о расстоянии до центра. \n",
    "#Выделите квартиры в Санкт-Петербурге (locality_name). Ваша задача — выяснить, какая область входит в центр. \n",
    "#Создайте столбец с расстоянием до центра в километрах: округлите до целых значений. \n",
    "#После этого посчитайте среднюю цену для каждого километра. \n",
    "#Постройте график: он должен показывать, как цена зависит от удалённости от центра. \n",
    "#Определите границу, где график сильно меняется, — это и будет центральная зона.\n",
    "\n",
    "good_data['cityCenters_nearest_km'] = good_data['cityCenters_nearest']/1000\n",
    "good_data['cityCenters_nearest_km'] = good_data['cityCenters_nearest_km'].fillna(999)\n",
    "good_data['cityCenters_nearest_km'] = good_data['cityCenters_nearest_km'].astype('int')\n",
    "pivot_table_km = good_data.query('locality_name == \"Санкт-Петербург\" and cityCenters_nearest_km !=999').pivot_table(index = 'cityCenters_nearest_km', values = 'last_price', aggfunc = 'mean')\n",
    "pivot_table_km.plot(grid=True)\n",
    "pivot_table_km.head(10)"
   ]
  },
  {
   "cell_type": "markdown",
   "metadata": {},
   "source": [
    "Вывод: Можно предположить, что центр города заканчивается на третьем километре. Однако Санкт-Петербург большой город, поэтому за центральную зону будем считать 6 километр от центра города. "
   ]
  },
  {
   "cell_type": "code",
   "execution_count": 28,
   "metadata": {},
   "outputs": [],
   "source": [
    "#Выделите сегмент квартир в центре. \n",
    "#Проанализируйте эту территорию и изучите следующие параметры: площадь, цена, число комнат, высота потолков. \n",
    "#Также выделите факторы, которые влияют на стоимость квартиры (число комнат, этаж, удалённость от центра, дата размещения объявления). \n",
    "#Сделайте выводы. Отличаются ли они от общих выводов по всему городу?\n",
    "\n",
    "spb_center = good_data.query('cityCenters_nearest_km <= 6 and locality_name == \"Санкт-Петербург\"')"
   ]
  },
  {
   "cell_type": "code",
   "execution_count": 29,
   "metadata": {},
   "outputs": [
    {
     "data": {
      "text/plain": [
       "count    1425.000000\n",
       "mean       66.163439\n",
       "std        24.183231\n",
       "min        13.000000\n",
       "25%        47.000000\n",
       "50%        63.900000\n",
       "75%        80.500000\n",
       "max       167.000000\n",
       "Name: total_area, dtype: float64"
      ]
     },
     "execution_count": 29,
     "metadata": {},
     "output_type": "execute_result"
    },
    {
     "data": {
      "image/png": "[encoded data removed]",
      "text/plain": [
       "<Figure size 432x288 with 1 Axes>"
      ]
     },
     "metadata": {
      "needs_background": "light"
     },
     "output_type": "display_data"
    }
   ],
   "source": [
    "plt.boxplot(spb_center['total_area'])\n",
    "plt.title('Диаграмма размаха')\n",
    "plt.xlabel('Общая площадь, м²')\n",
    "plt.ylim(0, 175)\n",
    "spb_center['total_area'].describe()"
   ]
  },
  {
   "cell_type": "code",
   "execution_count": 30,
   "metadata": {},
   "outputs": [
    {
     "data": {
      "text/plain": [
       "count      1425.000000\n",
       "mean     115921.608421\n",
       "std       30444.742824\n",
       "min       15345.000000\n",
       "25%       93647.000000\n",
       "50%      110638.000000\n",
       "75%      134210.000000\n",
       "max      292307.000000\n",
       "Name: price_per_square_meter, dtype: float64"
      ]
     },
     "execution_count": 30,
     "metadata": {},
     "output_type": "execute_result"
    },
    {
     "data": {
      "image/png": "[encoded data removed]",
      "text/plain": [
       "<Figure size 432x288 with 1 Axes>"
      ]
     },
     "metadata": {
      "needs_background": "light"
     },
     "output_type": "display_data"
    }
   ],
   "source": [
    "plt.boxplot(spb_center['last_price'])\n",
    "plt.title('Диаграмма размаха')\n",
    "plt.xlabel('Цена, м²')\n",
    "plt.ylim(0, 16000000)\n",
    "spb_center['price_per_square_meter'].describe()"
   ]
  },
  {
   "cell_type": "code",
   "execution_count": 31,
   "metadata": {},
   "outputs": [
    {
     "data": {
      "text/plain": [
       "count    1425.000000\n",
       "mean        2.337544\n",
       "std         1.034055\n",
       "min         0.000000\n",
       "25%         2.000000\n",
       "50%         2.000000\n",
       "75%         3.000000\n",
       "max         6.000000\n",
       "Name: rooms, dtype: float64"
      ]
     },
     "execution_count": 31,
     "metadata": {},
     "output_type": "execute_result"
    },
    {
     "data": {
      "image/png": "[encoded data removed]",
      "text/plain": [
       "<Figure size 432x288 with 1 Axes>"
      ]
     },
     "metadata": {
      "needs_background": "light"
     },
     "output_type": "display_data"
    }
   ],
   "source": [
    "plt.boxplot(spb_center['rooms'])\n",
    "plt.title('Диаграмма размаха')\n",
    "plt.xlabel('Число комнат')\n",
    "plt.ylim(0, 5)\n",
    "spb_center['rooms'].describe()"
   ]
  },
  {
   "cell_type": "code",
   "execution_count": 32,
   "metadata": {},
   "outputs": [
    {
     "data": {
      "text/plain": [
       "count    1425.000000\n",
       "mean        2.827972\n",
       "std         0.240445\n",
       "min         2.460000\n",
       "25%         2.650000\n",
       "50%         2.700000\n",
       "75%         3.000000\n",
       "max         3.490000\n",
       "Name: ceiling_height, dtype: float64"
      ]
     },
     "execution_count": 32,
     "metadata": {},
     "output_type": "execute_result"
    },
    {
     "data": {
      "image/png": "[encoded data removed]",
      "text/plain": [
       "<Figure size 432x288 with 1 Axes>"
      ]
     },
     "metadata": {
      "needs_background": "light"
     },
     "output_type": "display_data"
    }
   ],
   "source": [
    "plt.boxplot(spb_center['ceiling_height'])\n",
    "plt.title('Диаграмма размаха')\n",
    "plt.xlabel('Высота потолков')\n",
    "plt.ylim(2.35, 3.5)\n",
    "spb_center['ceiling_height'].describe()"
   ]
  },
  {
   "cell_type": "markdown",
   "metadata": {},
   "source": [
    "Вывод (сравниваем область с Питером):\n",
    "1. Медианная площадь увеличилась с 55 до 77 м.кв\n",
    "2. Медианная цена увеличилась с 8.8 млн до 12 млн рублей\n",
    "3. Медианное количество комнат увеличилось с 2 до 3\n",
    "4. Медианная высота потолков увеличилась с 2.65 до 2.8 метров\n",
    "\n"
   ]
  },
  {
   "cell_type": "code",
   "execution_count": 33,
   "metadata": {},
   "outputs": [
    {
     "data": {
      "text/plain": [
       "0.4670112134552909"
      ]
     },
     "execution_count": 33,
     "metadata": {},
     "output_type": "execute_result"
    },
    {
     "data": {
      "image/png": "[encoded data removed]",
      "text/plain": [
       "<Figure size 432x288 with 1 Axes>"
      ]
     },
     "metadata": {
      "needs_background": "light"
     },
     "output_type": "display_data"
    }
   ],
   "source": [
    "#Также выделите факторы, которые влияют на стоимость квартиры \n",
    "#(число комнат, этаж, удалённость от центра, дата размещения объявления).\n",
    "\n",
    "spb_center_rooms = spb_center.query('rooms != 0').pivot_table(index='rooms', values='last_price', aggfunc=['mean', 'median', 'count'])\n",
    "spb_center_rooms.columns = ['mean', 'median', 'count']\n",
    "spb_center_rooms['mean'] = spb_center_rooms['mean'].astype('int')\n",
    "spb_center_rooms['median'] = spb_center_rooms['median'].astype('int')\n",
    "spb_center_rooms.query('count > 100').plot(y='median', style='-o', grid=True)\n",
    "spb_center['rooms'].corr(spb_center['last_price'])"
   ]
  },
  {
   "cell_type": "markdown",
   "metadata": {},
   "source": [
    "Вывод: Цена за квартиры значительно отличаются (В Питере цена за квартиру гораздо дороже)"
   ]
  },
  {
   "cell_type": "code",
   "execution_count": 34,
   "metadata": {},
   "outputs": [
    {
     "data": {
      "text/plain": [
       "<matplotlib.axes._subplots.AxesSubplot at 0x7f86cbadf810>"
      ]
     },
     "execution_count": 34,
     "metadata": {},
     "output_type": "execute_result"
    },
    {
     "data": {
      "image/png": "[encoded data removed]",
      "text/plain": [
       "<Figure size 432x288 with 1 Axes>"
      ]
     },
     "metadata": {
      "needs_background": "light"
     },
     "output_type": "display_data"
    }
   ],
   "source": [
    "spb_center_floor = spb_center.pivot_table(index='floor_category', values='last_price', aggfunc=['mean', 'median', 'count'])\n",
    "spb_center_floor.columns = ['mean', 'median', 'count']\n",
    "spb_center_floor.plot(y='median', grid=True,  kind='bar')"
   ]
  },
  {
   "cell_type": "markdown",
   "metadata": {},
   "source": [
    "Вывод: Цена в Питере по этажам гораздо выше. Так например цена на последние и другие этаже в два раза выше! Да уж, я лучше в деревне буду жить :))"
   ]
  },
  {
   "cell_type": "code",
   "execution_count": 35,
   "metadata": {},
   "outputs": [
    {
     "data": {
      "text/plain": [
       "-0.12160383270131107"
      ]
     },
     "execution_count": 35,
     "metadata": {},
     "output_type": "execute_result"
    },
    {
     "data": {
      "image/png": "[encoded data removed]",
      "text/plain": [
       "<Figure size 432x288 with 1 Axes>"
      ]
     },
     "metadata": {
      "needs_background": "light"
     },
     "output_type": "display_data"
    }
   ],
   "source": [
    "spb_center_nearest = spb_center.pivot_table(index='cityCenters_nearest', values='last_price', aggfunc=['mean', 'median', 'count'])\n",
    "spb_center_nearest.columns = ['mean', 'median', 'count']\n",
    "spb_center_nearest.plot(y='median', grid=True, style='o', alpha=0.5)\n",
    "spb_center['cityCenters_nearest'].corr(spb_center['last_price'])"
   ]
  },
  {
   "cell_type": "markdown",
   "metadata": {},
   "source": [
    "Вывод: Очевидно, что цена в радиусе 6 км от центра Питера гораздо выше, чем в общей выборке. Однако цена не уменьшается с отдалением от центральной точки города. "
   ]
  },
  {
   "cell_type": "code",
   "execution_count": 36,
   "metadata": {},
   "outputs": [
    {
     "data": {
      "text/plain": [
       "0.03737423707981105"
      ]
     },
     "execution_count": 36,
     "metadata": {},
     "output_type": "execute_result"
    },
    {
     "data": {
      "image/png": "[encoded data removed]",
      "text/plain": [
       "<Figure size 432x288 with 1 Axes>"
      ]
     },
     "metadata": {
      "needs_background": "light"
     },
     "output_type": "display_data"
    }
   ],
   "source": [
    "spb_center_weekday = spb_center.pivot_table(index='weekday', values='last_price', aggfunc=['mean', 'median', 'count'])\n",
    "spb_center_weekday.columns = ['mean', 'median', 'count']\n",
    "spb_center_weekday.plot(y='median', grid=True, style='-o')\n",
    "spb_center['weekday'].corr(spb_center['last_price'])"
   ]
  },
  {
   "cell_type": "markdown",
   "metadata": {},
   "source": [
    "Вывод: Видим также рост в абсолютных цифрах. Самые дорогие квартиры публикуют в воскресенье."
   ]
  },
  {
   "cell_type": "code",
   "execution_count": 37,
   "metadata": {},
   "outputs": [
    {
     "data": {
      "text/plain": [
       "-0.007170447221615126"
      ]
     },
     "execution_count": 37,
     "metadata": {},
     "output_type": "execute_result"
    },
    {
     "data": {
      "image/png": "[encoded data removed]",
      "text/plain": [
       "<Figure size 432x288 with 1 Axes>"
      ]
     },
     "metadata": {
      "needs_background": "light"
     },
     "output_type": "display_data"
    }
   ],
   "source": [
    "spb_center_month = spb_center.pivot_table(index='month', values='last_price', aggfunc=['mean', 'median', 'count'])\n",
    "spb_center_month.columns = ['mean', 'median', 'count']\n",
    "spb_center_month.plot(y='median', grid=True, style='-o')\n",
    "spb_center['month'].corr(spb_center['last_price'])"
   ]
  },
  {
   "cell_type": "markdown",
   "metadata": {},
   "source": [
    "Вывод: Видно, что самая высокая цена в Питере в марте. Самая низкая в августе."
   ]
  },
  {
   "cell_type": "code",
   "execution_count": 38,
   "metadata": {
    "scrolled": true
   },
   "outputs": [
    {
     "data": {
      "text/plain": [
       "-0.0065602837309114495"
      ]
     },
     "execution_count": 38,
     "metadata": {},
     "output_type": "execute_result"
    },
    {
     "data": {
      "image/png": "[encoded data removed]",
      "text/plain": [
       "<Figure size 432x288 with 1 Axes>"
      ]
     },
     "metadata": {
      "needs_background": "light"
     },
     "output_type": "display_data"
    }
   ],
   "source": [
    "spb_center_year = spb_center.pivot_table(index='year', values='last_price', aggfunc=['mean', 'median', 'count'])\n",
    "spb_center_year.columns = ['mean', 'median', 'count']\n",
    "spb_center_year.plot(y='median', grid=True, style='-o')\n",
    "spb_center['year'].corr(spb_center['last_price'])"
   ]
  },
  {
   "cell_type": "markdown",
   "metadata": {},
   "source": [
    "Вывод: Ситуация по годам схожа с общей выборкой, с одним лишь незначительным отличием: в общей выборке есть тенденция на рост цен на квартиры в 2019 году."
   ]
  },
  {
   "cell_type": "markdown",
   "metadata": {},
   "source": [
    "## Общий вывод"
   ]
  },
  {
   "cell_type": "markdown",
   "metadata": {},
   "source": [
    "1. Цена общей выборки значительно отличаются от центра Санкт-Петербурга\n",
    "2. Видим значительную положительную корреляцию цены от площади (в общей выборке)\n",
    "3. Видим, что в 2015 году экономический кризис значительно повлиял на рынок недвижимости, из-за чего рынок очень долго восстанавливался\n",
    "4. В общей выборке популярным сезоном продажи недвижимости является апрель, в то время как в Питере - январь\n",
    "5. Ожидаемый лидер по цене за кв.м. и по объему объявлений - Питер. Выборг завершает десятку населенных пунктов по популярности."
   ]
  }
 ],
 "metadata": {
  "ExecuteTimeLog": [
   {
    "duration": 66,
    "start_time": "2022-01-04T14:25:31.348Z"
   },
   {
    "duration": 226,
    "start_time": "2022-01-04T14:25:38.948Z"
   },
   {
    "duration": 131,
    "start_time": "2022-01-04T14:25:58.995Z"
   },
   {
    "duration": 555,
    "start_time": "2022-01-04T14:26:07.596Z"
   },
   {
    "duration": 474,
    "start_time": "2022-01-04T14:26:36.424Z"
   },
   {
    "duration": 214,
    "start_time": "2022-01-04T14:26:41.395Z"
   },
   {
    "duration": 464,
    "start_time": "2022-01-04T14:27:17.319Z"
   },
   {
    "duration": 488,
    "start_time": "2022-01-04T14:27:23.817Z"
   },
   {
    "duration": 1042,
    "start_time": "2022-01-04T14:29:08.415Z"
   },
   {
    "duration": 1020,
    "start_time": "2022-01-04T14:29:21.577Z"
   },
   {
    "duration": 720,
    "start_time": "2022-01-04T14:29:54.113Z"
   },
   {
    "duration": 641,
    "start_time": "2022-01-04T14:31:22.079Z"
   },
   {
    "duration": 666,
    "start_time": "2022-01-04T14:34:09.946Z"
   },
   {
    "duration": 640,
    "start_time": "2022-01-04T14:34:23.718Z"
   },
   {
    "duration": 1583,
    "start_time": "2022-01-04T14:41:05.563Z"
   },
   {
    "duration": 632,
    "start_time": "2022-01-04T14:41:09.685Z"
   },
   {
    "duration": 678,
    "start_time": "2022-01-04T14:42:47.975Z"
   },
   {
    "duration": 439,
    "start_time": "2022-01-04T14:43:28.052Z"
   },
   {
    "duration": 533,
    "start_time": "2022-01-04T14:43:47.927Z"
   },
   {
    "duration": 443,
    "start_time": "2022-01-04T14:43:51.623Z"
   },
   {
    "duration": 438,
    "start_time": "2022-01-04T14:43:59.089Z"
   },
   {
    "duration": 9,
    "start_time": "2022-01-04T14:44:07.764Z"
   },
   {
    "duration": 424,
    "start_time": "2022-01-04T14:45:57.016Z"
   },
   {
    "duration": 441,
    "start_time": "2022-01-04T14:46:09.027Z"
   },
   {
    "duration": 434,
    "start_time": "2022-01-04T14:46:15.566Z"
   },
   {
    "duration": 7,
    "start_time": "2022-01-04T14:51:43.132Z"
   },
   {
    "duration": 10,
    "start_time": "2022-01-04T14:51:56.733Z"
   },
   {
    "duration": 7,
    "start_time": "2022-01-04T14:52:01.790Z"
   },
   {
    "duration": 294,
    "start_time": "2022-01-04T14:52:50.072Z"
   },
   {
    "duration": 288,
    "start_time": "2022-01-04T14:53:21.623Z"
   },
   {
    "duration": 223,
    "start_time": "2022-01-04T14:53:50.047Z"
   },
   {
    "duration": 653,
    "start_time": "2022-01-04T14:54:47.913Z"
   },
   {
    "duration": 435,
    "start_time": "2022-01-04T14:55:05.072Z"
   },
   {
    "duration": 180,
    "start_time": "2022-01-04T15:35:07.292Z"
   },
   {
    "duration": 174,
    "start_time": "2022-01-04T15:35:22.617Z"
   },
   {
    "duration": 153,
    "start_time": "2022-01-04T15:35:31.165Z"
   },
   {
    "duration": 462,
    "start_time": "2022-01-04T15:35:41.878Z"
   },
   {
    "duration": 163,
    "start_time": "2022-01-04T15:35:52.862Z"
   },
   {
    "duration": 22,
    "start_time": "2022-01-04T15:49:26.382Z"
   },
   {
    "duration": 21,
    "start_time": "2022-01-04T15:56:03.698Z"
   },
   {
    "duration": 86,
    "start_time": "2022-01-04T15:56:10.317Z"
   },
   {
    "duration": 22,
    "start_time": "2022-01-04T15:56:29.156Z"
   },
   {
    "duration": 22,
    "start_time": "2022-01-04T15:56:44.469Z"
   },
   {
    "duration": 21,
    "start_time": "2022-01-04T15:57:01.164Z"
   },
   {
    "duration": 8,
    "start_time": "2022-01-04T15:57:27.464Z"
   },
   {
    "duration": 7,
    "start_time": "2022-01-04T15:57:32.673Z"
   },
   {
    "duration": 7,
    "start_time": "2022-01-04T15:57:39.493Z"
   },
   {
    "duration": 172,
    "start_time": "2022-01-04T16:00:49.445Z"
   },
   {
    "duration": 160,
    "start_time": "2022-01-04T16:02:01.520Z"
   },
   {
    "duration": 267,
    "start_time": "2022-01-04T16:02:23.692Z"
   },
   {
    "duration": 8,
    "start_time": "2022-01-04T16:06:54.285Z"
   },
   {
    "duration": 7,
    "start_time": "2022-01-04T16:07:09.660Z"
   },
   {
    "duration": 169,
    "start_time": "2022-01-04T16:08:09.392Z"
   },
   {
    "duration": 168,
    "start_time": "2022-01-04T16:15:58.250Z"
   },
   {
    "duration": 168,
    "start_time": "2022-01-04T16:17:12.081Z"
   },
   {
    "duration": 150,
    "start_time": "2022-01-04T16:17:12.412Z"
   },
   {
    "duration": 344,
    "start_time": "2022-01-04T16:17:12.916Z"
   },
   {
    "duration": 159,
    "start_time": "2022-01-04T16:17:13.364Z"
   },
   {
    "duration": 171,
    "start_time": "2022-01-04T16:17:13.750Z"
   },
   {
    "duration": 189,
    "start_time": "2022-01-04T16:17:14.115Z"
   },
   {
    "duration": 635,
    "start_time": "2022-01-25T15:32:12.982Z"
   },
   {
    "duration": 78,
    "start_time": "2022-01-25T15:32:55.312Z"
   },
   {
    "duration": 306,
    "start_time": "2022-01-25T15:38:27.660Z"
   },
   {
    "duration": 6,
    "start_time": "2022-01-25T15:39:00.635Z"
   },
   {
    "duration": 251,
    "start_time": "2022-01-25T15:39:24.057Z"
   },
   {
    "duration": 265,
    "start_time": "2022-01-25T15:44:04.359Z"
   },
   {
    "duration": 669,
    "start_time": "2022-01-25T15:47:20.082Z"
   },
   {
    "duration": 67,
    "start_time": "2022-01-25T15:47:49.830Z"
   },
   {
    "duration": 79,
    "start_time": "2022-01-25T15:48:14.640Z"
   },
   {
    "duration": 63,
    "start_time": "2022-01-25T15:48:17.761Z"
   },
   {
    "duration": 72,
    "start_time": "2022-01-25T15:48:29.305Z"
   },
   {
    "duration": 108,
    "start_time": "2022-01-25T15:48:44.237Z"
   },
   {
    "duration": 75,
    "start_time": "2022-01-25T15:48:53.145Z"
   },
   {
    "duration": 24,
    "start_time": "2022-01-25T15:48:59.595Z"
   },
   {
    "duration": 69,
    "start_time": "2022-01-25T15:49:23.747Z"
   },
   {
    "duration": 31,
    "start_time": "2022-01-25T15:53:45.516Z"
   },
   {
    "duration": 47,
    "start_time": "2022-01-25T15:53:56.165Z"
   },
   {
    "duration": 25,
    "start_time": "2022-01-25T15:55:04.245Z"
   },
   {
    "duration": 25,
    "start_time": "2022-01-25T15:55:20.794Z"
   },
   {
    "duration": 24,
    "start_time": "2022-01-25T15:55:30.388Z"
   },
   {
    "duration": 97,
    "start_time": "2022-01-25T15:56:00.391Z"
   },
   {
    "duration": 25,
    "start_time": "2022-01-25T16:11:14.781Z"
   },
   {
    "duration": 32,
    "start_time": "2022-01-25T16:11:20.802Z"
   },
   {
    "duration": 30,
    "start_time": "2022-01-25T16:11:29.666Z"
   },
   {
    "duration": 5,
    "start_time": "2022-01-25T16:13:01.135Z"
   },
   {
    "duration": 7,
    "start_time": "2022-01-25T16:13:56.842Z"
   },
   {
    "duration": 7,
    "start_time": "2022-01-25T16:14:09.625Z"
   },
   {
    "duration": 7,
    "start_time": "2022-01-25T16:14:16.619Z"
   },
   {
    "duration": 6,
    "start_time": "2022-01-25T16:14:34.891Z"
   },
   {
    "duration": 7,
    "start_time": "2022-01-25T16:14:54.332Z"
   },
   {
    "duration": 22,
    "start_time": "2022-01-25T16:16:08.550Z"
   },
   {
    "duration": 7,
    "start_time": "2022-01-25T16:16:34.635Z"
   },
   {
    "duration": 8,
    "start_time": "2022-01-25T16:16:50.715Z"
   },
   {
    "duration": 6,
    "start_time": "2022-01-25T16:17:21.268Z"
   },
   {
    "duration": 8,
    "start_time": "2022-01-25T16:17:26.415Z"
   },
   {
    "duration": 11,
    "start_time": "2022-01-25T16:17:52.858Z"
   },
   {
    "duration": 7,
    "start_time": "2022-01-25T16:18:59.725Z"
   },
   {
    "duration": 6,
    "start_time": "2022-01-25T16:19:07.252Z"
   },
   {
    "duration": 7,
    "start_time": "2022-01-25T16:22:07.327Z"
   },
   {
    "duration": 197,
    "start_time": "2022-01-25T16:27:47.375Z"
   },
   {
    "duration": 13,
    "start_time": "2022-01-25T16:37:11.887Z"
   },
   {
    "duration": 7,
    "start_time": "2022-01-25T16:37:25.084Z"
   },
   {
    "duration": 13,
    "start_time": "2022-01-25T16:37:29.227Z"
   },
   {
    "duration": 9,
    "start_time": "2022-01-25T16:37:57.127Z"
   },
   {
    "duration": 139,
    "start_time": "2022-01-25T16:38:01.958Z"
   },
   {
    "duration": 289,
    "start_time": "2022-01-25T16:38:22.048Z"
   },
   {
    "duration": 230,
    "start_time": "2022-01-25T16:38:54.511Z"
   },
   {
    "duration": 401,
    "start_time": "2022-01-25T16:38:59.841Z"
   },
   {
    "duration": 192,
    "start_time": "2022-01-25T16:39:04.970Z"
   },
   {
    "duration": 340,
    "start_time": "2022-01-25T16:39:16.783Z"
   },
   {
    "duration": 354,
    "start_time": "2022-01-25T16:39:40.183Z"
   },
   {
    "duration": 346,
    "start_time": "2022-01-25T16:39:47.859Z"
   },
   {
    "duration": 365,
    "start_time": "2022-01-25T16:39:53.054Z"
   },
   {
    "duration": 453,
    "start_time": "2022-01-25T16:39:57.611Z"
   },
   {
    "duration": 358,
    "start_time": "2022-01-25T16:40:05.234Z"
   },
   {
    "duration": 357,
    "start_time": "2022-01-25T16:40:16.306Z"
   },
   {
    "duration": 356,
    "start_time": "2022-01-25T16:40:21.019Z"
   },
   {
    "duration": 386,
    "start_time": "2022-01-25T16:40:25.392Z"
   },
   {
    "duration": 351,
    "start_time": "2022-01-25T16:41:01.824Z"
   },
   {
    "duration": 460,
    "start_time": "2022-01-25T16:42:28.284Z"
   },
   {
    "duration": 364,
    "start_time": "2022-01-25T16:42:34.997Z"
   },
   {
    "duration": 347,
    "start_time": "2022-01-25T16:42:39.295Z"
   },
   {
    "duration": 342,
    "start_time": "2022-01-25T16:42:43.221Z"
   },
   {
    "duration": 381,
    "start_time": "2022-01-25T16:43:20.645Z"
   },
   {
    "duration": 474,
    "start_time": "2022-01-25T16:43:46.686Z"
   },
   {
    "duration": 349,
    "start_time": "2022-01-25T16:45:16.101Z"
   },
   {
    "duration": 364,
    "start_time": "2022-01-25T16:45:42.270Z"
   },
   {
    "duration": 358,
    "start_time": "2022-01-25T16:45:50.918Z"
   },
   {
    "duration": 374,
    "start_time": "2022-01-25T16:46:05.082Z"
   },
   {
    "duration": 383,
    "start_time": "2022-01-25T16:46:22.285Z"
   },
   {
    "duration": 571,
    "start_time": "2022-01-25T16:48:51.771Z"
   },
   {
    "duration": 387,
    "start_time": "2022-01-26T08:41:17.337Z"
   },
   {
    "duration": 303,
    "start_time": "2022-01-26T08:41:23.793Z"
   },
   {
    "duration": 343,
    "start_time": "2022-01-26T08:41:41.745Z"
   },
   {
    "duration": 843,
    "start_time": "2022-01-26T08:41:57.900Z"
   },
   {
    "duration": 48,
    "start_time": "2022-01-26T08:41:58.974Z"
   },
   {
    "duration": 120,
    "start_time": "2022-01-26T08:41:59.544Z"
   },
   {
    "duration": 691,
    "start_time": "2022-01-26T08:42:02.923Z"
   },
   {
    "duration": 622,
    "start_time": "2022-01-26T08:42:12.706Z"
   },
   {
    "duration": 674,
    "start_time": "2022-01-26T08:42:33.867Z"
   },
   {
    "duration": 645,
    "start_time": "2022-01-26T08:43:34.236Z"
   },
   {
    "duration": 561,
    "start_time": "2022-01-26T08:44:12.885Z"
   },
   {
    "duration": 958,
    "start_time": "2022-01-26T08:58:25.684Z"
   },
   {
    "duration": 588,
    "start_time": "2022-01-26T08:59:01.197Z"
   },
   {
    "duration": 647,
    "start_time": "2022-01-26T08:59:06.394Z"
   },
   {
    "duration": 102,
    "start_time": "2022-01-26T09:02:54.702Z"
   },
   {
    "duration": 570,
    "start_time": "2022-01-26T09:03:11.074Z"
   },
   {
    "duration": 148,
    "start_time": "2022-01-26T09:03:22.222Z"
   },
   {
    "duration": 115,
    "start_time": "2022-01-26T09:03:37.702Z"
   },
   {
    "duration": 3006,
    "start_time": "2022-01-26T09:04:09.703Z"
   },
   {
    "duration": 603,
    "start_time": "2022-01-26T09:04:17.777Z"
   },
   {
    "duration": 846,
    "start_time": "2022-01-26T09:06:46.979Z"
   },
   {
    "duration": 47,
    "start_time": "2022-01-26T09:06:48.042Z"
   },
   {
    "duration": 110,
    "start_time": "2022-01-26T09:06:50.981Z"
   },
   {
    "duration": 751,
    "start_time": "2022-01-26T09:07:09.059Z"
   },
   {
    "duration": 680,
    "start_time": "2022-01-26T09:07:32.694Z"
   },
   {
    "duration": 569,
    "start_time": "2022-01-26T09:08:00.282Z"
   },
   {
    "duration": 543,
    "start_time": "2022-01-26T09:10:25.849Z"
   },
   {
    "duration": 542,
    "start_time": "2022-01-26T09:10:33.760Z"
   },
   {
    "duration": 539,
    "start_time": "2022-01-26T09:10:46.862Z"
   },
   {
    "duration": 532,
    "start_time": "2022-01-26T09:12:32.781Z"
   },
   {
    "duration": 640,
    "start_time": "2022-01-26T09:12:39.324Z"
   },
   {
    "duration": 533,
    "start_time": "2022-01-26T09:12:45.848Z"
   },
   {
    "duration": 527,
    "start_time": "2022-01-26T09:12:48.902Z"
   },
   {
    "duration": 540,
    "start_time": "2022-01-26T09:12:59.542Z"
   },
   {
    "duration": 549,
    "start_time": "2022-01-26T09:13:25.657Z"
   },
   {
    "duration": 654,
    "start_time": "2022-01-26T09:13:29.249Z"
   },
   {
    "duration": 685,
    "start_time": "2022-01-26T09:13:45.577Z"
   },
   {
    "duration": 534,
    "start_time": "2022-01-26T09:15:00.140Z"
   },
   {
    "duration": 369,
    "start_time": "2022-01-29T15:56:29.398Z"
   },
   {
    "duration": 299,
    "start_time": "2022-01-29T15:56:35.659Z"
   },
   {
    "duration": 621,
    "start_time": "2022-01-29T15:56:45.640Z"
   },
   {
    "duration": 25,
    "start_time": "2022-01-29T15:56:46.263Z"
   },
   {
    "duration": 61,
    "start_time": "2022-01-29T15:56:46.704Z"
   },
   {
    "duration": 428,
    "start_time": "2022-01-29T15:56:53.554Z"
   },
   {
    "duration": 11,
    "start_time": "2022-01-29T16:11:53.685Z"
   },
   {
    "duration": 27,
    "start_time": "2022-01-29T16:15:23.262Z"
   },
   {
    "duration": 3,
    "start_time": "2022-01-29T16:15:43.596Z"
   },
   {
    "duration": 11,
    "start_time": "2022-01-29T16:15:44.227Z"
   },
   {
    "duration": 473,
    "start_time": "2022-01-29T16:36:22.948Z"
   },
   {
    "duration": 410,
    "start_time": "2022-01-29T16:36:50.035Z"
   },
   {
    "duration": 21,
    "start_time": "2022-01-29T16:37:52.351Z"
   },
   {
    "duration": 29,
    "start_time": "2022-01-29T16:39:25.895Z"
   },
   {
    "duration": 5,
    "start_time": "2022-01-29T16:39:34.778Z"
   },
   {
    "duration": 214,
    "start_time": "2022-01-29T16:44:22.521Z"
   },
   {
    "duration": 221,
    "start_time": "2022-01-29T16:44:37.138Z"
   },
   {
    "duration": 226,
    "start_time": "2022-01-29T16:44:54.032Z"
   },
   {
    "duration": 223,
    "start_time": "2022-01-29T16:44:57.822Z"
   },
   {
    "duration": 338,
    "start_time": "2022-01-29T16:45:01.957Z"
   },
   {
    "duration": 2464,
    "start_time": "2022-01-29T16:45:06.328Z"
   },
   {
    "duration": 324,
    "start_time": "2022-01-29T16:45:09.241Z"
   },
   {
    "duration": 138,
    "start_time": "2022-01-29T16:53:11.673Z"
   },
   {
    "duration": 341,
    "start_time": "2022-01-29T16:53:28.730Z"
   },
   {
    "duration": 341,
    "start_time": "2022-01-29T16:53:41.300Z"
   },
   {
    "duration": 570,
    "start_time": "2022-01-29T16:54:19.006Z"
   },
   {
    "duration": 411,
    "start_time": "2022-01-29T16:57:07.557Z"
   },
   {
    "duration": 7508,
    "start_time": "2022-01-29T16:57:28.221Z"
   },
   {
    "duration": 617,
    "start_time": "2022-01-29T16:57:42.752Z"
   },
   {
    "duration": 26,
    "start_time": "2022-01-29T16:57:44.583Z"
   },
   {
    "duration": 665,
    "start_time": "2022-01-29T17:16:56.300Z"
   },
   {
    "duration": 25,
    "start_time": "2022-01-29T17:16:56.967Z"
   },
   {
    "duration": 72,
    "start_time": "2022-01-29T17:16:56.996Z"
   },
   {
    "duration": 406,
    "start_time": "2022-01-29T17:16:57.070Z"
   },
   {
    "duration": 8,
    "start_time": "2022-01-29T17:16:58.093Z"
   },
   {
    "duration": 11,
    "start_time": "2022-01-29T17:16:58.479Z"
   },
   {
    "duration": 466,
    "start_time": "2022-01-29T17:16:58.825Z"
   },
   {
    "duration": 5,
    "start_time": "2022-01-29T17:16:59.564Z"
   },
   {
    "duration": 332,
    "start_time": "2022-01-29T17:17:01.685Z"
   },
   {
    "duration": 7322,
    "start_time": "2022-01-29T17:17:02.870Z"
   },
   {
    "duration": 313,
    "start_time": "2022-01-29T17:18:23.118Z"
   },
   {
    "duration": 328,
    "start_time": "2022-01-29T17:18:27.328Z"
   },
   {
    "duration": 649,
    "start_time": "2022-01-29T17:18:30.500Z"
   },
   {
    "duration": 726,
    "start_time": "2022-01-29T17:18:48.501Z"
   },
   {
    "duration": 633,
    "start_time": "2022-01-29T17:20:34.087Z"
   },
   {
    "duration": 621,
    "start_time": "2022-01-29T17:20:38.575Z"
   },
   {
    "duration": 737,
    "start_time": "2022-01-29T17:20:45.986Z"
   },
   {
    "duration": 642,
    "start_time": "2022-01-29T17:20:58.390Z"
   },
   {
    "duration": 638,
    "start_time": "2022-01-29T17:21:05.133Z"
   },
   {
    "duration": 650,
    "start_time": "2022-01-29T17:21:29.253Z"
   },
   {
    "duration": 796,
    "start_time": "2022-01-29T17:40:34.582Z"
   },
   {
    "duration": 689,
    "start_time": "2022-01-29T17:41:44.703Z"
   },
   {
    "duration": 645,
    "start_time": "2022-01-29T17:43:43.298Z"
   },
   {
    "duration": 658,
    "start_time": "2022-01-29T17:44:36.057Z"
   },
   {
    "duration": 786,
    "start_time": "2022-01-29T17:44:40.177Z"
   },
   {
    "duration": 656,
    "start_time": "2022-01-29T17:44:42.622Z"
   },
   {
    "duration": 629,
    "start_time": "2022-01-29T17:45:31.034Z"
   },
   {
    "duration": 769,
    "start_time": "2022-01-29T17:46:05.672Z"
   },
   {
    "duration": 761,
    "start_time": "2022-01-29T17:46:23.781Z"
   },
   {
    "duration": 712,
    "start_time": "2022-01-29T17:46:28.528Z"
   },
   {
    "duration": 832,
    "start_time": "2022-01-29T17:49:12.033Z"
   },
   {
    "duration": 1067,
    "start_time": "2022-01-29T17:49:28.599Z"
   },
   {
    "duration": 870,
    "start_time": "2022-01-29T17:50:08.895Z"
   },
   {
    "duration": 1077,
    "start_time": "2022-01-29T17:50:20.376Z"
   },
   {
    "duration": 860,
    "start_time": "2022-01-29T17:50:31.040Z"
   },
   {
    "duration": 851,
    "start_time": "2022-01-29T17:51:43.841Z"
   },
   {
    "duration": 1282,
    "start_time": "2022-01-29T17:53:31.476Z"
   },
   {
    "duration": 1183,
    "start_time": "2022-01-29T17:53:41.704Z"
   },
   {
    "duration": 1265,
    "start_time": "2022-01-29T17:53:51.948Z"
   },
   {
    "duration": 1078,
    "start_time": "2022-01-29T17:54:22.620Z"
   },
   {
    "duration": 1195,
    "start_time": "2022-01-29T17:54:36.999Z"
   },
   {
    "duration": 1053,
    "start_time": "2022-01-29T17:54:44.703Z"
   },
   {
    "duration": 10,
    "start_time": "2022-01-29T18:02:02.707Z"
   },
   {
    "duration": 184,
    "start_time": "2022-01-29T18:05:08.203Z"
   },
   {
    "duration": 245,
    "start_time": "2022-01-29T18:05:14.558Z"
   },
   {
    "duration": 381,
    "start_time": "2022-01-29T18:05:29.080Z"
   },
   {
    "duration": 449,
    "start_time": "2022-01-29T18:05:32.248Z"
   },
   {
    "duration": 281,
    "start_time": "2022-01-29T18:05:39.696Z"
   },
   {
    "duration": 209,
    "start_time": "2022-01-29T18:06:02.911Z"
   },
   {
    "duration": 323,
    "start_time": "2022-01-29T18:06:10.658Z"
   },
   {
    "duration": 220,
    "start_time": "2022-01-29T18:06:19.527Z"
   },
   {
    "duration": 224,
    "start_time": "2022-01-29T18:06:31.652Z"
   },
   {
    "duration": 212,
    "start_time": "2022-01-29T18:06:36.878Z"
   },
   {
    "duration": 210,
    "start_time": "2022-01-29T18:06:47.725Z"
   },
   {
    "duration": 235,
    "start_time": "2022-01-29T18:06:57.343Z"
   },
   {
    "duration": 251,
    "start_time": "2022-01-29T18:07:01.816Z"
   },
   {
    "duration": 345,
    "start_time": "2022-01-29T18:07:07.930Z"
   },
   {
    "duration": 1515,
    "start_time": "2022-01-29T18:07:20.076Z"
   },
   {
    "duration": 497,
    "start_time": "2022-01-29T18:07:26.084Z"
   },
   {
    "duration": 255,
    "start_time": "2022-01-29T18:07:34.800Z"
   },
   {
    "duration": 295,
    "start_time": "2022-01-29T18:07:39.950Z"
   },
   {
    "duration": 339,
    "start_time": "2022-01-29T18:07:45.002Z"
   },
   {
    "duration": 349,
    "start_time": "2022-01-29T18:07:50.048Z"
   },
   {
    "duration": 468,
    "start_time": "2022-01-29T18:16:19.625Z"
   },
   {
    "duration": 177,
    "start_time": "2022-01-29T18:16:33.209Z"
   },
   {
    "duration": 309,
    "start_time": "2022-01-29T18:17:38.819Z"
   },
   {
    "duration": 1207,
    "start_time": "2022-01-29T18:17:47.142Z"
   },
   {
    "duration": 138,
    "start_time": "2022-01-29T18:18:46.639Z"
   },
   {
    "duration": 612,
    "start_time": "2022-01-29T18:19:12.891Z"
   },
   {
    "duration": 125,
    "start_time": "2022-01-29T18:19:21.335Z"
   },
   {
    "duration": 1869,
    "start_time": "2022-01-29T18:19:35.132Z"
   },
   {
    "duration": 125,
    "start_time": "2022-01-29T18:19:38.678Z"
   },
   {
    "duration": 651,
    "start_time": "2022-01-29T18:20:17.383Z"
   },
   {
    "duration": 131,
    "start_time": "2022-01-29T18:20:27.999Z"
   },
   {
    "duration": 134,
    "start_time": "2022-01-29T18:20:33.822Z"
   },
   {
    "duration": 123,
    "start_time": "2022-01-29T18:20:54.081Z"
   },
   {
    "duration": 7055,
    "start_time": "2022-01-29T18:22:44.098Z"
   },
   {
    "duration": 350,
    "start_time": "2022-01-29T18:22:59.685Z"
   },
   {
    "duration": 386,
    "start_time": "2022-01-29T18:23:29.457Z"
   },
   {
    "duration": 443,
    "start_time": "2022-01-29T18:23:59.002Z"
   },
   {
    "duration": 321,
    "start_time": "2022-01-29T18:24:05.306Z"
   },
   {
    "duration": 435,
    "start_time": "2022-01-29T18:24:28.389Z"
   },
   {
    "duration": 415,
    "start_time": "2022-01-29T18:24:38.448Z"
   },
   {
    "duration": 517,
    "start_time": "2022-01-29T18:42:19.481Z"
   },
   {
    "duration": 984,
    "start_time": "2022-01-31T14:07:16.796Z"
   },
   {
    "duration": 67,
    "start_time": "2022-01-31T14:07:17.783Z"
   },
   {
    "duration": 136,
    "start_time": "2022-01-31T14:07:17.853Z"
   },
   {
    "duration": 902,
    "start_time": "2022-01-31T14:07:18.366Z"
   },
   {
    "duration": 7,
    "start_time": "2022-01-31T14:07:19.271Z"
   },
   {
    "duration": 45,
    "start_time": "2022-01-31T14:07:19.281Z"
   },
   {
    "duration": 961,
    "start_time": "2022-01-31T14:07:19.329Z"
   },
   {
    "duration": 7,
    "start_time": "2022-01-31T14:07:20.293Z"
   },
   {
    "duration": 2188,
    "start_time": "2022-01-31T14:07:20.303Z"
   },
   {
    "duration": 874,
    "start_time": "2022-01-31T14:07:22.494Z"
   },
   {
    "duration": 893,
    "start_time": "2022-01-31T14:07:23.371Z"
   },
   {
    "duration": 453,
    "start_time": "2022-01-31T14:07:24.268Z"
   },
   {
    "duration": 416,
    "start_time": "2022-01-31T14:07:47.593Z"
   },
   {
    "duration": 56,
    "start_time": "2022-01-31T14:11:07.743Z"
   },
   {
    "duration": 42,
    "start_time": "2022-01-31T14:11:19.857Z"
   },
   {
    "duration": 52,
    "start_time": "2022-01-31T14:11:29.422Z"
   },
   {
    "duration": 767,
    "start_time": "2022-01-31T14:12:25.385Z"
   },
   {
    "duration": 676,
    "start_time": "2022-01-31T14:12:30.626Z"
   },
   {
    "duration": 517,
    "start_time": "2022-01-31T14:12:41.588Z"
   },
   {
    "duration": 374,
    "start_time": "2022-01-31T14:12:55.638Z"
   },
   {
    "duration": 425,
    "start_time": "2022-01-31T14:15:45.514Z"
   },
   {
    "duration": 879,
    "start_time": "2022-01-31T14:16:07.738Z"
   },
   {
    "duration": 1095,
    "start_time": "2022-01-31T14:16:28.643Z"
   },
   {
    "duration": 10752,
    "start_time": "2022-01-31T14:16:57.644Z"
   },
   {
    "duration": 388,
    "start_time": "2022-01-31T14:17:45.833Z"
   },
   {
    "duration": 397,
    "start_time": "2022-01-31T14:18:06.996Z"
   },
   {
    "duration": 394,
    "start_time": "2022-01-31T14:18:11.890Z"
   },
   {
    "duration": 363,
    "start_time": "2022-01-31T14:18:32.607Z"
   },
   {
    "duration": 402,
    "start_time": "2022-01-31T14:20:03.987Z"
   },
   {
    "duration": 411,
    "start_time": "2022-01-31T14:20:12.059Z"
   },
   {
    "duration": 480,
    "start_time": "2022-01-31T14:20:37.368Z"
   },
   {
    "duration": 355,
    "start_time": "2022-01-31T14:23:18.998Z"
   },
   {
    "duration": 407,
    "start_time": "2022-01-31T14:23:40.764Z"
   },
   {
    "duration": 383,
    "start_time": "2022-01-31T14:23:50.427Z"
   },
   {
    "duration": 8864,
    "start_time": "2022-01-31T14:27:27.580Z"
   },
   {
    "duration": 9953,
    "start_time": "2022-01-31T14:27:46.138Z"
   },
   {
    "duration": 102,
    "start_time": "2022-01-31T14:28:05.309Z"
   },
   {
    "duration": 8688,
    "start_time": "2022-01-31T14:28:23.974Z"
   },
   {
    "duration": 310,
    "start_time": "2022-01-31T14:28:52.162Z"
   },
   {
    "duration": 290,
    "start_time": "2022-01-31T14:29:11.648Z"
   },
   {
    "duration": 302,
    "start_time": "2022-01-31T14:29:14.933Z"
   },
   {
    "duration": 338,
    "start_time": "2022-01-31T14:30:00.423Z"
   },
   {
    "duration": 379,
    "start_time": "2022-01-31T14:30:23.900Z"
   },
   {
    "duration": 405,
    "start_time": "2022-01-31T14:30:41.403Z"
   },
   {
    "duration": 407,
    "start_time": "2022-01-31T14:30:48.302Z"
   },
   {
    "duration": 373,
    "start_time": "2022-01-31T14:31:05.685Z"
   },
   {
    "duration": 184,
    "start_time": "2022-01-31T14:31:53.764Z"
   },
   {
    "duration": 282,
    "start_time": "2022-01-31T14:31:57.564Z"
   },
   {
    "duration": 285,
    "start_time": "2022-01-31T14:32:16.287Z"
   },
   {
    "duration": 284,
    "start_time": "2022-01-31T14:32:24.482Z"
   },
   {
    "duration": 425,
    "start_time": "2022-01-31T14:32:39.949Z"
   },
   {
    "duration": 1759,
    "start_time": "2022-01-31T14:33:39.278Z"
   },
   {
    "duration": 284,
    "start_time": "2022-01-31T14:34:02.956Z"
   },
   {
    "duration": 707,
    "start_time": "2022-01-31T14:35:53.503Z"
   },
   {
    "duration": 10776,
    "start_time": "2022-01-31T14:36:07.577Z"
   },
   {
    "duration": 327,
    "start_time": "2022-01-31T14:36:19.103Z"
   },
   {
    "duration": 318,
    "start_time": "2022-01-31T14:36:30.533Z"
   },
   {
    "duration": 550,
    "start_time": "2022-01-31T14:36:38.194Z"
   },
   {
    "duration": 20,
    "start_time": "2022-01-31T16:33:31.922Z"
   },
   {
    "duration": 40,
    "start_time": "2022-01-31T16:49:38.674Z"
   },
   {
    "duration": 390,
    "start_time": "2022-01-31T16:51:34.577Z"
   },
   {
    "duration": 383,
    "start_time": "2022-01-31T16:51:50.297Z"
   },
   {
    "duration": 369,
    "start_time": "2022-01-31T16:52:09.037Z"
   },
   {
    "duration": 1336,
    "start_time": "2022-01-31T16:53:15.797Z"
   },
   {
    "duration": 426,
    "start_time": "2022-01-31T16:53:35.773Z"
   },
   {
    "duration": 471,
    "start_time": "2022-01-31T16:54:24.902Z"
   },
   {
    "duration": 436,
    "start_time": "2022-01-31T16:55:18.582Z"
   },
   {
    "duration": 462,
    "start_time": "2022-01-31T16:57:13.880Z"
   },
   {
    "duration": 443,
    "start_time": "2022-01-31T16:57:34.467Z"
   },
   {
    "duration": 497,
    "start_time": "2022-01-31T16:57:38.000Z"
   },
   {
    "duration": 998,
    "start_time": "2022-01-31T16:58:33.310Z"
   },
   {
    "duration": 61,
    "start_time": "2022-01-31T16:58:34.311Z"
   },
   {
    "duration": 127,
    "start_time": "2022-01-31T16:58:34.375Z"
   },
   {
    "duration": 926,
    "start_time": "2022-01-31T16:58:34.505Z"
   },
   {
    "duration": 9,
    "start_time": "2022-01-31T16:58:35.435Z"
   },
   {
    "duration": 45,
    "start_time": "2022-01-31T16:58:35.450Z"
   },
   {
    "duration": 1134,
    "start_time": "2022-01-31T16:58:35.545Z"
   },
   {
    "duration": 8,
    "start_time": "2022-01-31T16:58:36.684Z"
   },
   {
    "duration": 2623,
    "start_time": "2022-01-31T16:58:36.695Z"
   },
   {
    "duration": 953,
    "start_time": "2022-01-31T16:58:39.324Z"
   },
   {
    "duration": 1105,
    "start_time": "2022-01-31T16:58:40.285Z"
   },
   {
    "duration": 593,
    "start_time": "2022-01-31T16:58:41.394Z"
   },
   {
    "duration": 474,
    "start_time": "2022-01-31T16:58:41.989Z"
   },
   {
    "duration": 534,
    "start_time": "2022-01-31T16:58:42.466Z"
   },
   {
    "duration": 339,
    "start_time": "2022-01-31T16:58:43.003Z"
   },
   {
    "duration": 398,
    "start_time": "2022-01-31T16:58:43.345Z"
   },
   {
    "duration": 388,
    "start_time": "2022-01-31T16:58:43.747Z"
   },
   {
    "duration": 427,
    "start_time": "2022-01-31T16:58:44.138Z"
   },
   {
    "duration": 422,
    "start_time": "2022-01-31T16:58:51.813Z"
   },
   {
    "duration": 169,
    "start_time": "2022-01-31T17:04:30.361Z"
   },
   {
    "duration": 1324,
    "start_time": "2022-01-31T17:04:49.005Z"
   },
   {
    "duration": 444,
    "start_time": "2022-01-31T17:05:01.462Z"
   },
   {
    "duration": 12840,
    "start_time": "2022-01-31T17:05:44.005Z"
   },
   {
    "duration": 511,
    "start_time": "2022-01-31T17:06:09.171Z"
   },
   {
    "duration": 494,
    "start_time": "2022-01-31T17:06:45.048Z"
   },
   {
    "duration": 61,
    "start_time": "2022-01-31T17:06:50.109Z"
   },
   {
    "duration": 26,
    "start_time": "2022-01-31T17:07:00.751Z"
   },
   {
    "duration": 74,
    "start_time": "2022-01-31T17:08:01.994Z"
   },
   {
    "duration": 67,
    "start_time": "2022-01-31T17:10:55.869Z"
   },
   {
    "duration": 2815,
    "start_time": "2022-01-31T17:11:04.764Z"
   },
   {
    "duration": 56,
    "start_time": "2022-01-31T17:11:18.602Z"
   },
   {
    "duration": 61,
    "start_time": "2022-01-31T17:11:53.643Z"
   },
   {
    "duration": 41,
    "start_time": "2022-01-31T17:12:49.462Z"
   },
   {
    "duration": 32,
    "start_time": "2022-01-31T17:13:08.371Z"
   },
   {
    "duration": 50,
    "start_time": "2022-01-31T17:13:36.953Z"
   },
   {
    "duration": 55,
    "start_time": "2022-01-31T17:13:42.103Z"
   },
   {
    "duration": 468,
    "start_time": "2022-01-31T17:14:59.850Z"
   },
   {
    "duration": 465,
    "start_time": "2022-01-31T17:16:09.338Z"
   },
   {
    "duration": 561,
    "start_time": "2022-01-31T17:16:22.602Z"
   },
   {
    "duration": 813,
    "start_time": "2022-01-31T17:16:26.069Z"
   },
   {
    "duration": 118,
    "start_time": "2022-01-31T17:16:46.965Z"
   },
   {
    "duration": 136,
    "start_time": "2022-01-31T17:16:58.262Z"
   },
   {
    "duration": 133,
    "start_time": "2022-01-31T17:17:09.788Z"
   },
   {
    "duration": 1120,
    "start_time": "2022-01-31T17:17:16.250Z"
   },
   {
    "duration": 70,
    "start_time": "2022-01-31T17:17:17.373Z"
   },
   {
    "duration": 160,
    "start_time": "2022-01-31T17:17:17.447Z"
   },
   {
    "duration": 1163,
    "start_time": "2022-01-31T17:17:17.878Z"
   },
   {
    "duration": 22,
    "start_time": "2022-01-31T17:17:19.044Z"
   },
   {
    "duration": 25,
    "start_time": "2022-01-31T17:17:19.073Z"
   },
   {
    "duration": 1163,
    "start_time": "2022-01-31T17:17:19.101Z"
   },
   {
    "duration": 7,
    "start_time": "2022-01-31T17:17:20.267Z"
   },
   {
    "duration": 3350,
    "start_time": "2022-01-31T17:17:20.276Z"
   },
   {
    "duration": 1196,
    "start_time": "2022-01-31T17:17:23.629Z"
   },
   {
    "duration": 1172,
    "start_time": "2022-01-31T17:17:24.830Z"
   },
   {
    "duration": 549,
    "start_time": "2022-01-31T17:17:26.006Z"
   },
   {
    "duration": 542,
    "start_time": "2022-01-31T17:17:26.559Z"
   },
   {
    "duration": 540,
    "start_time": "2022-01-31T17:17:27.105Z"
   },
   {
    "duration": 379,
    "start_time": "2022-01-31T17:17:27.648Z"
   },
   {
    "duration": 507,
    "start_time": "2022-01-31T17:17:28.030Z"
   },
   {
    "duration": 440,
    "start_time": "2022-01-31T17:17:28.539Z"
   },
   {
    "duration": 496,
    "start_time": "2022-01-31T17:17:28.982Z"
   },
   {
    "duration": 134,
    "start_time": "2022-01-31T17:17:29.485Z"
   },
   {
    "duration": 134,
    "start_time": "2022-01-31T17:17:40.784Z"
   },
   {
    "duration": 35,
    "start_time": "2022-01-31T17:18:04.381Z"
   },
   {
    "duration": 335,
    "start_time": "2022-01-31T17:18:12.873Z"
   },
   {
    "duration": 370,
    "start_time": "2022-01-31T17:18:20.323Z"
   },
   {
    "duration": 351,
    "start_time": "2022-01-31T17:18:37.762Z"
   },
   {
    "duration": 1122,
    "start_time": "2022-01-31T17:18:57.770Z"
   },
   {
    "duration": 1110,
    "start_time": "2022-01-31T17:19:01.611Z"
   },
   {
    "duration": 412,
    "start_time": "2022-01-31T17:19:05.648Z"
   },
   {
    "duration": 536,
    "start_time": "2022-01-31T17:19:09.969Z"
   },
   {
    "duration": 413,
    "start_time": "2022-01-31T17:19:15.406Z"
   },
   {
    "duration": 456,
    "start_time": "2022-01-31T17:19:29.119Z"
   },
   {
    "duration": 863,
    "start_time": "2022-01-31T17:20:00.756Z"
   },
   {
    "duration": 476,
    "start_time": "2022-01-31T17:20:41.898Z"
   },
   {
    "duration": 994,
    "start_time": "2022-01-31T17:22:03.963Z"
   },
   {
    "duration": 858,
    "start_time": "2022-01-31T17:23:42.384Z"
   },
   {
    "duration": 1059,
    "start_time": "2022-01-31T17:23:56.010Z"
   },
   {
    "duration": 806,
    "start_time": "2022-01-31T17:31:00.948Z"
   },
   {
    "duration": 908,
    "start_time": "2022-01-31T17:31:10.819Z"
   },
   {
    "duration": 921,
    "start_time": "2022-01-31T17:31:23.496Z"
   },
   {
    "duration": 1025,
    "start_time": "2022-01-31T17:31:42.959Z"
   },
   {
    "duration": 794,
    "start_time": "2022-01-31T17:32:10.970Z"
   },
   {
    "duration": 1166,
    "start_time": "2022-01-31T17:32:17.716Z"
   },
   {
    "duration": 405,
    "start_time": "2022-01-31T17:32:21.092Z"
   },
   {
    "duration": 1079,
    "start_time": "2022-01-31T17:33:19.122Z"
   },
   {
    "duration": 974,
    "start_time": "2022-01-31T17:33:42.938Z"
   },
   {
    "duration": 959,
    "start_time": "2022-01-31T17:33:50.253Z"
   },
   {
    "duration": 839,
    "start_time": "2022-01-31T17:33:56.554Z"
   },
   {
    "duration": 973,
    "start_time": "2022-01-31T17:34:15.700Z"
   },
   {
    "duration": 910,
    "start_time": "2022-01-31T17:34:53.136Z"
   },
   {
    "duration": 778,
    "start_time": "2022-01-31T17:35:07.107Z"
   },
   {
    "duration": 86,
    "start_time": "2022-01-31T17:36:24.549Z"
   },
   {
    "duration": 61,
    "start_time": "2022-01-31T17:36:46.893Z"
   },
   {
    "duration": 70,
    "start_time": "2022-01-31T17:36:52.368Z"
   },
   {
    "duration": 79,
    "start_time": "2022-01-31T17:37:10.242Z"
   },
   {
    "duration": 77,
    "start_time": "2022-01-31T17:37:19.770Z"
   },
   {
    "duration": 23,
    "start_time": "2022-01-31T17:37:28.958Z"
   },
   {
    "duration": 28,
    "start_time": "2022-01-31T17:37:41.062Z"
   },
   {
    "duration": 721,
    "start_time": "2022-01-31T17:50:37.040Z"
   },
   {
    "duration": 554,
    "start_time": "2022-01-31T17:50:46.360Z"
   },
   {
    "duration": 591,
    "start_time": "2022-01-31T17:51:02.670Z"
   },
   {
    "duration": 108,
    "start_time": "2022-01-31T17:51:15.667Z"
   },
   {
    "duration": 26,
    "start_time": "2022-01-31T17:51:32.968Z"
   },
   {
    "duration": 580,
    "start_time": "2022-01-31T17:53:57.623Z"
   },
   {
    "duration": 457,
    "start_time": "2022-01-31T17:57:02.624Z"
   },
   {
    "duration": 496,
    "start_time": "2022-01-31T17:57:11.654Z"
   },
   {
    "duration": 444,
    "start_time": "2022-01-31T17:57:36.979Z"
   },
   {
    "duration": 503,
    "start_time": "2022-01-31T18:00:12.399Z"
   },
   {
    "duration": 431,
    "start_time": "2022-01-31T18:00:15.657Z"
   },
   {
    "duration": 489,
    "start_time": "2022-01-31T18:11:57.064Z"
   },
   {
    "duration": 377,
    "start_time": "2022-01-31T18:12:04.693Z"
   },
   {
    "duration": 442,
    "start_time": "2022-01-31T18:15:40.861Z"
   },
   {
    "duration": 390,
    "start_time": "2022-01-31T18:16:15.861Z"
   },
   {
    "duration": 1104,
    "start_time": "2022-01-31T18:16:23.393Z"
   },
   {
    "duration": 90,
    "start_time": "2022-01-31T18:16:24.500Z"
   },
   {
    "duration": 150,
    "start_time": "2022-01-31T18:16:24.594Z"
   },
   {
    "duration": 938,
    "start_time": "2022-01-31T18:16:24.748Z"
   },
   {
    "duration": 8,
    "start_time": "2022-01-31T18:16:25.693Z"
   },
   {
    "duration": 55,
    "start_time": "2022-01-31T18:16:25.703Z"
   },
   {
    "duration": 1445,
    "start_time": "2022-01-31T18:16:25.761Z"
   },
   {
    "duration": 8,
    "start_time": "2022-01-31T18:16:27.211Z"
   },
   {
    "duration": 2954,
    "start_time": "2022-01-31T18:16:27.233Z"
   },
   {
    "duration": 917,
    "start_time": "2022-01-31T18:16:30.190Z"
   },
   {
    "duration": 1210,
    "start_time": "2022-01-31T18:16:31.109Z"
   },
   {
    "duration": 495,
    "start_time": "2022-01-31T18:16:32.321Z"
   },
   {
    "duration": 557,
    "start_time": "2022-01-31T18:16:32.818Z"
   },
   {
    "duration": 506,
    "start_time": "2022-01-31T18:16:33.382Z"
   },
   {
    "duration": 406,
    "start_time": "2022-01-31T18:16:33.892Z"
   },
   {
    "duration": 496,
    "start_time": "2022-01-31T18:16:34.302Z"
   },
   {
    "duration": 411,
    "start_time": "2022-01-31T18:16:34.803Z"
   },
   {
    "duration": 410,
    "start_time": "2022-01-31T18:16:35.224Z"
   },
   {
    "duration": 63,
    "start_time": "2022-01-31T18:16:35.638Z"
   },
   {
    "duration": 35,
    "start_time": "2022-01-31T18:16:35.704Z"
   },
   {
    "duration": 746,
    "start_time": "2022-01-31T18:16:35.743Z"
   },
   {
    "duration": 36,
    "start_time": "2022-01-31T18:16:36.456Z"
   },
   {
    "duration": 429,
    "start_time": "2022-01-31T18:17:02.152Z"
   },
   {
    "duration": 976,
    "start_time": "2022-01-31T18:17:16.237Z"
   },
   {
    "duration": 70,
    "start_time": "2022-01-31T18:17:17.216Z"
   },
   {
    "duration": 134,
    "start_time": "2022-01-31T18:17:17.289Z"
   },
   {
    "duration": 924,
    "start_time": "2022-01-31T18:17:17.436Z"
   },
   {
    "duration": 24,
    "start_time": "2022-01-31T18:17:18.363Z"
   },
   {
    "duration": 22,
    "start_time": "2022-01-31T18:17:18.390Z"
   },
   {
    "duration": 1163,
    "start_time": "2022-01-31T18:17:18.415Z"
   },
   {
    "duration": 9,
    "start_time": "2022-01-31T18:17:19.581Z"
   },
   {
    "duration": 2390,
    "start_time": "2022-01-31T18:17:19.594Z"
   },
   {
    "duration": 1061,
    "start_time": "2022-01-31T18:17:21.987Z"
   },
   {
    "duration": 1194,
    "start_time": "2022-01-31T18:17:23.052Z"
   },
   {
    "duration": 597,
    "start_time": "2022-01-31T18:17:24.249Z"
   },
   {
    "duration": 441,
    "start_time": "2022-01-31T18:17:24.849Z"
   },
   {
    "duration": 465,
    "start_time": "2022-01-31T18:17:25.293Z"
   },
   {
    "duration": 316,
    "start_time": "2022-01-31T18:17:25.762Z"
   },
   {
    "duration": 378,
    "start_time": "2022-01-31T18:17:26.081Z"
   },
   {
    "duration": 377,
    "start_time": "2022-01-31T18:17:26.461Z"
   },
   {
    "duration": 377,
    "start_time": "2022-01-31T18:17:26.841Z"
   },
   {
    "duration": 44,
    "start_time": "2022-01-31T18:17:27.224Z"
   },
   {
    "duration": 15,
    "start_time": "2022-01-31T18:17:27.271Z"
   },
   {
    "duration": 412,
    "start_time": "2022-01-31T18:17:27.289Z"
   },
   {
    "duration": 24,
    "start_time": "2022-01-31T18:17:27.704Z"
   },
   {
    "duration": 29,
    "start_time": "2022-01-31T18:17:58.391Z"
   },
   {
    "duration": 13,
    "start_time": "2022-01-31T18:18:04.616Z"
   },
   {
    "duration": 10,
    "start_time": "2022-01-31T18:18:14.546Z"
   },
   {
    "duration": 5,
    "start_time": "2022-01-31T18:18:21.942Z"
   },
   {
    "duration": 351,
    "start_time": "2022-01-31T18:18:27.881Z"
   },
   {
    "duration": 365,
    "start_time": "2022-01-31T18:18:42.528Z"
   },
   {
    "duration": 1041,
    "start_time": "2022-01-31T18:18:49.780Z"
   },
   {
    "duration": 65,
    "start_time": "2022-01-31T18:18:50.832Z"
   },
   {
    "duration": 137,
    "start_time": "2022-01-31T18:18:50.901Z"
   },
   {
    "duration": 921,
    "start_time": "2022-01-31T18:18:51.041Z"
   },
   {
    "duration": 9,
    "start_time": "2022-01-31T18:18:51.965Z"
   },
   {
    "duration": 22,
    "start_time": "2022-01-31T18:18:51.978Z"
   },
   {
    "duration": 1082,
    "start_time": "2022-01-31T18:18:52.002Z"
   },
   {
    "duration": 6,
    "start_time": "2022-01-31T18:18:53.088Z"
   },
   {
    "duration": 2991,
    "start_time": "2022-01-31T18:18:53.097Z"
   },
   {
    "duration": 915,
    "start_time": "2022-01-31T18:18:56.091Z"
   },
   {
    "duration": 1006,
    "start_time": "2022-01-31T18:18:57.009Z"
   },
   {
    "duration": 511,
    "start_time": "2022-01-31T18:18:58.018Z"
   },
   {
    "duration": 483,
    "start_time": "2022-01-31T18:18:58.533Z"
   },
   {
    "duration": 550,
    "start_time": "2022-01-31T18:18:59.023Z"
   },
   {
    "duration": 398,
    "start_time": "2022-01-31T18:18:59.576Z"
   },
   {
    "duration": 497,
    "start_time": "2022-01-31T18:18:59.977Z"
   },
   {
    "duration": 420,
    "start_time": "2022-01-31T18:19:00.477Z"
   },
   {
    "duration": 535,
    "start_time": "2022-01-31T18:19:00.901Z"
   },
   {
    "duration": 75,
    "start_time": "2022-01-31T18:19:01.441Z"
   },
   {
    "duration": 25,
    "start_time": "2022-01-31T18:19:01.519Z"
   },
   {
    "duration": 467,
    "start_time": "2022-01-31T18:19:02.208Z"
   },
   {
    "duration": 19,
    "start_time": "2022-01-31T18:19:12.327Z"
   },
   {
    "duration": 97,
    "start_time": "2022-01-31T18:19:17.415Z"
   },
   {
    "duration": 506,
    "start_time": "2022-01-31T18:19:30.583Z"
   },
   {
    "duration": 497,
    "start_time": "2022-01-31T18:19:33.786Z"
   },
   {
    "duration": 396,
    "start_time": "2022-01-31T18:19:39.699Z"
   },
   {
    "duration": 456,
    "start_time": "2022-01-31T18:19:46.772Z"
   },
   {
    "duration": 507,
    "start_time": "2022-01-31T18:21:06.178Z"
   },
   {
    "duration": 381,
    "start_time": "2022-01-31T18:21:15.768Z"
   },
   {
    "duration": 13,
    "start_time": "2022-01-31T18:21:17.506Z"
   },
   {
    "duration": 255,
    "start_time": "2022-02-01T07:14:34.652Z"
   },
   {
    "duration": 873,
    "start_time": "2022-02-01T07:14:40.743Z"
   },
   {
    "duration": 44,
    "start_time": "2022-02-01T07:14:41.618Z"
   },
   {
    "duration": 116,
    "start_time": "2022-02-01T07:14:41.665Z"
   },
   {
    "duration": 731,
    "start_time": "2022-02-01T07:14:43.044Z"
   },
   {
    "duration": 12,
    "start_time": "2022-02-01T07:14:44.992Z"
   },
   {
    "duration": 18,
    "start_time": "2022-02-01T07:14:45.308Z"
   },
   {
    "duration": 865,
    "start_time": "2022-02-01T07:14:45.896Z"
   },
   {
    "duration": 7,
    "start_time": "2022-02-01T07:14:46.900Z"
   },
   {
    "duration": 1345,
    "start_time": "2022-02-01T07:14:48.847Z"
   },
   {
    "duration": 2123,
    "start_time": "2022-02-01T07:16:09.107Z"
   },
   {
    "duration": 1984,
    "start_time": "2022-02-01T07:16:37.886Z"
   },
   {
    "duration": 1972,
    "start_time": "2022-02-01T07:17:34.421Z"
   },
   {
    "duration": 2087,
    "start_time": "2022-02-01T07:17:43.729Z"
   },
   {
    "duration": 1301,
    "start_time": "2022-02-01T07:17:56.731Z"
   },
   {
    "duration": 249,
    "start_time": "2022-02-01T07:25:14.804Z"
   },
   {
    "duration": 686,
    "start_time": "2022-02-01T07:25:25.663Z"
   },
   {
    "duration": 32,
    "start_time": "2022-02-01T07:25:26.351Z"
   },
   {
    "duration": 91,
    "start_time": "2022-02-01T07:25:26.385Z"
   },
   {
    "duration": 504,
    "start_time": "2022-02-01T07:25:26.777Z"
   },
   {
    "duration": 6,
    "start_time": "2022-02-01T07:25:27.544Z"
   },
   {
    "duration": 14,
    "start_time": "2022-02-01T07:25:27.962Z"
   },
   {
    "duration": 585,
    "start_time": "2022-02-01T07:25:28.196Z"
   },
   {
    "duration": 7,
    "start_time": "2022-02-01T07:25:28.783Z"
   },
   {
    "duration": 1471,
    "start_time": "2022-02-01T07:25:28.903Z"
   },
   {
    "duration": 750,
    "start_time": "2022-02-01T07:25:30.831Z"
   },
   {
    "duration": 597,
    "start_time": "2022-02-01T07:25:34.232Z"
   },
   {
    "duration": 586,
    "start_time": "2022-02-01T07:26:41.494Z"
   },
   {
    "duration": 509,
    "start_time": "2022-02-01T07:26:46.631Z"
   },
   {
    "duration": 757,
    "start_time": "2022-02-01T08:18:45.393Z"
   },
   {
    "duration": 33,
    "start_time": "2022-02-01T08:18:46.152Z"
   },
   {
    "duration": 82,
    "start_time": "2022-02-01T08:18:46.187Z"
   },
   {
    "duration": 497,
    "start_time": "2022-02-01T08:18:46.479Z"
   },
   {
    "duration": 6,
    "start_time": "2022-02-01T08:18:46.978Z"
   },
   {
    "duration": 15,
    "start_time": "2022-02-01T08:18:47.135Z"
   },
   {
    "duration": 561,
    "start_time": "2022-02-01T08:18:47.287Z"
   },
   {
    "duration": 7,
    "start_time": "2022-02-01T08:18:47.851Z"
   },
   {
    "duration": 1318,
    "start_time": "2022-02-01T08:18:47.975Z"
   },
   {
    "duration": 506,
    "start_time": "2022-02-01T08:18:49.296Z"
   },
   {
    "duration": 516,
    "start_time": "2022-02-01T08:18:49.808Z"
   },
   {
    "duration": 407,
    "start_time": "2022-02-01T08:19:10.513Z"
   },
   {
    "duration": 7,
    "start_time": "2022-02-01T08:19:36.369Z"
   },
   {
    "duration": 277,
    "start_time": "2022-02-01T08:20:02.591Z"
   },
   {
    "duration": 265,
    "start_time": "2022-02-01T08:21:48.414Z"
   },
   {
    "duration": 8,
    "start_time": "2022-02-01T08:22:07.142Z"
   },
   {
    "duration": 294,
    "start_time": "2022-02-01T08:22:25.846Z"
   },
   {
    "duration": 18,
    "start_time": "2022-02-01T08:22:32.490Z"
   },
   {
    "duration": 250,
    "start_time": "2022-02-01T08:22:38.325Z"
   },
   {
    "duration": 252,
    "start_time": "2022-02-01T08:22:49.283Z"
   },
   {
    "duration": 391,
    "start_time": "2022-02-01T08:25:44.657Z"
   },
   {
    "duration": 287,
    "start_time": "2022-02-01T15:17:05.322Z"
   },
   {
    "duration": 759,
    "start_time": "2022-02-01T15:17:10.188Z"
   },
   {
    "duration": 31,
    "start_time": "2022-02-01T15:17:12.524Z"
   },
   {
    "duration": 73,
    "start_time": "2022-02-01T15:17:14.360Z"
   },
   {
    "duration": 466,
    "start_time": "2022-02-01T15:17:16.560Z"
   },
   {
    "duration": 7,
    "start_time": "2022-02-01T15:17:17.508Z"
   },
   {
    "duration": 13,
    "start_time": "2022-02-01T15:17:17.719Z"
   },
   {
    "duration": 554,
    "start_time": "2022-02-01T15:17:17.913Z"
   },
   {
    "duration": 5,
    "start_time": "2022-02-01T15:17:18.468Z"
   },
   {
    "duration": 1312,
    "start_time": "2022-02-01T15:17:18.642Z"
   },
   {
    "duration": 484,
    "start_time": "2022-02-01T15:17:19.956Z"
   },
   {
    "duration": 484,
    "start_time": "2022-02-01T15:17:20.442Z"
   },
   {
    "duration": 317,
    "start_time": "2022-02-01T15:17:20.928Z"
   },
   {
    "duration": 244,
    "start_time": "2022-02-01T15:17:21.247Z"
   },
   {
    "duration": 249,
    "start_time": "2022-02-01T15:17:21.493Z"
   },
   {
    "duration": 189,
    "start_time": "2022-02-01T15:17:21.743Z"
   },
   {
    "duration": 222,
    "start_time": "2022-02-01T15:17:21.935Z"
   },
   {
    "duration": 207,
    "start_time": "2022-02-01T15:17:22.159Z"
   },
   {
    "duration": 202,
    "start_time": "2022-02-01T15:17:28.378Z"
   },
   {
    "duration": 24,
    "start_time": "2022-02-01T15:17:30.908Z"
   },
   {
    "duration": 9,
    "start_time": "2022-02-01T15:17:31.971Z"
   },
   {
    "duration": 203,
    "start_time": "2022-02-01T15:17:33.654Z"
   },
   {
    "duration": 10,
    "start_time": "2022-02-01T15:17:40.251Z"
   },
   {
    "duration": 201,
    "start_time": "2022-02-01T15:18:27.057Z"
   },
   {
    "duration": 198,
    "start_time": "2022-02-01T15:18:47.801Z"
   },
   {
    "duration": 303,
    "start_time": "2022-02-01T15:18:51.779Z"
   },
   {
    "duration": 8,
    "start_time": "2022-02-01T15:19:02.363Z"
   },
   {
    "duration": 256,
    "start_time": "2022-02-01T15:27:22.141Z"
   },
   {
    "duration": 224,
    "start_time": "2022-02-01T15:27:37.612Z"
   },
   {
    "duration": 192,
    "start_time": "2022-02-01T15:33:53.340Z"
   },
   {
    "duration": 83,
    "start_time": "2022-02-01T15:38:01.891Z"
   },
   {
    "duration": 26,
    "start_time": "2022-02-01T15:39:04.952Z"
   },
   {
    "duration": 25,
    "start_time": "2022-02-01T15:39:18.397Z"
   },
   {
    "duration": 25,
    "start_time": "2022-02-01T15:39:24.059Z"
   },
   {
    "duration": 24,
    "start_time": "2022-02-01T15:39:41.511Z"
   },
   {
    "duration": 611,
    "start_time": "2022-02-01T15:40:44.270Z"
   },
   {
    "duration": 9,
    "start_time": "2022-02-01T15:40:54.458Z"
   },
   {
    "duration": 162,
    "start_time": "2022-02-01T15:41:44.222Z"
   },
   {
    "duration": 129,
    "start_time": "2022-02-01T15:42:22.048Z"
   },
   {
    "duration": 130,
    "start_time": "2022-02-01T15:42:30.511Z"
   },
   {
    "duration": 9,
    "start_time": "2022-02-01T15:42:35.731Z"
   },
   {
    "duration": 12,
    "start_time": "2022-02-01T15:45:16.525Z"
   },
   {
    "duration": 13,
    "start_time": "2022-02-01T15:45:27.502Z"
   },
   {
    "duration": 11,
    "start_time": "2022-02-01T15:45:50.205Z"
   },
   {
    "duration": 13,
    "start_time": "2022-02-01T15:46:05.474Z"
   },
   {
    "duration": 15,
    "start_time": "2022-02-01T15:46:28.163Z"
   },
   {
    "duration": 9,
    "start_time": "2022-02-01T15:56:54.399Z"
   },
   {
    "duration": 94,
    "start_time": "2022-02-01T15:59:10.821Z"
   },
   {
    "duration": 266,
    "start_time": "2022-02-01T16:04:03.288Z"
   },
   {
    "duration": 382,
    "start_time": "2022-02-01T16:04:28.015Z"
   },
   {
    "duration": 449,
    "start_time": "2022-02-01T16:04:38.493Z"
   },
   {
    "duration": 237,
    "start_time": "2022-02-01T16:04:50.673Z"
   },
   {
    "duration": 207,
    "start_time": "2022-02-01T16:04:59.104Z"
   },
   {
    "duration": 619,
    "start_time": "2022-02-01T16:05:01.954Z"
   },
   {
    "duration": 134,
    "start_time": "2022-02-01T16:05:14.386Z"
   },
   {
    "duration": 202,
    "start_time": "2022-02-01T16:05:29.599Z"
   },
   {
    "duration": 139,
    "start_time": "2022-02-01T16:05:59.323Z"
   },
   {
    "duration": 215,
    "start_time": "2022-02-01T16:06:32.656Z"
   },
   {
    "duration": 137,
    "start_time": "2022-02-01T16:06:53.263Z"
   },
   {
    "duration": 128,
    "start_time": "2022-02-01T16:07:05.469Z"
   },
   {
    "duration": 130,
    "start_time": "2022-02-01T16:07:28.237Z"
   },
   {
    "duration": 128,
    "start_time": "2022-02-01T16:07:32.032Z"
   },
   {
    "duration": 131,
    "start_time": "2022-02-01T16:07:38.625Z"
   },
   {
    "duration": 132,
    "start_time": "2022-02-01T16:07:44.779Z"
   },
   {
    "duration": 5635,
    "start_time": "2022-02-01T16:08:53.930Z"
   },
   {
    "duration": -943,
    "start_time": "2022-02-01T16:09:10.623Z"
   },
   {
    "duration": 144,
    "start_time": "2022-02-01T16:09:45.607Z"
   },
   {
    "duration": 148,
    "start_time": "2022-02-01T16:10:25.972Z"
   },
   {
    "duration": 136,
    "start_time": "2022-02-01T16:11:19.286Z"
   },
   {
    "duration": 203,
    "start_time": "2022-02-01T16:11:40.894Z"
   },
   {
    "duration": 151,
    "start_time": "2022-02-01T16:12:39.937Z"
   },
   {
    "duration": 189,
    "start_time": "2022-02-01T16:12:55.154Z"
   },
   {
    "duration": 211,
    "start_time": "2022-02-01T16:13:02.023Z"
   },
   {
    "duration": 193,
    "start_time": "2022-02-01T16:13:07.097Z"
   },
   {
    "duration": 200,
    "start_time": "2022-02-01T16:13:42.501Z"
   },
   {
    "duration": 290,
    "start_time": "2022-02-01T16:13:47.635Z"
   },
   {
    "duration": 128,
    "start_time": "2022-02-01T16:13:52.425Z"
   },
   {
    "duration": 129,
    "start_time": "2022-02-01T16:15:09.042Z"
   },
   {
    "duration": 133,
    "start_time": "2022-02-01T16:15:23.088Z"
   },
   {
    "duration": 194,
    "start_time": "2022-02-01T16:15:37.737Z"
   },
   {
    "duration": 200,
    "start_time": "2022-02-01T16:15:46.812Z"
   },
   {
    "duration": 127,
    "start_time": "2022-02-01T16:15:58.383Z"
   },
   {
    "duration": 201,
    "start_time": "2022-02-01T16:16:03.606Z"
   },
   {
    "duration": 144,
    "start_time": "2022-02-01T16:18:08.542Z"
   },
   {
    "duration": 133,
    "start_time": "2022-02-01T16:18:59.855Z"
   },
   {
    "duration": 147,
    "start_time": "2022-02-01T16:19:04.256Z"
   },
   {
    "duration": 136,
    "start_time": "2022-02-01T16:19:10.647Z"
   },
   {
    "duration": 224,
    "start_time": "2022-02-01T16:19:17.473Z"
   },
   {
    "duration": 145,
    "start_time": "2022-02-01T16:19:21.910Z"
   },
   {
    "duration": 139,
    "start_time": "2022-02-01T16:19:28.496Z"
   },
   {
    "duration": 132,
    "start_time": "2022-02-01T16:20:08.235Z"
   },
   {
    "duration": 361,
    "start_time": "2022-02-01T16:45:10.909Z"
   },
   {
    "duration": 30,
    "start_time": "2022-02-01T16:45:17.539Z"
   },
   {
    "duration": 216,
    "start_time": "2022-02-01T16:45:21.230Z"
   },
   {
    "duration": 239,
    "start_time": "2022-02-01T16:45:29.716Z"
   },
   {
    "duration": 238,
    "start_time": "2022-02-01T16:45:37.900Z"
   },
   {
    "duration": 196,
    "start_time": "2022-02-01T16:46:26.232Z"
   },
   {
    "duration": 270,
    "start_time": "2022-02-01T16:46:36.081Z"
   },
   {
    "duration": 199,
    "start_time": "2022-02-01T16:46:44.019Z"
   },
   {
    "duration": 166,
    "start_time": "2022-02-01T16:47:37.852Z"
   },
   {
    "duration": 171,
    "start_time": "2022-02-01T16:48:01.729Z"
   },
   {
    "duration": 211,
    "start_time": "2022-02-01T16:48:55.557Z"
   },
   {
    "duration": 37,
    "start_time": "2022-02-01T16:49:13.877Z"
   },
   {
    "duration": 243,
    "start_time": "2022-02-01T16:50:00.706Z"
   },
   {
    "duration": 231,
    "start_time": "2022-02-01T16:50:16.653Z"
   },
   {
    "duration": 222,
    "start_time": "2022-02-01T16:50:21.642Z"
   },
   {
    "duration": 43,
    "start_time": "2022-02-01T16:51:13.653Z"
   },
   {
    "duration": 230,
    "start_time": "2022-02-01T16:53:41.438Z"
   },
   {
    "duration": 262,
    "start_time": "2022-02-01T16:56:10.862Z"
   },
   {
    "duration": 47,
    "start_time": "2022-02-01T16:56:25.934Z"
   },
   {
    "duration": 373,
    "start_time": "2022-02-01T16:56:30.018Z"
   },
   {
    "duration": 334,
    "start_time": "2022-02-01T16:57:53.924Z"
   },
   {
    "duration": 217,
    "start_time": "2022-02-01T16:58:17.980Z"
   },
   {
    "duration": 181,
    "start_time": "2022-02-01T16:58:20.196Z"
   },
   {
    "duration": 221,
    "start_time": "2022-02-01T16:58:22.860Z"
   },
   {
    "duration": 217,
    "start_time": "2022-02-01T17:03:25.758Z"
   },
   {
    "duration": 201,
    "start_time": "2022-02-01T17:03:26.254Z"
   },
   {
    "duration": 206,
    "start_time": "2022-02-01T17:03:27.075Z"
   },
   {
    "duration": 313,
    "start_time": "2022-02-01T17:03:58.008Z"
   },
   {
    "duration": 212,
    "start_time": "2022-02-01T17:04:02.224Z"
   },
   {
    "duration": 204,
    "start_time": "2022-02-01T17:05:31.853Z"
   },
   {
    "duration": 450,
    "start_time": "2022-02-01T17:05:42.846Z"
   },
   {
    "duration": 397,
    "start_time": "2022-02-01T17:05:49.993Z"
   },
   {
    "duration": 303,
    "start_time": "2022-02-01T17:05:58.232Z"
   },
   {
    "duration": 238,
    "start_time": "2022-02-01T17:06:17.822Z"
   },
   {
    "duration": 218,
    "start_time": "2022-02-01T17:06:22.727Z"
   },
   {
    "duration": 42,
    "start_time": "2022-02-01T17:08:08.704Z"
   },
   {
    "duration": 472,
    "start_time": "2022-02-01T17:08:12.505Z"
   },
   {
    "duration": 261,
    "start_time": "2022-02-01T17:08:15.010Z"
   },
   {
    "duration": 40,
    "start_time": "2022-02-01T17:08:22.315Z"
   },
   {
    "duration": 221,
    "start_time": "2022-02-01T17:08:29.701Z"
   },
   {
    "duration": 252,
    "start_time": "2022-02-01T17:08:52.019Z"
   },
   {
    "duration": 342,
    "start_time": "2022-02-01T17:08:56.141Z"
   },
   {
    "duration": 569,
    "start_time": "2022-02-01T17:12:17.579Z"
   },
   {
    "duration": 328,
    "start_time": "2022-02-01T17:12:28.032Z"
   },
   {
    "duration": 5762,
    "start_time": "2022-02-01T17:33:42.184Z"
   },
   {
    "duration": 201,
    "start_time": "2022-02-01T17:34:04.091Z"
   },
   {
    "duration": 1314,
    "start_time": "2022-02-11T11:35:19.734Z"
   },
   {
    "duration": 48,
    "start_time": "2022-02-11T11:35:21.050Z"
   },
   {
    "duration": 132,
    "start_time": "2022-02-11T11:35:21.102Z"
   },
   {
    "duration": 869,
    "start_time": "2022-02-11T11:35:21.237Z"
   },
   {
    "duration": 14,
    "start_time": "2022-02-11T11:35:22.109Z"
   },
   {
    "duration": 38,
    "start_time": "2022-02-11T11:35:22.127Z"
   },
   {
    "duration": 1025,
    "start_time": "2022-02-11T11:35:22.168Z"
   },
   {
    "duration": 7,
    "start_time": "2022-02-11T11:35:23.195Z"
   },
   {
    "duration": 2263,
    "start_time": "2022-02-11T11:35:23.207Z"
   },
   {
    "duration": 1975,
    "start_time": "2022-02-11T11:35:25.474Z"
   },
   {
    "duration": 334,
    "start_time": "2022-02-11T11:35:27.120Z"
   },
   {
    "duration": 330,
    "start_time": "2022-02-11T11:35:27.126Z"
   },
   {
    "duration": 326,
    "start_time": "2022-02-11T11:35:27.132Z"
   },
   {
    "duration": 319,
    "start_time": "2022-02-11T11:35:27.139Z"
   },
   {
    "duration": 312,
    "start_time": "2022-02-11T11:35:27.148Z"
   },
   {
    "duration": 306,
    "start_time": "2022-02-11T11:35:27.155Z"
   },
   {
    "duration": 298,
    "start_time": "2022-02-11T11:35:27.165Z"
   },
   {
    "duration": 233,
    "start_time": "2022-02-11T11:35:27.232Z"
   },
   {
    "duration": 219,
    "start_time": "2022-02-11T11:35:27.247Z"
   },
   {
    "duration": 214,
    "start_time": "2022-02-11T11:35:27.254Z"
   },
   {
    "duration": 207,
    "start_time": "2022-02-11T11:35:27.262Z"
   },
   {
    "duration": 201,
    "start_time": "2022-02-11T11:35:27.269Z"
   },
   {
    "duration": 195,
    "start_time": "2022-02-11T11:35:27.276Z"
   },
   {
    "duration": 190,
    "start_time": "2022-02-11T11:35:27.282Z"
   },
   {
    "duration": 180,
    "start_time": "2022-02-11T11:35:27.293Z"
   },
   {
    "duration": 177,
    "start_time": "2022-02-11T11:35:27.298Z"
   },
   {
    "duration": 159,
    "start_time": "2022-02-11T11:35:27.317Z"
   },
   {
    "duration": 154,
    "start_time": "2022-02-11T11:35:27.323Z"
   },
   {
    "duration": 147,
    "start_time": "2022-02-11T11:35:27.331Z"
   },
   {
    "duration": 143,
    "start_time": "2022-02-11T11:35:27.336Z"
   },
   {
    "duration": 138,
    "start_time": "2022-02-11T11:35:27.343Z"
   },
   {
    "duration": 137,
    "start_time": "2022-02-11T11:35:27.348Z"
   },
   {
    "duration": 132,
    "start_time": "2022-02-11T11:35:27.355Z"
   },
   {
    "duration": 129,
    "start_time": "2022-02-11T11:35:27.361Z"
   },
   {
    "duration": 929,
    "start_time": "2022-02-11T11:47:19.418Z"
   },
   {
    "duration": 46,
    "start_time": "2022-02-11T11:47:22.029Z"
   },
   {
    "duration": 107,
    "start_time": "2022-02-11T11:47:22.782Z"
   },
   {
    "duration": 750,
    "start_time": "2022-02-11T11:47:25.363Z"
   },
   {
    "duration": 11,
    "start_time": "2022-02-11T11:47:26.416Z"
   },
   {
    "duration": 17,
    "start_time": "2022-02-11T11:47:26.772Z"
   },
   {
    "duration": 844,
    "start_time": "2022-02-11T11:47:27.033Z"
   },
   {
    "duration": 7,
    "start_time": "2022-02-11T11:47:27.879Z"
   },
   {
    "duration": 2114,
    "start_time": "2022-02-11T11:47:27.889Z"
   },
   {
    "duration": 391,
    "start_time": "2022-02-11T11:47:30.006Z"
   },
   {
    "duration": -62,
    "start_time": "2022-02-11T11:47:30.463Z"
   },
   {
    "duration": -109,
    "start_time": "2022-02-11T11:47:30.512Z"
   },
   {
    "duration": -113,
    "start_time": "2022-02-11T11:47:30.518Z"
   },
   {
    "duration": -113,
    "start_time": "2022-02-11T11:47:30.520Z"
   },
   {
    "duration": 278,
    "start_time": "2022-02-11T11:47:30.653Z"
   },
   {
    "duration": 311,
    "start_time": "2022-02-11T11:47:31.484Z"
   },
   {
    "duration": 295,
    "start_time": "2022-02-11T11:47:32.011Z"
   },
   {
    "duration": 98,
    "start_time": "2022-02-11T11:49:29.321Z"
   },
   {
    "duration": 38,
    "start_time": "2022-02-11T11:49:29.710Z"
   },
   {
    "duration": 107,
    "start_time": "2022-02-11T11:49:30.080Z"
   },
   {
    "duration": 756,
    "start_time": "2022-02-11T11:49:30.913Z"
   },
   {
    "duration": 6,
    "start_time": "2022-02-11T11:49:31.672Z"
   },
   {
    "duration": 42,
    "start_time": "2022-02-11T11:49:31.681Z"
   },
   {
    "duration": 891,
    "start_time": "2022-02-11T11:49:31.864Z"
   },
   {
    "duration": 13,
    "start_time": "2022-02-11T11:49:32.757Z"
   },
   {
    "duration": 2190,
    "start_time": "2022-02-11T11:49:32.773Z"
   },
   {
    "duration": 249,
    "start_time": "2022-02-11T11:49:34.966Z"
   },
   {
    "duration": 289,
    "start_time": "2022-02-11T11:49:35.218Z"
   },
   {
    "duration": -56,
    "start_time": "2022-02-11T11:49:35.565Z"
   },
   {
    "duration": 753,
    "start_time": "2022-02-11T11:49:37.641Z"
   },
   {
    "duration": 795,
    "start_time": "2022-02-11T11:49:38.396Z"
   },
   {
    "duration": 446,
    "start_time": "2022-02-11T11:49:39.194Z"
   },
   {
    "duration": 385,
    "start_time": "2022-02-11T11:49:39.643Z"
   },
   {
    "duration": 412,
    "start_time": "2022-02-11T11:49:40.031Z"
   },
   {
    "duration": 261,
    "start_time": "2022-02-11T11:49:41.101Z"
   },
   {
    "duration": 326,
    "start_time": "2022-02-11T11:49:42.014Z"
   },
   {
    "duration": 321,
    "start_time": "2022-02-11T11:49:43.037Z"
   },
   {
    "duration": 326,
    "start_time": "2022-02-11T11:49:43.697Z"
   },
   {
    "duration": 43,
    "start_time": "2022-02-11T11:49:44.397Z"
   },
   {
    "duration": 323,
    "start_time": "2022-02-11T11:49:45.192Z"
   },
   {
    "duration": 327,
    "start_time": "2022-02-11T11:49:46.617Z"
   },
   {
    "duration": -180,
    "start_time": "2022-02-11T11:49:47.127Z"
   },
   {
    "duration": -182,
    "start_time": "2022-02-11T11:49:47.130Z"
   },
   {
    "duration": 294,
    "start_time": "2022-02-11T11:49:47.607Z"
   },
   {
    "duration": 289,
    "start_time": "2022-02-11T11:49:51.104Z"
   },
   {
    "duration": 234,
    "start_time": "2022-02-11T11:50:24.764Z"
   },
   {
    "duration": 494,
    "start_time": "2022-02-11T11:50:28.281Z"
   },
   {
    "duration": 218,
    "start_time": "2022-02-11T11:50:31.753Z"
   },
   {
    "duration": 823,
    "start_time": "2022-02-11T11:50:57.139Z"
   },
   {
    "duration": 788,
    "start_time": "2022-02-11T11:51:04.247Z"
   },
   {
    "duration": 383,
    "start_time": "2022-02-11T11:51:06.252Z"
   },
   {
    "duration": 372,
    "start_time": "2022-02-11T11:51:07.946Z"
   },
   {
    "duration": 372,
    "start_time": "2022-02-11T11:51:09.305Z"
   },
   {
    "duration": 270,
    "start_time": "2022-02-11T11:51:10.623Z"
   },
   {
    "duration": 332,
    "start_time": "2022-02-11T11:51:11.852Z"
   },
   {
    "duration": 316,
    "start_time": "2022-02-11T11:51:13.167Z"
   },
   {
    "duration": 331,
    "start_time": "2022-02-11T11:51:14.507Z"
   },
   {
    "duration": 35,
    "start_time": "2022-02-11T11:51:17.310Z"
   },
   {
    "duration": 402,
    "start_time": "2022-02-11T11:51:18.583Z"
   },
   {
    "duration": 11,
    "start_time": "2022-02-11T11:51:21.190Z"
   },
   {
    "duration": 215,
    "start_time": "2022-02-11T11:51:24.605Z"
   },
   {
    "duration": 218,
    "start_time": "2022-02-11T11:51:27.947Z"
   },
   {
    "duration": 238,
    "start_time": "2022-02-11T11:51:29.283Z"
   },
   {
    "duration": 216,
    "start_time": "2022-02-11T11:51:30.187Z"
   },
   {
    "duration": 377,
    "start_time": "2022-02-11T11:51:31.939Z"
   },
   {
    "duration": 274,
    "start_time": "2022-02-11T11:51:33.502Z"
   },
   {
    "duration": 343,
    "start_time": "2022-02-11T11:51:34.698Z"
   },
   {
    "duration": 342,
    "start_time": "2022-02-11T11:51:35.962Z"
   },
   {
    "duration": 330,
    "start_time": "2022-02-11T11:51:37.151Z"
   },
   {
    "duration": 434,
    "start_time": "2022-02-11T11:51:38.355Z"
   },
   {
    "duration": 938,
    "start_time": "2022-02-11T19:06:22.092Z"
   },
   {
    "duration": 38,
    "start_time": "2022-02-11T19:06:23.032Z"
   },
   {
    "duration": 115,
    "start_time": "2022-02-11T19:06:23.073Z"
   },
   {
    "duration": 631,
    "start_time": "2022-02-11T19:06:23.190Z"
   },
   {
    "duration": 9,
    "start_time": "2022-02-11T19:06:23.823Z"
   },
   {
    "duration": 18,
    "start_time": "2022-02-11T19:06:23.849Z"
   },
   {
    "duration": 817,
    "start_time": "2022-02-11T19:06:23.870Z"
   },
   {
    "duration": 9,
    "start_time": "2022-02-11T19:06:24.689Z"
   },
   {
    "duration": 2062,
    "start_time": "2022-02-11T19:06:24.704Z"
   },
   {
    "duration": 243,
    "start_time": "2022-02-11T19:06:26.769Z"
   },
   {
    "duration": 251,
    "start_time": "2022-02-11T19:06:27.015Z"
   },
   {
    "duration": 225,
    "start_time": "2022-02-11T19:06:27.269Z"
   },
   {
    "duration": 717,
    "start_time": "2022-02-11T19:06:27.497Z"
   },
   {
    "duration": 816,
    "start_time": "2022-02-11T19:06:28.216Z"
   },
   {
    "duration": 346,
    "start_time": "2022-02-11T19:06:29.034Z"
   },
   {
    "duration": 373,
    "start_time": "2022-02-11T19:06:29.382Z"
   },
   {
    "duration": 376,
    "start_time": "2022-02-11T19:06:29.757Z"
   },
   {
    "duration": 267,
    "start_time": "2022-02-11T19:06:30.136Z"
   },
   {
    "duration": 336,
    "start_time": "2022-02-11T19:06:30.406Z"
   },
   {
    "duration": 312,
    "start_time": "2022-02-11T19:06:30.744Z"
   },
   {
    "duration": 332,
    "start_time": "2022-02-11T19:06:31.058Z"
   },
   {
    "duration": 33,
    "start_time": "2022-02-11T19:06:31.392Z"
   },
   {
    "duration": 333,
    "start_time": "2022-02-11T19:06:31.427Z"
   },
   {
    "duration": 414,
    "start_time": "2022-02-11T19:06:31.762Z"
   },
   {
    "duration": -461,
    "start_time": "2022-02-11T19:06:32.641Z"
   },
   {
    "duration": -497,
    "start_time": "2022-02-11T19:06:32.678Z"
   },
   {
    "duration": -504,
    "start_time": "2022-02-11T19:06:32.687Z"
   },
   {
    "duration": -510,
    "start_time": "2022-02-11T19:06:32.695Z"
   },
   {
    "duration": -518,
    "start_time": "2022-02-11T19:06:32.704Z"
   },
   {
    "duration": -524,
    "start_time": "2022-02-11T19:06:32.712Z"
   },
   {
    "duration": -547,
    "start_time": "2022-02-11T19:06:32.737Z"
   },
   {
    "duration": -555,
    "start_time": "2022-02-11T19:06:32.746Z"
   },
   {
    "duration": -562,
    "start_time": "2022-02-11T19:06:32.755Z"
   },
   {
    "duration": -567,
    "start_time": "2022-02-11T19:06:32.762Z"
   },
   {
    "duration": 990,
    "start_time": "2022-02-11T19:08:32.576Z"
   },
   {
    "duration": 39,
    "start_time": "2022-02-11T19:08:33.569Z"
   },
   {
    "duration": 120,
    "start_time": "2022-02-11T19:08:33.611Z"
   },
   {
    "duration": 680,
    "start_time": "2022-02-11T19:08:33.734Z"
   },
   {
    "duration": 13,
    "start_time": "2022-02-11T19:08:34.416Z"
   },
   {
    "duration": 28,
    "start_time": "2022-02-11T19:08:34.432Z"
   },
   {
    "duration": 796,
    "start_time": "2022-02-11T19:08:34.462Z"
   },
   {
    "duration": 7,
    "start_time": "2022-02-11T19:08:35.262Z"
   },
   {
    "duration": 1958,
    "start_time": "2022-02-11T19:08:35.272Z"
   },
   {
    "duration": 241,
    "start_time": "2022-02-11T19:08:37.233Z"
   },
   {
    "duration": 236,
    "start_time": "2022-02-11T19:08:37.477Z"
   },
   {
    "duration": 233,
    "start_time": "2022-02-11T19:08:37.716Z"
   },
   {
    "duration": 743,
    "start_time": "2022-02-11T19:08:37.951Z"
   },
   {
    "duration": 847,
    "start_time": "2022-02-11T19:08:38.698Z"
   },
   {
    "duration": 356,
    "start_time": "2022-02-11T19:08:39.549Z"
   },
   {
    "duration": 372,
    "start_time": "2022-02-11T19:08:39.907Z"
   },
   {
    "duration": 379,
    "start_time": "2022-02-11T19:08:40.281Z"
   },
   {
    "duration": 259,
    "start_time": "2022-02-11T19:08:40.662Z"
   },
   {
    "duration": 337,
    "start_time": "2022-02-11T19:08:40.923Z"
   },
   {
    "duration": 303,
    "start_time": "2022-02-11T19:08:41.263Z"
   },
   {
    "duration": 320,
    "start_time": "2022-02-11T19:08:41.568Z"
   },
   {
    "duration": 33,
    "start_time": "2022-02-11T19:08:41.891Z"
   },
   {
    "duration": 346,
    "start_time": "2022-02-11T19:08:41.928Z"
   },
   {
    "duration": 415,
    "start_time": "2022-02-11T19:08:42.277Z"
   },
   {
    "duration": -507,
    "start_time": "2022-02-11T19:08:43.202Z"
   },
   {
    "duration": -546,
    "start_time": "2022-02-11T19:08:43.243Z"
   },
   {
    "duration": -582,
    "start_time": "2022-02-11T19:08:43.281Z"
   },
   {
    "duration": -605,
    "start_time": "2022-02-11T19:08:43.306Z"
   },
   {
    "duration": -610,
    "start_time": "2022-02-11T19:08:43.313Z"
   },
   {
    "duration": -617,
    "start_time": "2022-02-11T19:08:43.321Z"
   },
   {
    "duration": -622,
    "start_time": "2022-02-11T19:08:43.328Z"
   },
   {
    "duration": -632,
    "start_time": "2022-02-11T19:08:43.339Z"
   },
   {
    "duration": -668,
    "start_time": "2022-02-11T19:08:43.376Z"
   },
   {
    "duration": -731,
    "start_time": "2022-02-11T19:08:43.441Z"
   },
   {
    "duration": 335,
    "start_time": "2022-02-11T21:05:12.493Z"
   },
   {
    "duration": 1015,
    "start_time": "2022-02-11T21:05:19.820Z"
   },
   {
    "duration": 43,
    "start_time": "2022-02-11T21:05:20.889Z"
   },
   {
    "duration": 108,
    "start_time": "2022-02-11T21:05:21.566Z"
   },
   {
    "duration": 669,
    "start_time": "2022-02-11T21:05:24.446Z"
   },
   {
    "duration": 642,
    "start_time": "2022-02-11T21:06:50.629Z"
   },
   {
    "duration": 612,
    "start_time": "2022-02-11T21:07:36.229Z"
   },
   {
    "duration": 625,
    "start_time": "2022-02-11T21:07:45.578Z"
   },
   {
    "duration": 619,
    "start_time": "2022-02-11T21:08:03.888Z"
   },
   {
    "duration": 11,
    "start_time": "2022-02-11T21:09:02.829Z"
   },
   {
    "duration": 17,
    "start_time": "2022-02-11T21:09:03.721Z"
   },
   {
    "duration": 754,
    "start_time": "2022-02-11T21:09:05.381Z"
   },
   {
    "duration": 7,
    "start_time": "2022-02-11T21:09:06.137Z"
   },
   {
    "duration": 2172,
    "start_time": "2022-02-11T21:09:06.875Z"
   },
   {
    "duration": 2090,
    "start_time": "2022-02-11T21:09:36.071Z"
   },
   {
    "duration": 228,
    "start_time": "2022-02-11T21:09:40.941Z"
   },
   {
    "duration": 224,
    "start_time": "2022-02-11T21:09:42.067Z"
   },
   {
    "duration": 222,
    "start_time": "2022-02-11T21:09:42.494Z"
   },
   {
    "duration": 901,
    "start_time": "2022-02-11T21:10:05.534Z"
   },
   {
    "duration": 776,
    "start_time": "2022-02-11T21:10:40.883Z"
   },
   {
    "duration": 815,
    "start_time": "2022-02-11T21:10:49.008Z"
   },
   {
    "duration": 1102,
    "start_time": "2022-02-11T21:11:02.152Z"
   },
   {
    "duration": 1114,
    "start_time": "2022-02-11T21:11:17.488Z"
   },
   {
    "duration": 888,
    "start_time": "2022-02-11T21:11:55.237Z"
   },
   {
    "duration": 792,
    "start_time": "2022-02-11T21:13:08.514Z"
   },
   {
    "duration": 849,
    "start_time": "2022-02-11T21:13:17.520Z"
   },
   {
    "duration": 821,
    "start_time": "2022-02-11T21:13:24.233Z"
   },
   {
    "duration": 817,
    "start_time": "2022-02-11T21:13:27.169Z"
   },
   {
    "duration": 583,
    "start_time": "2022-02-11T21:14:25.730Z"
   },
   {
    "duration": 340,
    "start_time": "2022-02-11T21:15:05.392Z"
   },
   {
    "duration": 366,
    "start_time": "2022-02-11T21:15:45.883Z"
   },
   {
    "duration": 434,
    "start_time": "2022-02-11T21:16:16.068Z"
   },
   {
    "duration": 380,
    "start_time": "2022-02-11T21:17:00.228Z"
   },
   {
    "duration": 392,
    "start_time": "2022-02-11T21:17:36.624Z"
   },
   {
    "duration": 263,
    "start_time": "2022-02-11T21:17:57.265Z"
   },
   {
    "duration": 272,
    "start_time": "2022-02-11T21:18:03.446Z"
   },
   {
    "duration": 349,
    "start_time": "2022-02-11T21:18:15.137Z"
   },
   {
    "duration": 375,
    "start_time": "2022-02-11T21:18:16.840Z"
   },
   {
    "duration": 389,
    "start_time": "2022-02-11T21:18:18.135Z"
   },
   {
    "duration": 275,
    "start_time": "2022-02-11T21:18:19.597Z"
   },
   {
    "duration": 338,
    "start_time": "2022-02-11T21:18:46.932Z"
   },
   {
    "duration": 329,
    "start_time": "2022-02-11T21:19:08.129Z"
   },
   {
    "duration": 414,
    "start_time": "2022-02-11T21:19:39.283Z"
   },
   {
    "duration": 37,
    "start_time": "2022-02-11T21:19:58.745Z"
   },
   {
    "duration": 326,
    "start_time": "2022-02-11T21:20:02.816Z"
   },
   {
    "duration": 318,
    "start_time": "2022-02-11T21:20:45.236Z"
   },
   {
    "duration": 304,
    "start_time": "2022-02-11T21:21:00.278Z"
   },
   {
    "duration": 320,
    "start_time": "2022-02-11T21:21:07.203Z"
   },
   {
    "duration": 324,
    "start_time": "2022-02-11T21:21:30.044Z"
   },
   {
    "duration": 331,
    "start_time": "2022-02-11T21:22:20.344Z"
   },
   {
    "duration": 312,
    "start_time": "2022-02-11T21:22:51.118Z"
   },
   {
    "duration": 953,
    "start_time": "2022-02-11T21:23:02.414Z"
   },
   {
    "duration": 40,
    "start_time": "2022-02-11T21:23:03.369Z"
   },
   {
    "duration": 124,
    "start_time": "2022-02-11T21:23:03.412Z"
   },
   {
    "duration": 669,
    "start_time": "2022-02-11T21:23:03.809Z"
   },
   {
    "duration": 9,
    "start_time": "2022-02-11T21:23:04.481Z"
   },
   {
    "duration": 16,
    "start_time": "2022-02-11T21:23:04.493Z"
   },
   {
    "duration": 923,
    "start_time": "2022-02-11T21:23:04.512Z"
   },
   {
    "duration": 9,
    "start_time": "2022-02-11T21:23:05.439Z"
   },
   {
    "duration": 2020,
    "start_time": "2022-02-11T21:23:05.741Z"
   },
   {
    "duration": 242,
    "start_time": "2022-02-11T21:23:07.764Z"
   },
   {
    "duration": 238,
    "start_time": "2022-02-11T21:23:08.009Z"
   },
   {
    "duration": 259,
    "start_time": "2022-02-11T21:23:08.251Z"
   },
   {
    "duration": 767,
    "start_time": "2022-02-11T21:23:08.512Z"
   },
   {
    "duration": 854,
    "start_time": "2022-02-11T21:23:09.282Z"
   },
   {
    "duration": 355,
    "start_time": "2022-02-11T21:23:10.139Z"
   },
   {
    "duration": 348,
    "start_time": "2022-02-11T21:23:10.497Z"
   },
   {
    "duration": 385,
    "start_time": "2022-02-11T21:23:10.847Z"
   },
   {
    "duration": 275,
    "start_time": "2022-02-11T21:23:11.235Z"
   },
   {
    "duration": 357,
    "start_time": "2022-02-11T21:23:11.513Z"
   },
   {
    "duration": 418,
    "start_time": "2022-02-11T21:23:11.873Z"
   },
   {
    "duration": 310,
    "start_time": "2022-02-11T21:23:12.294Z"
   },
   {
    "duration": 47,
    "start_time": "2022-02-11T21:23:12.607Z"
   },
   {
    "duration": 336,
    "start_time": "2022-02-11T21:23:12.657Z"
   },
   {
    "duration": 439,
    "start_time": "2022-02-11T21:23:13.328Z"
   },
   {
    "duration": 34,
    "start_time": "2022-02-11T21:23:33.285Z"
   },
   {
    "duration": 16,
    "start_time": "2022-02-11T21:23:40.933Z"
   },
   {
    "duration": 326,
    "start_time": "2022-02-11T21:25:12.506Z"
   },
   {
    "duration": 901,
    "start_time": "2022-02-11T21:25:23.477Z"
   },
   {
    "duration": 51,
    "start_time": "2022-02-11T21:25:24.381Z"
   },
   {
    "duration": 113,
    "start_time": "2022-02-11T21:25:24.435Z"
   },
   {
    "duration": 647,
    "start_time": "2022-02-11T21:25:24.551Z"
   },
   {
    "duration": 10,
    "start_time": "2022-02-11T21:25:25.201Z"
   },
   {
    "duration": 31,
    "start_time": "2022-02-11T21:25:25.214Z"
   },
   {
    "duration": 886,
    "start_time": "2022-02-11T21:25:25.248Z"
   },
   {
    "duration": 7,
    "start_time": "2022-02-11T21:25:26.137Z"
   },
   {
    "duration": 2132,
    "start_time": "2022-02-11T21:25:26.146Z"
   },
   {
    "duration": 243,
    "start_time": "2022-02-11T21:25:28.280Z"
   },
   {
    "duration": 229,
    "start_time": "2022-02-11T21:25:28.526Z"
   },
   {
    "duration": 235,
    "start_time": "2022-02-11T21:25:28.759Z"
   },
   {
    "duration": 795,
    "start_time": "2022-02-11T21:25:28.996Z"
   },
   {
    "duration": 871,
    "start_time": "2022-02-11T21:25:29.794Z"
   },
   {
    "duration": 367,
    "start_time": "2022-02-11T21:25:30.668Z"
   },
   {
    "duration": 361,
    "start_time": "2022-02-11T21:25:31.038Z"
   },
   {
    "duration": 373,
    "start_time": "2022-02-11T21:25:31.405Z"
   },
   {
    "duration": 288,
    "start_time": "2022-02-11T21:25:31.782Z"
   },
   {
    "duration": 348,
    "start_time": "2022-02-11T21:25:32.072Z"
   },
   {
    "duration": 329,
    "start_time": "2022-02-11T21:25:32.423Z"
   },
   {
    "duration": 308,
    "start_time": "2022-02-11T21:25:32.754Z"
   },
   {
    "duration": 35,
    "start_time": "2022-02-11T21:25:33.064Z"
   },
   {
    "duration": 342,
    "start_time": "2022-02-11T21:25:33.102Z"
   },
   {
    "duration": 6,
    "start_time": "2022-02-11T21:26:04.851Z"
   },
   {
    "duration": 306,
    "start_time": "2022-02-11T21:27:09.148Z"
   },
   {
    "duration": 382,
    "start_time": "2022-02-11T21:27:38.293Z"
   },
   {
    "duration": 363,
    "start_time": "2022-02-11T21:27:47.918Z"
   },
   {
    "duration": 34,
    "start_time": "2022-02-11T21:27:53.979Z"
   },
   {
    "duration": 6,
    "start_time": "2022-02-11T21:28:04.151Z"
   },
   {
    "duration": 7,
    "start_time": "2022-02-11T21:28:08.187Z"
   },
   {
    "duration": 5,
    "start_time": "2022-02-11T21:28:12.868Z"
   },
   {
    "duration": 6,
    "start_time": "2022-02-11T21:28:16.475Z"
   },
   {
    "duration": 318,
    "start_time": "2022-02-11T21:28:48.250Z"
   },
   {
    "duration": 13,
    "start_time": "2022-02-11T21:28:53.878Z"
   },
   {
    "duration": 317,
    "start_time": "2022-02-11T21:29:15.608Z"
   },
   {
    "duration": 315,
    "start_time": "2022-02-11T21:29:47.740Z"
   },
   {
    "duration": 14,
    "start_time": "2022-02-11T21:30:03.915Z"
   },
   {
    "duration": 964,
    "start_time": "2022-02-11T21:30:20.044Z"
   },
   {
    "duration": 47,
    "start_time": "2022-02-11T21:30:21.010Z"
   },
   {
    "duration": 122,
    "start_time": "2022-02-11T21:30:21.060Z"
   },
   {
    "duration": 650,
    "start_time": "2022-02-11T21:30:21.185Z"
   },
   {
    "duration": 9,
    "start_time": "2022-02-11T21:30:21.838Z"
   },
   {
    "duration": 21,
    "start_time": "2022-02-11T21:30:21.850Z"
   },
   {
    "duration": 830,
    "start_time": "2022-02-11T21:30:21.874Z"
   },
   {
    "duration": 7,
    "start_time": "2022-02-11T21:30:22.706Z"
   },
   {
    "duration": 1940,
    "start_time": "2022-02-11T21:30:22.715Z"
   },
   {
    "duration": 239,
    "start_time": "2022-02-11T21:30:24.658Z"
   },
   {
    "duration": 239,
    "start_time": "2022-02-11T21:30:24.899Z"
   },
   {
    "duration": 233,
    "start_time": "2022-02-11T21:30:25.141Z"
   },
   {
    "duration": 760,
    "start_time": "2022-02-11T21:30:25.378Z"
   },
   {
    "duration": 842,
    "start_time": "2022-02-11T21:30:26.140Z"
   },
   {
    "duration": 409,
    "start_time": "2022-02-11T21:30:26.985Z"
   },
   {
    "duration": 349,
    "start_time": "2022-02-11T21:30:27.396Z"
   },
   {
    "duration": 384,
    "start_time": "2022-02-11T21:30:27.748Z"
   },
   {
    "duration": 279,
    "start_time": "2022-02-11T21:30:28.135Z"
   },
   {
    "duration": 325,
    "start_time": "2022-02-11T21:30:28.417Z"
   },
   {
    "duration": 324,
    "start_time": "2022-02-11T21:30:28.744Z"
   },
   {
    "duration": 310,
    "start_time": "2022-02-11T21:30:29.071Z"
   },
   {
    "duration": 48,
    "start_time": "2022-02-11T21:30:29.384Z"
   },
   {
    "duration": 459,
    "start_time": "2022-02-11T21:30:29.434Z"
   },
   {
    "duration": 25,
    "start_time": "2022-02-11T21:31:16.085Z"
   },
   {
    "duration": 319,
    "start_time": "2022-02-11T21:31:56.011Z"
   },
   {
    "duration": 345,
    "start_time": "2022-02-11T21:32:10.916Z"
   },
   {
    "duration": 319,
    "start_time": "2022-02-11T21:32:32.045Z"
   },
   {
    "duration": 12,
    "start_time": "2022-02-11T21:32:38.331Z"
   },
   {
    "duration": 215,
    "start_time": "2022-02-11T21:32:39.065Z"
   },
   {
    "duration": 284,
    "start_time": "2022-02-11T21:32:41.005Z"
   },
   {
    "duration": 220,
    "start_time": "2022-02-11T21:32:43.496Z"
   },
   {
    "duration": 220,
    "start_time": "2022-02-11T21:32:44.285Z"
   },
   {
    "duration": 354,
    "start_time": "2022-02-11T21:32:49.018Z"
   },
   {
    "duration": 270,
    "start_time": "2022-02-11T21:32:49.991Z"
   },
   {
    "duration": 332,
    "start_time": "2022-02-11T21:32:51.019Z"
   },
   {
    "duration": 308,
    "start_time": "2022-02-11T21:32:51.672Z"
   },
   {
    "duration": 349,
    "start_time": "2022-02-11T21:32:52.527Z"
   },
   {
    "duration": 329,
    "start_time": "2022-02-11T21:32:53.570Z"
   },
   {
    "duration": 967,
    "start_time": "2022-02-11T21:34:49.338Z"
   },
   {
    "duration": 40,
    "start_time": "2022-02-11T21:34:51.451Z"
   },
   {
    "duration": 109,
    "start_time": "2022-02-11T21:34:51.642Z"
   },
   {
    "duration": 687,
    "start_time": "2022-02-11T21:34:52.637Z"
   },
   {
    "duration": 10,
    "start_time": "2022-02-11T21:34:53.649Z"
   },
   {
    "duration": 17,
    "start_time": "2022-02-11T21:34:54.037Z"
   },
   {
    "duration": 844,
    "start_time": "2022-02-11T21:34:54.217Z"
   },
   {
    "duration": 6,
    "start_time": "2022-02-11T21:34:55.064Z"
   },
   {
    "duration": 2077,
    "start_time": "2022-02-11T21:34:55.129Z"
   },
   {
    "duration": 267,
    "start_time": "2022-02-11T21:34:57.209Z"
   },
   {
    "duration": 240,
    "start_time": "2022-02-11T21:34:57.479Z"
   },
   {
    "duration": 230,
    "start_time": "2022-02-11T21:34:57.722Z"
   },
   {
    "duration": 809,
    "start_time": "2022-02-11T21:34:57.954Z"
   },
   {
    "duration": 869,
    "start_time": "2022-02-11T21:34:58.766Z"
   },
   {
    "duration": 362,
    "start_time": "2022-02-11T21:34:59.637Z"
   },
   {
    "duration": 369,
    "start_time": "2022-02-11T21:35:00.003Z"
   },
   {
    "duration": 424,
    "start_time": "2022-02-11T21:35:00.375Z"
   },
   {
    "duration": 295,
    "start_time": "2022-02-11T21:35:00.801Z"
   },
   {
    "duration": 360,
    "start_time": "2022-02-11T21:35:01.098Z"
   },
   {
    "duration": 336,
    "start_time": "2022-02-11T21:35:01.461Z"
   },
   {
    "duration": 327,
    "start_time": "2022-02-11T21:35:01.799Z"
   },
   {
    "duration": 36,
    "start_time": "2022-02-11T21:35:02.296Z"
   },
   {
    "duration": 333,
    "start_time": "2022-02-11T21:35:03.618Z"
   },
   {
    "duration": 12,
    "start_time": "2022-02-11T21:35:06.391Z"
   },
   {
    "duration": 236,
    "start_time": "2022-02-11T21:35:07.038Z"
   },
   {
    "duration": 292,
    "start_time": "2022-02-11T21:35:07.283Z"
   },
   {
    "duration": 216,
    "start_time": "2022-02-11T21:35:07.578Z"
   },
   {
    "duration": 237,
    "start_time": "2022-02-11T21:35:07.797Z"
   },
   {
    "duration": 351,
    "start_time": "2022-02-11T21:35:08.309Z"
   },
   {
    "duration": 279,
    "start_time": "2022-02-11T21:35:08.815Z"
   },
   {
    "duration": 352,
    "start_time": "2022-02-11T21:35:09.483Z"
   },
   {
    "duration": 312,
    "start_time": "2022-02-11T21:35:09.970Z"
   },
   {
    "duration": 329,
    "start_time": "2022-02-11T21:35:10.507Z"
   },
   {
    "duration": 316,
    "start_time": "2022-02-11T21:35:11.592Z"
   },
   {
    "duration": 93,
    "start_time": "2022-02-11T21:36:06.044Z"
   },
   {
    "duration": 1029,
    "start_time": "2022-02-12T12:22:22.961Z"
   },
   {
    "duration": 74,
    "start_time": "2022-02-12T12:22:23.994Z"
   },
   {
    "duration": 176,
    "start_time": "2022-02-12T12:22:24.072Z"
   },
   {
    "duration": 658,
    "start_time": "2022-02-12T12:22:24.252Z"
   },
   {
    "duration": 13,
    "start_time": "2022-02-12T12:22:24.913Z"
   },
   {
    "duration": 30,
    "start_time": "2022-02-12T12:22:24.929Z"
   },
   {
    "duration": 1222,
    "start_time": "2022-02-12T12:22:24.961Z"
   },
   {
    "duration": 7,
    "start_time": "2022-02-12T12:22:26.186Z"
   },
   {
    "duration": 2190,
    "start_time": "2022-02-12T12:22:26.196Z"
   },
   {
    "duration": 246,
    "start_time": "2022-02-12T12:22:28.389Z"
   },
   {
    "duration": 241,
    "start_time": "2022-02-12T12:22:28.643Z"
   },
   {
    "duration": 341,
    "start_time": "2022-02-12T12:22:28.887Z"
   },
   {
    "duration": 842,
    "start_time": "2022-02-12T12:22:29.231Z"
   },
   {
    "duration": 893,
    "start_time": "2022-02-12T12:22:30.076Z"
   },
   {
    "duration": 361,
    "start_time": "2022-02-12T12:22:30.971Z"
   },
   {
    "duration": 350,
    "start_time": "2022-02-12T12:22:31.335Z"
   },
   {
    "duration": 369,
    "start_time": "2022-02-12T12:22:31.687Z"
   },
   {
    "duration": 293,
    "start_time": "2022-02-12T12:22:32.059Z"
   },
   {
    "duration": 485,
    "start_time": "2022-02-12T12:22:32.355Z"
   },
   {
    "duration": 323,
    "start_time": "2022-02-12T12:22:32.843Z"
   },
   {
    "duration": 318,
    "start_time": "2022-02-12T12:22:33.168Z"
   },
   {
    "duration": 34,
    "start_time": "2022-02-12T12:22:33.489Z"
   },
   {
    "duration": 363,
    "start_time": "2022-02-12T12:22:33.528Z"
   },
   {
    "duration": 15,
    "start_time": "2022-02-12T12:22:33.894Z"
   },
   {
    "duration": 262,
    "start_time": "2022-02-12T12:22:33.912Z"
   },
   {
    "duration": 300,
    "start_time": "2022-02-12T12:22:34.176Z"
   },
   {
    "duration": 234,
    "start_time": "2022-02-12T12:22:34.478Z"
   },
   {
    "duration": 229,
    "start_time": "2022-02-12T12:22:34.714Z"
   },
   {
    "duration": 359,
    "start_time": "2022-02-12T12:22:34.949Z"
   },
   {
    "duration": 304,
    "start_time": "2022-02-12T12:22:35.311Z"
   },
   {
    "duration": 357,
    "start_time": "2022-02-12T12:22:35.619Z"
   },
   {
    "duration": 331,
    "start_time": "2022-02-12T12:22:35.979Z"
   },
   {
    "duration": 336,
    "start_time": "2022-02-12T12:22:36.312Z"
   },
   {
    "duration": 320,
    "start_time": "2022-02-12T12:22:36.651Z"
   },
   {
    "duration": 1033,
    "start_time": "2022-02-12T14:18:39.200Z"
   },
   {
    "duration": 47,
    "start_time": "2022-02-12T14:18:40.237Z"
   },
   {
    "duration": 129,
    "start_time": "2022-02-12T14:18:40.288Z"
   },
   {
    "duration": 642,
    "start_time": "2022-02-12T14:18:40.419Z"
   },
   {
    "duration": 13,
    "start_time": "2022-02-12T14:18:41.063Z"
   },
   {
    "duration": 17,
    "start_time": "2022-02-12T14:18:41.078Z"
   },
   {
    "duration": 845,
    "start_time": "2022-02-12T14:18:41.097Z"
   },
   {
    "duration": 6,
    "start_time": "2022-02-12T14:18:41.946Z"
   },
   {
    "duration": 1976,
    "start_time": "2022-02-12T14:18:41.955Z"
   },
   {
    "duration": 246,
    "start_time": "2022-02-12T14:18:43.933Z"
   },
   {
    "duration": 237,
    "start_time": "2022-02-12T14:18:44.182Z"
   },
   {
    "duration": 232,
    "start_time": "2022-02-12T14:18:44.422Z"
   },
   {
    "duration": 756,
    "start_time": "2022-02-12T14:18:44.656Z"
   },
   {
    "duration": 857,
    "start_time": "2022-02-12T14:18:45.415Z"
   },
   {
    "duration": 350,
    "start_time": "2022-02-12T14:18:46.275Z"
   },
   {
    "duration": 350,
    "start_time": "2022-02-12T14:18:46.627Z"
   },
   {
    "duration": 383,
    "start_time": "2022-02-12T14:18:46.980Z"
   },
   {
    "duration": 288,
    "start_time": "2022-02-12T14:18:47.366Z"
   },
   {
    "duration": 343,
    "start_time": "2022-02-12T14:18:47.657Z"
   },
   {
    "duration": 331,
    "start_time": "2022-02-12T14:18:48.002Z"
   },
   {
    "duration": 317,
    "start_time": "2022-02-12T14:18:48.335Z"
   },
   {
    "duration": 37,
    "start_time": "2022-02-12T14:18:48.654Z"
   },
   {
    "duration": 400,
    "start_time": "2022-02-12T14:18:48.695Z"
   },
   {
    "duration": 14,
    "start_time": "2022-02-12T14:18:49.097Z"
   },
   {
    "duration": 263,
    "start_time": "2022-02-12T14:18:49.114Z"
   },
   {
    "duration": 318,
    "start_time": "2022-02-12T14:18:49.380Z"
   },
   {
    "duration": 240,
    "start_time": "2022-02-12T14:18:49.701Z"
   },
   {
    "duration": 237,
    "start_time": "2022-02-12T14:18:49.944Z"
   },
   {
    "duration": 395,
    "start_time": "2022-02-12T14:18:50.185Z"
   },
   {
    "duration": 285,
    "start_time": "2022-02-12T14:18:50.584Z"
   },
   {
    "duration": 355,
    "start_time": "2022-02-12T14:18:50.872Z"
   },
   {
    "duration": 340,
    "start_time": "2022-02-12T14:18:51.231Z"
   },
   {
    "duration": 346,
    "start_time": "2022-02-12T14:18:51.574Z"
   },
   {
    "duration": 391,
    "start_time": "2022-02-12T14:18:51.922Z"
   },
   {
    "duration": 253,
    "start_time": "2022-02-12T16:13:57.528Z"
   },
   {
    "duration": 740,
    "start_time": "2022-02-12T16:14:05.408Z"
   },
   {
    "duration": 27,
    "start_time": "2022-02-12T16:14:31.640Z"
   },
   {
    "duration": 72,
    "start_time": "2022-02-12T16:14:35.614Z"
   },
   {
    "duration": 10,
    "start_time": "2022-02-12T16:14:35.973Z"
   },
   {
    "duration": 11,
    "start_time": "2022-02-12T16:17:02.868Z"
   },
   {
    "duration": 9,
    "start_time": "2022-02-12T16:18:39.954Z"
   },
   {
    "duration": 364,
    "start_time": "2022-02-12T16:20:28.740Z"
   },
   {
    "duration": 323,
    "start_time": "2022-02-12T16:21:50.984Z"
   },
   {
    "duration": 814,
    "start_time": "2022-02-12T16:22:02.409Z"
   },
   {
    "duration": 29,
    "start_time": "2022-02-12T16:22:03.277Z"
   },
   {
    "duration": 76,
    "start_time": "2022-02-12T16:22:04.578Z"
   },
   {
    "duration": 375,
    "start_time": "2022-02-12T16:22:08.324Z"
   },
   {
    "duration": 331,
    "start_time": "2022-02-12T16:22:09.683Z"
   },
   {
    "duration": 6,
    "start_time": "2022-02-12T16:23:05.607Z"
   },
   {
    "duration": 216,
    "start_time": "2022-02-12T16:23:11.929Z"
   },
   {
    "duration": 233,
    "start_time": "2022-02-12T16:23:15.765Z"
   },
   {
    "duration": 5,
    "start_time": "2022-02-12T16:23:27.872Z"
   },
   {
    "duration": 222,
    "start_time": "2022-02-12T16:23:28.648Z"
   },
   {
    "duration": 25,
    "start_time": "2022-02-12T16:23:57.956Z"
   },
   {
    "duration": 224,
    "start_time": "2022-02-12T16:24:18.532Z"
   },
   {
    "duration": 257,
    "start_time": "2022-02-12T16:24:22.656Z"
   },
   {
    "duration": 42,
    "start_time": "2022-02-12T16:24:26.526Z"
   },
   {
    "duration": 11,
    "start_time": "2022-02-12T16:24:46.655Z"
   },
   {
    "duration": 9,
    "start_time": "2022-02-12T16:24:54.794Z"
   },
   {
    "duration": 9,
    "start_time": "2022-02-12T16:25:00.690Z"
   },
   {
    "duration": 306,
    "start_time": "2022-02-12T16:25:54.072Z"
   },
   {
    "duration": 9,
    "start_time": "2022-02-12T16:25:59.089Z"
   },
   {
    "duration": 72,
    "start_time": "2022-02-12T16:28:26.975Z"
   },
   {
    "duration": 72,
    "start_time": "2022-02-12T16:28:32.405Z"
   },
   {
    "duration": 76,
    "start_time": "2022-02-12T16:28:47.181Z"
   },
   {
    "duration": 226,
    "start_time": "2022-02-12T16:28:53.151Z"
   },
   {
    "duration": 39,
    "start_time": "2022-02-12T16:29:03.063Z"
   },
   {
    "duration": 39,
    "start_time": "2022-02-12T16:29:14.892Z"
   },
   {
    "duration": 544,
    "start_time": "2022-02-12T16:29:37.862Z"
   },
   {
    "duration": 29,
    "start_time": "2022-02-12T16:29:53.738Z"
   },
   {
    "duration": 12,
    "start_time": "2022-02-12T16:30:12.415Z"
   },
   {
    "duration": 13,
    "start_time": "2022-02-12T16:30:34.224Z"
   },
   {
    "duration": 11,
    "start_time": "2022-02-12T16:30:39.578Z"
   },
   {
    "duration": 12,
    "start_time": "2022-02-12T16:30:42.709Z"
   },
   {
    "duration": 231,
    "start_time": "2022-02-12T16:31:40.580Z"
   },
   {
    "duration": 244,
    "start_time": "2022-02-12T16:31:46.447Z"
   },
   {
    "duration": 222,
    "start_time": "2022-02-12T16:33:21.056Z"
   },
   {
    "duration": 9,
    "start_time": "2022-02-12T16:33:26.673Z"
   },
   {
    "duration": 12,
    "start_time": "2022-02-12T16:34:09.878Z"
   },
   {
    "duration": 237,
    "start_time": "2022-02-12T16:40:20.427Z"
   },
   {
    "duration": 362,
    "start_time": "2022-02-12T16:40:45.608Z"
   },
   {
    "duration": 240,
    "start_time": "2022-02-12T16:40:53.088Z"
   },
   {
    "duration": 9,
    "start_time": "2022-02-12T16:42:48.450Z"
   },
   {
    "duration": 9,
    "start_time": "2022-02-12T16:42:54.674Z"
   },
   {
    "duration": 299,
    "start_time": "2022-02-12T16:43:03.046Z"
   },
   {
    "duration": 217,
    "start_time": "2022-02-12T16:43:28.544Z"
   },
   {
    "duration": 11,
    "start_time": "2022-02-12T16:43:32.915Z"
   },
   {
    "duration": 10,
    "start_time": "2022-02-12T16:43:37.404Z"
   },
   {
    "duration": 13,
    "start_time": "2022-02-12T16:43:40.389Z"
   },
   {
    "duration": 10,
    "start_time": "2022-02-12T16:43:50.966Z"
   },
   {
    "duration": 9,
    "start_time": "2022-02-12T16:44:08.531Z"
   },
   {
    "duration": 5,
    "start_time": "2022-02-12T16:45:21.341Z"
   },
   {
    "duration": 6,
    "start_time": "2022-02-12T16:45:31.292Z"
   },
   {
    "duration": 10,
    "start_time": "2022-02-12T16:47:19.179Z"
   },
   {
    "duration": 12,
    "start_time": "2022-02-12T16:47:37.249Z"
   },
   {
    "duration": 254,
    "start_time": "2022-02-12T16:47:39.987Z"
   },
   {
    "duration": 9,
    "start_time": "2022-02-12T16:47:43.253Z"
   },
   {
    "duration": 18,
    "start_time": "2022-02-12T16:47:58.405Z"
   },
   {
    "duration": 19,
    "start_time": "2022-02-12T16:48:07.377Z"
   },
   {
    "duration": 235,
    "start_time": "2022-02-12T16:48:16.416Z"
   },
   {
    "duration": 234,
    "start_time": "2022-02-12T16:48:23.836Z"
   },
   {
    "duration": 9,
    "start_time": "2022-02-12T16:48:27.633Z"
   },
   {
    "duration": 13,
    "start_time": "2022-02-12T16:48:35.137Z"
   },
   {
    "duration": 7364,
    "start_time": "2022-02-12T16:49:21.316Z"
   },
   {
    "duration": 8,
    "start_time": "2022-02-12T16:49:37.743Z"
   },
   {
    "duration": 7774,
    "start_time": "2022-02-12T16:49:57.870Z"
   },
   {
    "duration": 5,
    "start_time": "2022-02-12T16:50:14.909Z"
   },
   {
    "duration": 362,
    "start_time": "2022-02-12T16:50:28.556Z"
   },
   {
    "duration": 357,
    "start_time": "2022-02-12T16:50:37.554Z"
   },
   {
    "duration": 13,
    "start_time": "2022-02-12T16:50:44.524Z"
   },
   {
    "duration": 740,
    "start_time": "2022-02-12T16:50:56.079Z"
   },
   {
    "duration": 27,
    "start_time": "2022-02-12T16:50:58.785Z"
   },
   {
    "duration": 71,
    "start_time": "2022-02-12T16:50:59.052Z"
   },
   {
    "duration": 400,
    "start_time": "2022-02-12T16:51:05.718Z"
   },
   {
    "duration": 10,
    "start_time": "2022-02-12T16:51:07.941Z"
   },
   {
    "duration": 15,
    "start_time": "2022-02-12T16:52:00.976Z"
   },
   {
    "duration": 12,
    "start_time": "2022-02-12T16:52:08.244Z"
   },
   {
    "duration": 314,
    "start_time": "2022-02-12T16:52:21.010Z"
   },
   {
    "duration": 9,
    "start_time": "2022-02-12T16:55:16.539Z"
   },
   {
    "duration": 6,
    "start_time": "2022-02-12T16:57:23.808Z"
   },
   {
    "duration": 10,
    "start_time": "2022-02-12T16:57:57.239Z"
   },
   {
    "duration": 18,
    "start_time": "2022-02-12T16:58:15.839Z"
   },
   {
    "duration": 28,
    "start_time": "2022-02-12T16:59:19.295Z"
   },
   {
    "duration": 13,
    "start_time": "2022-02-12T17:00:49.722Z"
   },
   {
    "duration": 14,
    "start_time": "2022-02-12T17:02:17.672Z"
   },
   {
    "duration": 14,
    "start_time": "2022-02-12T17:02:27.131Z"
   },
   {
    "duration": 14,
    "start_time": "2022-02-12T17:03:03.368Z"
   },
   {
    "duration": 275,
    "start_time": "2022-02-12T17:03:46.164Z"
   },
   {
    "duration": 11,
    "start_time": "2022-02-12T17:03:58.505Z"
   },
   {
    "duration": 12,
    "start_time": "2022-02-12T17:04:03.631Z"
   },
   {
    "duration": 13,
    "start_time": "2022-02-12T17:04:08.252Z"
   },
   {
    "duration": 13,
    "start_time": "2022-02-12T17:09:02.952Z"
   },
   {
    "duration": 80,
    "start_time": "2022-02-12T17:10:38.473Z"
   },
   {
    "duration": 2,
    "start_time": "2022-02-12T17:10:51.949Z"
   },
   {
    "duration": 732,
    "start_time": "2022-02-12T17:11:04.052Z"
   },
   {
    "duration": 33,
    "start_time": "2022-02-12T17:11:04.786Z"
   },
   {
    "duration": 71,
    "start_time": "2022-02-12T17:11:04.887Z"
   },
   {
    "duration": 582,
    "start_time": "2022-02-12T17:11:10.488Z"
   },
   {
    "duration": 3,
    "start_time": "2022-02-12T17:11:12.037Z"
   },
   {
    "duration": 20,
    "start_time": "2022-02-12T17:12:38.604Z"
   },
   {
    "duration": 290,
    "start_time": "2022-02-12T17:13:03.899Z"
   },
   {
    "duration": 14,
    "start_time": "2022-02-12T17:13:13.068Z"
   },
   {
    "duration": 233,
    "start_time": "2022-02-12T17:13:16.089Z"
   },
   {
    "duration": 229,
    "start_time": "2022-02-12T17:14:16.236Z"
   },
   {
    "duration": 5,
    "start_time": "2022-02-12T17:14:22.101Z"
   },
   {
    "duration": 13,
    "start_time": "2022-02-12T17:15:05.578Z"
   },
   {
    "duration": 722,
    "start_time": "2022-02-12T17:15:26.743Z"
   },
   {
    "duration": 26,
    "start_time": "2022-02-12T17:15:27.467Z"
   },
   {
    "duration": 69,
    "start_time": "2022-02-12T17:15:27.735Z"
   },
   {
    "duration": 391,
    "start_time": "2022-02-12T17:15:29.756Z"
   },
   {
    "duration": 3,
    "start_time": "2022-02-12T17:15:30.527Z"
   },
   {
    "duration": 10,
    "start_time": "2022-02-12T17:15:50.410Z"
   },
   {
    "duration": 13,
    "start_time": "2022-02-12T17:15:51.322Z"
   },
   {
    "duration": 529,
    "start_time": "2022-02-12T17:15:51.650Z"
   },
   {
    "duration": 5,
    "start_time": "2022-02-12T17:15:52.181Z"
   },
   {
    "duration": 1284,
    "start_time": "2022-02-12T17:15:54.905Z"
   },
   {
    "duration": 807,
    "start_time": "2022-02-12T17:16:59.470Z"
   },
   {
    "duration": 1410,
    "start_time": "2022-02-12T17:17:04.852Z"
   },
   {
    "duration": 150,
    "start_time": "2022-02-12T17:17:52.618Z"
   },
   {
    "duration": 149,
    "start_time": "2022-02-12T17:17:53.057Z"
   },
   {
    "duration": 136,
    "start_time": "2022-02-12T17:17:53.435Z"
   },
   {
    "duration": 503,
    "start_time": "2022-02-12T17:17:54.569Z"
   },
   {
    "duration": 510,
    "start_time": "2022-02-12T17:17:55.550Z"
   },
   {
    "duration": 223,
    "start_time": "2022-02-12T17:17:59.010Z"
   },
   {
    "duration": 235,
    "start_time": "2022-02-12T17:18:01.046Z"
   },
   {
    "duration": 344,
    "start_time": "2022-02-12T17:18:02.027Z"
   },
   {
    "duration": 159,
    "start_time": "2022-02-12T17:18:03.026Z"
   },
   {
    "duration": 210,
    "start_time": "2022-02-12T17:18:07.692Z"
   },
   {
    "duration": 201,
    "start_time": "2022-02-12T17:18:36.028Z"
   },
   {
    "duration": 24,
    "start_time": "2022-02-12T17:18:41.447Z"
   },
   {
    "duration": 202,
    "start_time": "2022-02-12T17:18:44.716Z"
   },
   {
    "duration": 9,
    "start_time": "2022-02-12T17:18:48.148Z"
   },
   {
    "duration": 134,
    "start_time": "2022-02-12T17:18:48.865Z"
   },
   {
    "duration": 144,
    "start_time": "2022-02-12T17:18:49.211Z"
   },
   {
    "duration": 142,
    "start_time": "2022-02-12T17:18:49.442Z"
   },
   {
    "duration": 146,
    "start_time": "2022-02-12T17:18:49.678Z"
   },
   {
    "duration": 219,
    "start_time": "2022-02-12T17:18:50.101Z"
   },
   {
    "duration": 216,
    "start_time": "2022-02-12T17:19:07.260Z"
   },
   {
    "duration": 302,
    "start_time": "2022-02-12T17:19:10.401Z"
   },
   {
    "duration": 203,
    "start_time": "2022-02-12T17:19:28.479Z"
   },
   {
    "duration": 171,
    "start_time": "2022-02-12T17:23:25.746Z"
   },
   {
    "duration": 209,
    "start_time": "2022-02-12T17:25:26.796Z"
   },
   {
    "duration": 218,
    "start_time": "2022-02-12T17:25:51.979Z"
   },
   {
    "duration": 208,
    "start_time": "2022-02-12T17:26:17.485Z"
   },
   {
    "duration": 260,
    "start_time": "2022-02-12T17:28:05.067Z"
   },
   {
    "duration": 204,
    "start_time": "2022-02-12T17:28:07.929Z"
   },
   {
    "duration": 192,
    "start_time": "2022-02-12T17:28:12.285Z"
   },
   {
    "duration": 210,
    "start_time": "2022-02-12T17:28:54.314Z"
   },
   {
    "duration": 191,
    "start_time": "2022-02-12T17:31:50.437Z"
   },
   {
    "duration": 276,
    "start_time": "2022-02-12T17:31:53.731Z"
   },
   {
    "duration": 188,
    "start_time": "2022-02-12T17:32:14.243Z"
   },
   {
    "duration": 176,
    "start_time": "2022-02-12T17:35:01.528Z"
   },
   {
    "duration": 199,
    "start_time": "2022-02-12T17:36:20.653Z"
   },
   {
    "duration": 3,
    "start_time": "2022-02-12T17:39:12.081Z"
   },
   {
    "duration": 722,
    "start_time": "2022-02-12T17:39:41.332Z"
   },
   {
    "duration": 26,
    "start_time": "2022-02-12T17:39:42.057Z"
   },
   {
    "duration": 81,
    "start_time": "2022-02-12T17:39:42.085Z"
   },
   {
    "duration": 403,
    "start_time": "2022-02-12T17:39:43.550Z"
   },
   {
    "duration": 3,
    "start_time": "2022-02-12T17:39:43.956Z"
   },
   {
    "duration": 10,
    "start_time": "2022-02-12T17:39:46.501Z"
   },
   {
    "duration": 13,
    "start_time": "2022-02-12T17:39:47.310Z"
   },
   {
    "duration": 541,
    "start_time": "2022-02-12T17:39:47.562Z"
   },
   {
    "duration": 5,
    "start_time": "2022-02-12T17:39:59.549Z"
   },
   {
    "duration": 1391,
    "start_time": "2022-02-12T17:40:00.618Z"
   },
   {
    "duration": 157,
    "start_time": "2022-02-12T17:40:02.011Z"
   },
   {
    "duration": 158,
    "start_time": "2022-02-12T17:40:02.170Z"
   },
   {
    "duration": 153,
    "start_time": "2022-02-12T17:40:02.330Z"
   },
   {
    "duration": 473,
    "start_time": "2022-02-12T17:40:02.598Z"
   },
   {
    "duration": 552,
    "start_time": "2022-02-12T17:40:03.266Z"
   },
   {
    "duration": 262,
    "start_time": "2022-02-12T17:40:04.310Z"
   },
   {
    "duration": 236,
    "start_time": "2022-02-12T17:40:05.112Z"
   },
   {
    "duration": 244,
    "start_time": "2022-02-12T17:40:05.482Z"
   },
   {
    "duration": 162,
    "start_time": "2022-02-12T17:40:05.862Z"
   },
   {
    "duration": 204,
    "start_time": "2022-02-12T17:40:06.428Z"
   },
   {
    "duration": 195,
    "start_time": "2022-02-12T17:40:06.999Z"
   },
   {
    "duration": 202,
    "start_time": "2022-02-12T17:40:07.606Z"
   },
   {
    "duration": 23,
    "start_time": "2022-02-12T17:40:08.208Z"
   },
   {
    "duration": 201,
    "start_time": "2022-02-12T17:40:08.795Z"
   },
   {
    "duration": 11,
    "start_time": "2022-02-12T17:40:10.976Z"
   },
   {
    "duration": 139,
    "start_time": "2022-02-12T17:40:11.167Z"
   },
   {
    "duration": 205,
    "start_time": "2022-02-12T17:40:11.368Z"
   },
   {
    "duration": 125,
    "start_time": "2022-02-12T17:40:11.593Z"
   },
   {
    "duration": 137,
    "start_time": "2022-02-12T17:40:11.728Z"
   },
   {
    "duration": 201,
    "start_time": "2022-02-12T17:40:12.130Z"
   },
   {
    "duration": 161,
    "start_time": "2022-02-12T17:40:12.827Z"
   },
   {
    "duration": 224,
    "start_time": "2022-02-12T17:40:15.142Z"
   },
   {
    "duration": 196,
    "start_time": "2022-02-12T17:40:17.616Z"
   },
   {
    "duration": 227,
    "start_time": "2022-02-12T17:40:19.278Z"
   },
   {
    "duration": 191,
    "start_time": "2022-02-12T17:40:20.976Z"
   },
   {
    "duration": 1023,
    "start_time": "2022-02-12T19:14:55.504Z"
   },
   {
    "duration": 48,
    "start_time": "2022-02-12T19:14:56.530Z"
   },
   {
    "duration": 119,
    "start_time": "2022-02-12T19:14:56.581Z"
   },
   {
    "duration": 617,
    "start_time": "2022-02-12T19:14:56.703Z"
   },
   {
    "duration": 4,
    "start_time": "2022-02-12T19:14:57.323Z"
   },
   {
    "duration": 31,
    "start_time": "2022-02-12T19:14:57.330Z"
   },
   {
    "duration": 18,
    "start_time": "2022-02-12T19:14:57.363Z"
   },
   {
    "duration": 844,
    "start_time": "2022-02-12T19:14:57.386Z"
   },
   {
    "duration": 9,
    "start_time": "2022-02-12T19:14:58.233Z"
   },
   {
    "duration": 2010,
    "start_time": "2022-02-12T19:14:58.260Z"
   },
   {
    "duration": 248,
    "start_time": "2022-02-12T19:15:00.273Z"
   },
   {
    "duration": 255,
    "start_time": "2022-02-12T19:15:00.524Z"
   },
   {
    "duration": 236,
    "start_time": "2022-02-12T19:15:00.782Z"
   },
   {
    "duration": 783,
    "start_time": "2022-02-12T19:15:01.021Z"
   },
   {
    "duration": 874,
    "start_time": "2022-02-12T19:15:01.806Z"
   },
   {
    "duration": 342,
    "start_time": "2022-02-12T19:15:02.682Z"
   },
   {
    "duration": 362,
    "start_time": "2022-02-12T19:15:03.026Z"
   },
   {
    "duration": 384,
    "start_time": "2022-02-12T19:15:03.390Z"
   },
   {
    "duration": 279,
    "start_time": "2022-02-12T19:15:03.777Z"
   },
   {
    "duration": 335,
    "start_time": "2022-02-12T19:15:04.060Z"
   },
   {
    "duration": 325,
    "start_time": "2022-02-12T19:15:04.398Z"
   },
   {
    "duration": 327,
    "start_time": "2022-02-12T19:15:04.726Z"
   },
   {
    "duration": 35,
    "start_time": "2022-02-12T19:15:05.064Z"
   },
   {
    "duration": 351,
    "start_time": "2022-02-12T19:15:05.101Z"
   },
   {
    "duration": 15,
    "start_time": "2022-02-12T19:15:05.455Z"
   },
   {
    "duration": 249,
    "start_time": "2022-02-12T19:15:05.473Z"
   },
   {
    "duration": 445,
    "start_time": "2022-02-12T19:15:05.724Z"
   },
   {
    "duration": 310,
    "start_time": "2022-02-12T19:15:06.173Z"
   },
   {
    "duration": 230,
    "start_time": "2022-02-12T19:15:06.486Z"
   },
   {
    "duration": 346,
    "start_time": "2022-02-12T19:15:06.718Z"
   },
   {
    "duration": 265,
    "start_time": "2022-02-12T19:15:07.067Z"
   },
   {
    "duration": 359,
    "start_time": "2022-02-12T19:15:07.334Z"
   },
   {
    "duration": 317,
    "start_time": "2022-02-12T19:15:07.696Z"
   },
   {
    "duration": 336,
    "start_time": "2022-02-12T19:15:08.016Z"
   },
   {
    "duration": 346,
    "start_time": "2022-02-12T19:15:08.359Z"
   },
   {
    "duration": 679,
    "start_time": "2022-02-12T19:51:12.526Z"
   },
   {
    "duration": 22,
    "start_time": "2022-02-12T19:51:14.902Z"
   },
   {
    "duration": 61,
    "start_time": "2022-02-12T19:51:16.044Z"
   },
   {
    "duration": 25,
    "start_time": "2022-02-12T19:52:53.950Z"
   },
   {
    "duration": 744,
    "start_time": "2022-02-12T19:53:24.413Z"
   },
   {
    "duration": 58,
    "start_time": "2022-02-12T19:53:44.553Z"
   },
   {
    "duration": 52,
    "start_time": "2022-02-12T19:54:24.711Z"
   },
   {
    "duration": 685,
    "start_time": "2022-02-12T19:54:54.525Z"
   },
   {
    "duration": 21,
    "start_time": "2022-02-12T19:54:55.211Z"
   },
   {
    "duration": 59,
    "start_time": "2022-02-12T19:54:55.234Z"
   },
   {
    "duration": 2,
    "start_time": "2022-02-12T19:54:55.345Z"
   },
   {
    "duration": 329,
    "start_time": "2022-02-12T19:56:15.647Z"
   },
   {
    "duration": 2,
    "start_time": "2022-02-12T19:56:16.276Z"
   },
   {
    "duration": 10,
    "start_time": "2022-02-12T19:56:19.679Z"
   },
   {
    "duration": 11,
    "start_time": "2022-02-12T19:56:20.125Z"
   },
   {
    "duration": 480,
    "start_time": "2022-02-12T19:56:20.330Z"
   },
   {
    "duration": 6,
    "start_time": "2022-02-12T19:56:21.049Z"
   },
   {
    "duration": 1057,
    "start_time": "2022-02-12T19:56:22.162Z"
   },
   {
    "duration": 1065,
    "start_time": "2022-02-12T19:56:56.798Z"
   },
   {
    "duration": 683,
    "start_time": "2022-02-12T19:57:02.967Z"
   },
   {
    "duration": 1044,
    "start_time": "2022-02-12T19:57:06.583Z"
   },
   {
    "duration": 1107,
    "start_time": "2022-02-12T19:57:15.127Z"
   },
   {
    "duration": 90,
    "start_time": "2022-02-12T19:57:50.274Z"
   },
   {
    "duration": 1201,
    "start_time": "2022-02-12T19:58:02.539Z"
   },
   {
    "duration": 627,
    "start_time": "2022-02-12T20:02:32.004Z"
   },
   {
    "duration": 1176,
    "start_time": "2022-02-12T20:05:23.351Z"
   },
   {
    "duration": 1663,
    "start_time": "2022-02-12T20:08:39.582Z"
   },
   {
    "duration": 1861,
    "start_time": "2022-02-12T20:09:21.359Z"
   },
   {
    "duration": 1133,
    "start_time": "2022-02-12T20:10:04.086Z"
   },
   {
    "duration": 136,
    "start_time": "2022-02-12T20:10:05.221Z"
   },
   {
    "duration": 142,
    "start_time": "2022-02-12T20:10:05.359Z"
   },
   {
    "duration": 115,
    "start_time": "2022-02-12T20:10:06.032Z"
   },
   {
    "duration": 667,
    "start_time": "2022-02-12T20:10:07.112Z"
   },
   {
    "duration": 521,
    "start_time": "2022-02-12T20:10:13.502Z"
   },
   {
    "duration": 417,
    "start_time": "2022-02-12T20:11:08.312Z"
   },
   {
    "duration": 441,
    "start_time": "2022-02-12T20:11:23.207Z"
   },
   {
    "duration": 708,
    "start_time": "2022-02-12T20:12:35.238Z"
   },
   {
    "duration": 798,
    "start_time": "2022-02-12T20:12:48.598Z"
   },
   {
    "duration": 635,
    "start_time": "2022-02-12T20:12:58.303Z"
   },
   {
    "duration": 593,
    "start_time": "2022-02-12T20:13:08.243Z"
   },
   {
    "duration": 594,
    "start_time": "2022-02-12T20:13:28.563Z"
   },
   {
    "duration": 682,
    "start_time": "2022-02-12T20:13:51.567Z"
   },
   {
    "duration": 603,
    "start_time": "2022-02-12T20:14:33.101Z"
   },
   {
    "duration": 613,
    "start_time": "2022-02-12T20:14:52.679Z"
   },
   {
    "duration": 179,
    "start_time": "2022-02-12T20:15:35.649Z"
   },
   {
    "duration": 202,
    "start_time": "2022-02-12T20:15:38.887Z"
   },
   {
    "duration": 207,
    "start_time": "2022-02-12T20:15:40.234Z"
   },
   {
    "duration": 230,
    "start_time": "2022-02-12T20:15:42.373Z"
   },
   {
    "duration": 189,
    "start_time": "2022-02-12T20:15:48.929Z"
   },
   {
    "duration": 168,
    "start_time": "2022-02-12T20:15:52.094Z"
   },
   {
    "duration": 172,
    "start_time": "2022-02-12T20:15:54.272Z"
   },
   {
    "duration": 22,
    "start_time": "2022-02-12T20:15:56.925Z"
   },
   {
    "duration": 189,
    "start_time": "2022-02-12T20:15:58.147Z"
   },
   {
    "duration": 8,
    "start_time": "2022-02-12T20:15:59.796Z"
   },
   {
    "duration": 118,
    "start_time": "2022-02-12T20:16:00.111Z"
   },
   {
    "duration": 122,
    "start_time": "2022-02-12T20:16:00.810Z"
   },
   {
    "duration": 115,
    "start_time": "2022-02-12T20:16:01.593Z"
   },
   {
    "duration": 120,
    "start_time": "2022-02-12T20:16:02.088Z"
   },
   {
    "duration": 187,
    "start_time": "2022-02-12T20:16:03.721Z"
   },
   {
    "duration": 155,
    "start_time": "2022-02-12T20:16:07.415Z"
   },
   {
    "duration": 189,
    "start_time": "2022-02-12T20:16:09.575Z"
   },
   {
    "duration": 168,
    "start_time": "2022-02-12T20:16:11.188Z"
   },
   {
    "duration": 251,
    "start_time": "2022-02-12T20:16:12.549Z"
   },
   {
    "duration": 162,
    "start_time": "2022-02-12T20:16:13.877Z"
   },
   {
    "duration": 1036,
    "start_time": "2022-02-13T12:42:40.368Z"
   },
   {
    "duration": 59,
    "start_time": "2022-02-13T12:42:42.352Z"
   },
   {
    "duration": 117,
    "start_time": "2022-02-13T12:42:42.913Z"
   },
   {
    "duration": 4,
    "start_time": "2022-02-13T12:42:43.292Z"
   },
   {
    "duration": 653,
    "start_time": "2022-02-13T12:42:46.260Z"
   },
   {
    "duration": 4,
    "start_time": "2022-02-13T12:42:46.930Z"
   },
   {
    "duration": 12,
    "start_time": "2022-02-13T12:42:54.514Z"
   },
   {
    "duration": 25,
    "start_time": "2022-02-13T12:42:55.062Z"
   },
   {
    "duration": 860,
    "start_time": "2022-02-13T12:42:55.625Z"
   },
   {
    "duration": 7,
    "start_time": "2022-02-13T12:42:57.559Z"
   },
   {
    "duration": 2180,
    "start_time": "2022-02-13T12:43:00.321Z"
   },
   {
    "duration": 265,
    "start_time": "2022-02-13T12:43:03.777Z"
   },
   {
    "duration": 232,
    "start_time": "2022-02-13T12:43:04.960Z"
   },
   {
    "duration": 251,
    "start_time": "2022-02-13T12:43:05.861Z"
   },
   {
    "duration": 1316,
    "start_time": "2022-02-13T12:43:10.920Z"
   },
   {
    "duration": 908,
    "start_time": "2022-02-13T12:43:16.928Z"
   },
   {
    "duration": 1006,
    "start_time": "2022-02-13T12:43:40.352Z"
   },
   {
    "duration": 918,
    "start_time": "2022-02-13T12:44:51.559Z"
   },
   {
    "duration": 601,
    "start_time": "2022-02-13T12:44:59.579Z"
   },
   {
    "duration": 803,
    "start_time": "2022-02-13T12:45:05.640Z"
   },
   {
    "duration": 881,
    "start_time": "2022-02-13T12:45:22.165Z"
   },
   {
    "duration": 3452,
    "start_time": "2022-02-13T12:49:45.301Z"
   },
   {
    "duration": 245,
    "start_time": "2022-02-13T12:49:57.506Z"
   },
   {
    "duration": 258,
    "start_time": "2022-02-13T12:49:57.777Z"
   },
   {
    "duration": 234,
    "start_time": "2022-02-13T12:49:58.872Z"
   },
   {
    "duration": 1325,
    "start_time": "2022-02-13T12:51:01.082Z"
   },
   {
    "duration": 656,
    "start_time": "2022-02-13T12:51:25.745Z"
   },
   {
    "duration": 1034,
    "start_time": "2022-02-13T12:51:31.516Z"
   },
   {
    "duration": 746,
    "start_time": "2022-02-13T12:51:39.454Z"
   },
   {
    "duration": 373,
    "start_time": "2022-02-13T12:51:43.978Z"
   },
   {
    "duration": 325,
    "start_time": "2022-02-13T12:51:56.687Z"
   },
   {
    "duration": 247,
    "start_time": "2022-02-13T12:52:03.470Z"
   },
   {
    "duration": 317,
    "start_time": "2022-02-13T12:52:16.287Z"
   },
   {
    "duration": 220,
    "start_time": "2022-02-13T12:53:04.047Z"
   },
   {
    "duration": 1917,
    "start_time": "2022-02-13T12:55:59.184Z"
   },
   {
    "duration": 1195,
    "start_time": "2022-02-13T12:57:09.665Z"
   },
   {
    "duration": 1863,
    "start_time": "2022-02-13T12:57:20.303Z"
   },
   {
    "duration": 853,
    "start_time": "2022-02-13T12:57:34.758Z"
   },
   {
    "duration": 547,
    "start_time": "2022-02-13T12:57:43.742Z"
   },
   {
    "duration": 658,
    "start_time": "2022-02-13T12:58:05.331Z"
   },
   {
    "duration": 585,
    "start_time": "2022-02-13T12:58:09.860Z"
   },
   {
    "duration": 557,
    "start_time": "2022-02-13T12:58:22.713Z"
   },
   {
    "duration": 561,
    "start_time": "2022-02-13T12:59:10.143Z"
   },
   {
    "duration": 559,
    "start_time": "2022-02-13T12:59:39.935Z"
   },
   {
    "duration": 717,
    "start_time": "2022-02-13T12:59:49.192Z"
   },
   {
    "duration": 566,
    "start_time": "2022-02-13T13:00:14.385Z"
   },
   {
    "duration": 601,
    "start_time": "2022-02-13T13:00:34.762Z"
   },
   {
    "duration": 853,
    "start_time": "2022-02-13T13:03:12.205Z"
   },
   {
    "duration": 570,
    "start_time": "2022-02-13T13:03:25.390Z"
   },
   {
    "duration": 792,
    "start_time": "2022-02-13T13:04:17.982Z"
   },
   {
    "duration": 616,
    "start_time": "2022-02-13T13:04:27.066Z"
   },
   {
    "duration": 621,
    "start_time": "2022-02-13T13:04:36.097Z"
   },
   {
    "duration": 1057,
    "start_time": "2022-02-13T13:04:53.619Z"
   },
   {
    "duration": 1157,
    "start_time": "2022-02-13T13:04:54.680Z"
   },
   {
    "duration": 886,
    "start_time": "2022-02-13T13:05:59.828Z"
   },
   {
    "duration": 1369,
    "start_time": "2022-02-13T13:06:48.166Z"
   },
   {
    "duration": 616,
    "start_time": "2022-02-13T13:06:52.065Z"
   },
   {
    "duration": 1177,
    "start_time": "2022-02-13T13:10:14.593Z"
   },
   {
    "duration": 840,
    "start_time": "2022-02-13T13:10:15.774Z"
   },
   {
    "duration": 243,
    "start_time": "2022-02-13T13:12:19.765Z"
   },
   {
    "duration": 249,
    "start_time": "2022-02-13T13:12:24.758Z"
   },
   {
    "duration": 248,
    "start_time": "2022-02-13T13:12:31.312Z"
   },
   {
    "duration": 399,
    "start_time": "2022-02-13T13:14:34.033Z"
   },
   {
    "duration": 2497,
    "start_time": "2022-02-13T13:18:37.284Z"
   },
   {
    "duration": 3146,
    "start_time": "2022-02-13T13:23:10.589Z"
   },
   {
    "duration": 2465,
    "start_time": "2022-02-13T13:23:21.163Z"
   },
   {
    "duration": 3320,
    "start_time": "2022-02-13T13:23:39.077Z"
   },
   {
    "duration": 2607,
    "start_time": "2022-02-13T13:23:52.795Z"
   },
   {
    "duration": 2260,
    "start_time": "2022-02-13T13:24:12.875Z"
   },
   {
    "duration": 3652,
    "start_time": "2022-02-13T13:26:01.317Z"
   },
   {
    "duration": 3013,
    "start_time": "2022-02-13T13:26:09.748Z"
   },
   {
    "duration": 2575,
    "start_time": "2022-02-13T13:26:28.785Z"
   },
   {
    "duration": 2278,
    "start_time": "2022-02-13T13:26:38.869Z"
   },
   {
    "duration": 2655,
    "start_time": "2022-02-13T13:26:44.971Z"
   },
   {
    "duration": 3247,
    "start_time": "2022-02-13T13:26:49.205Z"
   },
   {
    "duration": 232,
    "start_time": "2022-02-13T13:27:11.094Z"
   },
   {
    "duration": 280,
    "start_time": "2022-02-13T13:27:21.548Z"
   },
   {
    "duration": 1030,
    "start_time": "2022-02-13T13:28:26.513Z"
   },
   {
    "duration": 46,
    "start_time": "2022-02-13T13:28:27.552Z"
   },
   {
    "duration": 323,
    "start_time": "2022-02-13T13:28:27.625Z"
   },
   {
    "duration": 57,
    "start_time": "2022-02-13T13:28:27.953Z"
   },
   {
    "duration": 1047,
    "start_time": "2022-02-13T13:28:28.018Z"
   },
   {
    "duration": 5,
    "start_time": "2022-02-13T13:28:29.069Z"
   },
   {
    "duration": 475,
    "start_time": "2022-02-13T13:28:29.077Z"
   },
   {
    "duration": 478,
    "start_time": "2022-02-13T13:28:29.556Z"
   },
   {
    "duration": 1324,
    "start_time": "2022-02-13T13:28:30.037Z"
   },
   {
    "duration": 24,
    "start_time": "2022-02-13T13:28:31.364Z"
   },
   {
    "duration": 3239,
    "start_time": "2022-02-13T13:28:31.391Z"
   },
   {
    "duration": 305,
    "start_time": "2022-02-13T13:28:34.634Z"
   },
   {
    "duration": 417,
    "start_time": "2022-02-13T13:28:34.942Z"
   },
   {
    "duration": 488,
    "start_time": "2022-02-13T13:28:35.363Z"
   },
   {
    "duration": 864,
    "start_time": "2022-02-13T13:28:35.853Z"
   },
   {
    "duration": 1532,
    "start_time": "2022-02-13T13:28:36.724Z"
   },
   {
    "duration": 619,
    "start_time": "2022-02-13T13:28:38.260Z"
   },
   {
    "duration": 886,
    "start_time": "2022-02-13T13:28:52.101Z"
   },
   {
    "duration": 1129,
    "start_time": "2022-02-13T13:29:23.123Z"
   },
   {
    "duration": 55,
    "start_time": "2022-02-13T13:29:55.460Z"
   },
   {
    "duration": 1701,
    "start_time": "2022-02-13T13:29:58.933Z"
   },
   {
    "duration": 1384,
    "start_time": "2022-02-13T13:30:16.079Z"
   },
   {
    "duration": 982,
    "start_time": "2022-02-13T13:30:24.646Z"
   },
   {
    "duration": 1251,
    "start_time": "2022-02-13T13:34:34.380Z"
   },
   {
    "duration": 50,
    "start_time": "2022-02-13T13:34:35.635Z"
   },
   {
    "duration": 395,
    "start_time": "2022-02-13T13:34:35.688Z"
   },
   {
    "duration": 144,
    "start_time": "2022-02-13T13:34:36.086Z"
   },
   {
    "duration": 1056,
    "start_time": "2022-02-13T13:34:36.233Z"
   },
   {
    "duration": 4,
    "start_time": "2022-02-13T13:34:37.292Z"
   },
   {
    "duration": 415,
    "start_time": "2022-02-13T13:34:37.299Z"
   },
   {
    "duration": 289,
    "start_time": "2022-02-13T13:34:37.717Z"
   },
   {
    "duration": 1288,
    "start_time": "2022-02-13T13:34:38.010Z"
   },
   {
    "duration": 7,
    "start_time": "2022-02-13T13:34:39.302Z"
   },
   {
    "duration": 3527,
    "start_time": "2022-02-13T13:34:39.312Z"
   },
   {
    "duration": 354,
    "start_time": "2022-02-13T13:34:42.843Z"
   },
   {
    "duration": 334,
    "start_time": "2022-02-13T13:34:43.203Z"
   },
   {
    "duration": 336,
    "start_time": "2022-02-13T13:34:43.539Z"
   },
   {
    "duration": 879,
    "start_time": "2022-02-13T13:34:43.878Z"
   },
   {
    "duration": 167,
    "start_time": "2022-02-13T13:34:44.760Z"
   },
   {
    "duration": 1163,
    "start_time": "2022-02-13T13:34:44.931Z"
   },
   {
    "duration": 1538,
    "start_time": "2022-02-13T13:35:00.821Z"
   },
   {
    "duration": 983,
    "start_time": "2022-02-13T13:35:39.403Z"
   },
   {
    "duration": 1333,
    "start_time": "2022-02-13T13:35:44.738Z"
   },
   {
    "duration": 457,
    "start_time": "2022-02-13T13:35:53.749Z"
   },
   {
    "duration": 12,
    "start_time": "2022-02-13T13:35:58.343Z"
   },
   {
    "duration": 44,
    "start_time": "2022-02-13T13:36:35.405Z"
   },
   {
    "duration": 987,
    "start_time": "2022-02-13T13:36:36.161Z"
   },
   {
    "duration": 1078,
    "start_time": "2022-02-13T13:37:29.659Z"
   },
   {
    "duration": 991,
    "start_time": "2022-02-13T13:38:13.768Z"
   },
   {
    "duration": 72,
    "start_time": "2022-02-13T13:38:14.763Z"
   },
   {
    "duration": 439,
    "start_time": "2022-02-13T13:38:14.838Z"
   },
   {
    "duration": 234,
    "start_time": "2022-02-13T13:38:15.280Z"
   },
   {
    "duration": 484,
    "start_time": "2022-02-13T13:38:16.225Z"
   },
   {
    "duration": 715,
    "start_time": "2022-02-13T13:38:37.143Z"
   },
   {
    "duration": 960,
    "start_time": "2022-02-13T13:39:03.387Z"
   },
   {
    "duration": 613,
    "start_time": "2022-02-13T13:39:16.618Z"
   },
   {
    "duration": 177,
    "start_time": "2022-02-13T13:39:26.138Z"
   },
   {
    "duration": 902,
    "start_time": "2022-02-13T13:39:32.322Z"
   },
   {
    "duration": 902,
    "start_time": "2022-02-13T13:39:35.410Z"
   },
   {
    "duration": 1046,
    "start_time": "2022-02-13T13:39:43.298Z"
   },
   {
    "duration": 60,
    "start_time": "2022-02-13T13:39:44.348Z"
   },
   {
    "duration": 327,
    "start_time": "2022-02-13T13:39:44.424Z"
   },
   {
    "duration": 72,
    "start_time": "2022-02-13T13:39:44.755Z"
   },
   {
    "duration": 1352,
    "start_time": "2022-02-13T13:39:44.830Z"
   },
   {
    "duration": -90,
    "start_time": "2022-02-13T13:39:46.275Z"
   },
   {
    "duration": -91,
    "start_time": "2022-02-13T13:39:46.278Z"
   },
   {
    "duration": 31,
    "start_time": "2022-02-13T13:39:46.199Z"
   },
   {
    "duration": 1564,
    "start_time": "2022-02-13T13:39:46.590Z"
   },
   {
    "duration": 672,
    "start_time": "2022-02-13T13:42:42.566Z"
   },
   {
    "duration": 6,
    "start_time": "2022-02-13T13:42:48.947Z"
   },
   {
    "duration": 37,
    "start_time": "2022-02-13T13:42:49.844Z"
   },
   {
    "duration": 22,
    "start_time": "2022-02-13T13:42:50.146Z"
   },
   {
    "duration": 1477,
    "start_time": "2022-02-13T13:42:50.345Z"
   },
   {
    "duration": 14,
    "start_time": "2022-02-13T13:42:51.826Z"
   },
   {
    "duration": 3192,
    "start_time": "2022-02-13T13:42:51.844Z"
   },
   {
    "duration": 481,
    "start_time": "2022-02-13T13:42:55.040Z"
   },
   {
    "duration": 248,
    "start_time": "2022-02-13T13:42:55.525Z"
   },
   {
    "duration": 257,
    "start_time": "2022-02-13T13:42:55.776Z"
   },
   {
    "duration": 689,
    "start_time": "2022-02-13T13:42:56.037Z"
   },
   {
    "duration": 56,
    "start_time": "2022-02-13T13:42:56.729Z"
   },
   {
    "duration": 1166,
    "start_time": "2022-02-13T13:43:16.409Z"
   },
   {
    "duration": 12,
    "start_time": "2022-02-13T13:43:24.640Z"
   },
   {
    "duration": 55,
    "start_time": "2022-02-13T13:44:07.778Z"
   },
   {
    "duration": 1409,
    "start_time": "2022-02-13T13:44:09.179Z"
   },
   {
    "duration": 12,
    "start_time": "2022-02-13T13:44:17.294Z"
   },
   {
    "duration": 861,
    "start_time": "2022-02-13T14:19:21.538Z"
   },
   {
    "duration": 9,
    "start_time": "2022-02-13T14:19:22.552Z"
   },
   {
    "duration": 7,
    "start_time": "2022-02-13T14:19:25.077Z"
   },
   {
    "duration": 16,
    "start_time": "2022-02-13T14:19:25.446Z"
   },
   {
    "duration": 1101,
    "start_time": "2022-02-13T14:19:25.628Z"
   },
   {
    "duration": 10,
    "start_time": "2022-02-13T14:19:26.732Z"
   },
   {
    "duration": 64,
    "start_time": "2022-02-13T14:22:24.901Z"
   },
   {
    "duration": 12,
    "start_time": "2022-02-13T14:22:28.055Z"
   },
   {
    "duration": 11,
    "start_time": "2022-02-13T14:22:37.411Z"
   },
   {
    "duration": 1149,
    "start_time": "2022-02-13T14:23:05.680Z"
   },
   {
    "duration": 51,
    "start_time": "2022-02-13T14:23:06.831Z"
   },
   {
    "duration": 390,
    "start_time": "2022-02-13T14:23:06.887Z"
   },
   {
    "duration": 64,
    "start_time": "2022-02-13T14:23:07.281Z"
   },
   {
    "duration": 810,
    "start_time": "2022-02-13T14:23:07.544Z"
   },
   {
    "duration": 4,
    "start_time": "2022-02-13T14:23:08.358Z"
   },
   {
    "duration": 303,
    "start_time": "2022-02-13T14:23:08.925Z"
   },
   {
    "duration": 19,
    "start_time": "2022-02-13T14:23:09.485Z"
   },
   {
    "duration": 1289,
    "start_time": "2022-02-13T14:23:09.718Z"
   },
   {
    "duration": 11,
    "start_time": "2022-02-13T14:23:11.011Z"
   },
   {
    "duration": 3498,
    "start_time": "2022-02-13T14:23:11.025Z"
   },
   {
    "duration": 269,
    "start_time": "2022-02-13T14:23:14.527Z"
   },
   {
    "duration": 105,
    "start_time": "2022-02-13T14:23:35.575Z"
   },
   {
    "duration": 47,
    "start_time": "2022-02-13T14:23:39.893Z"
   },
   {
    "duration": 121,
    "start_time": "2022-02-13T14:23:55.063Z"
   },
   {
    "duration": 4,
    "start_time": "2022-02-13T14:23:55.541Z"
   },
   {
    "duration": 1036,
    "start_time": "2022-02-13T14:25:11.236Z"
   },
   {
    "duration": 64,
    "start_time": "2022-02-13T14:25:12.275Z"
   },
   {
    "duration": 354,
    "start_time": "2022-02-13T14:25:12.342Z"
   },
   {
    "duration": 46,
    "start_time": "2022-02-13T14:25:12.699Z"
   },
   {
    "duration": 1177,
    "start_time": "2022-02-13T14:25:16.074Z"
   },
   {
    "duration": 884,
    "start_time": "2022-02-13T14:25:30.979Z"
   },
   {
    "duration": 1598,
    "start_time": "2022-02-13T14:25:39.422Z"
   },
   {
    "duration": 1115,
    "start_time": "2022-02-13T14:26:08.679Z"
   },
   {
    "duration": 1027,
    "start_time": "2022-02-13T14:26:19.800Z"
   },
   {
    "duration": 688,
    "start_time": "2022-02-13T14:26:27.697Z"
   },
   {
    "duration": 23,
    "start_time": "2022-02-13T14:26:42.140Z"
   },
   {
    "duration": 3,
    "start_time": "2022-02-13T14:26:43.560Z"
   },
   {
    "duration": 14,
    "start_time": "2022-02-13T14:26:46.124Z"
   },
   {
    "duration": 19,
    "start_time": "2022-02-13T14:26:46.574Z"
   },
   {
    "duration": 1259,
    "start_time": "2022-02-13T14:26:47.053Z"
   },
   {
    "duration": 17,
    "start_time": "2022-02-13T14:26:48.316Z"
   },
   {
    "duration": 3227,
    "start_time": "2022-02-13T14:26:48.389Z"
   },
   {
    "duration": 318,
    "start_time": "2022-02-13T14:27:03.547Z"
   },
   {
    "duration": 259,
    "start_time": "2022-02-13T14:27:04.148Z"
   },
   {
    "duration": 320,
    "start_time": "2022-02-13T14:27:04.953Z"
   },
   {
    "duration": 789,
    "start_time": "2022-02-13T14:27:10.821Z"
   },
   {
    "duration": 580,
    "start_time": "2022-02-13T14:27:49.019Z"
   },
   {
    "duration": 815,
    "start_time": "2022-02-13T14:28:00.660Z"
   },
   {
    "duration": 28,
    "start_time": "2022-02-13T14:30:04.674Z"
   },
   {
    "duration": 28,
    "start_time": "2022-02-13T14:31:09.135Z"
   },
   {
    "duration": 5,
    "start_time": "2022-02-13T14:31:10.617Z"
   },
   {
    "duration": 13,
    "start_time": "2022-02-13T14:31:12.368Z"
   },
   {
    "duration": 26,
    "start_time": "2022-02-13T14:31:12.757Z"
   },
   {
    "duration": 788,
    "start_time": "2022-02-13T14:31:13.421Z"
   },
   {
    "duration": 16,
    "start_time": "2022-02-13T14:31:14.212Z"
   },
   {
    "duration": 2213,
    "start_time": "2022-02-13T14:31:14.564Z"
   },
   {
    "duration": 253,
    "start_time": "2022-02-13T14:31:16.780Z"
   },
   {
    "duration": 487,
    "start_time": "2022-02-13T14:31:17.036Z"
   },
   {
    "duration": 247,
    "start_time": "2022-02-13T14:31:17.526Z"
   },
   {
    "duration": 768,
    "start_time": "2022-02-13T14:31:17.776Z"
   },
   {
    "duration": 44,
    "start_time": "2022-02-13T14:31:19.239Z"
   },
   {
    "duration": 597,
    "start_time": "2022-02-13T14:32:14.393Z"
   },
   {
    "duration": 53,
    "start_time": "2022-02-13T14:32:29.315Z"
   },
   {
    "duration": 1016,
    "start_time": "2022-02-13T14:32:47.161Z"
   },
   {
    "duration": 19,
    "start_time": "2022-02-13T14:33:09.733Z"
   },
   {
    "duration": 55,
    "start_time": "2022-02-13T14:34:19.689Z"
   },
   {
    "duration": 988,
    "start_time": "2022-02-13T14:34:19.901Z"
   },
   {
    "duration": 8,
    "start_time": "2022-02-13T14:34:32.572Z"
   },
   {
    "duration": 14,
    "start_time": "2022-02-13T14:34:53.044Z"
   },
   {
    "duration": 16,
    "start_time": "2022-02-13T14:34:57.776Z"
   },
   {
    "duration": 19,
    "start_time": "2022-02-13T14:35:15.626Z"
   },
   {
    "duration": 25,
    "start_time": "2022-02-13T14:35:51.528Z"
   },
   {
    "duration": 40,
    "start_time": "2022-02-13T14:36:02.754Z"
   },
   {
    "duration": 1125,
    "start_time": "2022-02-13T14:36:03.803Z"
   },
   {
    "duration": 19,
    "start_time": "2022-02-13T14:36:08.309Z"
   },
   {
    "duration": 25,
    "start_time": "2022-02-13T14:36:17.014Z"
   },
   {
    "duration": 18,
    "start_time": "2022-02-13T14:36:37.236Z"
   },
   {
    "duration": 1054,
    "start_time": "2022-02-13T14:36:37.825Z"
   },
   {
    "duration": 13,
    "start_time": "2022-02-13T14:37:42.566Z"
   },
   {
    "duration": 15,
    "start_time": "2022-02-13T14:38:04.417Z"
   },
   {
    "duration": 11,
    "start_time": "2022-02-13T14:38:05.039Z"
   },
   {
    "duration": 10,
    "start_time": "2022-02-13T14:38:05.538Z"
   },
   {
    "duration": 12,
    "start_time": "2022-02-13T14:38:06.179Z"
   },
   {
    "duration": 12,
    "start_time": "2022-02-13T14:38:06.819Z"
   },
   {
    "duration": 989,
    "start_time": "2022-02-13T14:38:11.935Z"
   },
   {
    "duration": 37,
    "start_time": "2022-02-13T14:38:56.501Z"
   },
   {
    "duration": 52,
    "start_time": "2022-02-13T14:39:02.759Z"
   },
   {
    "duration": 1325,
    "start_time": "2022-02-13T14:39:03.502Z"
   },
   {
    "duration": 1019,
    "start_time": "2022-02-13T14:39:52.140Z"
   },
   {
    "duration": 38,
    "start_time": "2022-02-13T14:40:09.484Z"
   },
   {
    "duration": 1140,
    "start_time": "2022-02-13T14:40:09.983Z"
   },
   {
    "duration": 2214,
    "start_time": "2022-02-13T14:41:22.943Z"
   },
   {
    "duration": 1783,
    "start_time": "2022-02-13T14:41:44.810Z"
   },
   {
    "duration": 1983,
    "start_time": "2022-02-13T14:42:15.897Z"
   },
   {
    "duration": 1913,
    "start_time": "2022-02-13T14:42:34.920Z"
   },
   {
    "duration": 137,
    "start_time": "2022-02-13T14:43:26.174Z"
   },
   {
    "duration": 2239,
    "start_time": "2022-02-13T14:43:39.788Z"
   },
   {
    "duration": 2123,
    "start_time": "2022-02-13T14:44:47.929Z"
   },
   {
    "duration": 2234,
    "start_time": "2022-02-13T14:44:51.092Z"
   },
   {
    "duration": 3392,
    "start_time": "2022-02-13T14:45:24.838Z"
   },
   {
    "duration": 1253,
    "start_time": "2022-02-13T14:46:13.049Z"
   },
   {
    "duration": 65,
    "start_time": "2022-02-13T14:46:14.305Z"
   },
   {
    "duration": 375,
    "start_time": "2022-02-13T14:46:14.383Z"
   },
   {
    "duration": 100,
    "start_time": "2022-02-13T14:46:14.762Z"
   },
   {
    "duration": 267,
    "start_time": "2022-02-13T14:46:14.866Z"
   },
   {
    "duration": 172,
    "start_time": "2022-02-13T14:46:15.136Z"
   },
   {
    "duration": 168,
    "start_time": "2022-02-13T14:46:15.311Z"
   },
   {
    "duration": 188,
    "start_time": "2022-02-13T14:46:15.483Z"
   },
   {
    "duration": 1005,
    "start_time": "2022-02-13T14:46:15.674Z"
   },
   {
    "duration": 8,
    "start_time": "2022-02-13T14:46:16.682Z"
   },
   {
    "duration": 2829,
    "start_time": "2022-02-13T14:46:16.694Z"
   },
   {
    "duration": 332,
    "start_time": "2022-02-13T14:46:19.526Z"
   },
   {
    "duration": 285,
    "start_time": "2022-02-13T14:46:19.861Z"
   },
   {
    "duration": 355,
    "start_time": "2022-02-13T14:46:20.149Z"
   },
   {
    "duration": 875,
    "start_time": "2022-02-13T14:46:20.507Z"
   },
   {
    "duration": 3440,
    "start_time": "2022-02-13T14:46:21.387Z"
   },
   {
    "duration": 373,
    "start_time": "2022-02-13T14:46:24.830Z"
   },
   {
    "duration": 369,
    "start_time": "2022-02-13T14:46:25.206Z"
   },
   {
    "duration": 386,
    "start_time": "2022-02-13T14:46:25.578Z"
   },
   {
    "duration": 349,
    "start_time": "2022-02-13T14:46:25.967Z"
   },
   {
    "duration": 526,
    "start_time": "2022-02-13T14:46:26.319Z"
   },
   {
    "duration": 2887,
    "start_time": "2022-02-13T14:46:46.840Z"
   },
   {
    "duration": 154,
    "start_time": "2022-02-13T14:47:31.827Z"
   },
   {
    "duration": 1894,
    "start_time": "2022-02-13T14:47:54.566Z"
   },
   {
    "duration": 488,
    "start_time": "2022-02-13T14:49:28.420Z"
   },
   {
    "duration": 1969,
    "start_time": "2022-02-13T14:52:51.305Z"
   },
   {
    "duration": 2430,
    "start_time": "2022-02-13T14:53:51.286Z"
   },
   {
    "duration": 3387,
    "start_time": "2022-02-13T14:54:17.111Z"
   },
   {
    "duration": 3013,
    "start_time": "2022-02-13T14:54:57.884Z"
   },
   {
    "duration": 2294,
    "start_time": "2022-02-13T14:55:05.108Z"
   },
   {
    "duration": 734,
    "start_time": "2022-02-13T14:55:26.579Z"
   },
   {
    "duration": 1243,
    "start_time": "2022-02-13T14:55:52.720Z"
   },
   {
    "duration": 58,
    "start_time": "2022-02-13T14:55:53.966Z"
   },
   {
    "duration": 314,
    "start_time": "2022-02-13T14:55:54.031Z"
   },
   {
    "duration": 18,
    "start_time": "2022-02-13T14:55:54.456Z"
   },
   {
    "duration": 126,
    "start_time": "2022-02-13T14:55:56.734Z"
   },
   {
    "duration": 5,
    "start_time": "2022-02-13T14:55:57.578Z"
   },
   {
    "duration": 80,
    "start_time": "2022-02-13T14:55:59.650Z"
   },
   {
    "duration": 24,
    "start_time": "2022-02-13T14:56:00.361Z"
   },
   {
    "duration": 843,
    "start_time": "2022-02-13T14:56:00.663Z"
   },
   {
    "duration": 15,
    "start_time": "2022-02-13T14:56:01.508Z"
   },
   {
    "duration": 2467,
    "start_time": "2022-02-13T14:56:03.416Z"
   },
   {
    "duration": 244,
    "start_time": "2022-02-13T14:56:12.389Z"
   },
   {
    "duration": 240,
    "start_time": "2022-02-13T14:56:16.796Z"
   },
   {
    "duration": 234,
    "start_time": "2022-02-13T14:56:19.241Z"
   },
   {
    "duration": 1186,
    "start_time": "2022-02-13T14:56:24.385Z"
   },
   {
    "duration": 2605,
    "start_time": "2022-02-13T14:56:48.442Z"
   },
   {
    "duration": 720,
    "start_time": "2022-02-13T14:57:03.189Z"
   },
   {
    "duration": 777,
    "start_time": "2022-02-13T14:57:14.785Z"
   },
   {
    "duration": 1023,
    "start_time": "2022-02-13T14:57:31.097Z"
   },
   {
    "duration": 44,
    "start_time": "2022-02-13T14:57:32.124Z"
   },
   {
    "duration": 277,
    "start_time": "2022-02-13T14:57:32.172Z"
   },
   {
    "duration": 102,
    "start_time": "2022-02-13T14:57:32.452Z"
   },
   {
    "duration": 85,
    "start_time": "2022-02-13T14:57:33.020Z"
   },
   {
    "duration": 61,
    "start_time": "2022-02-13T14:57:33.232Z"
   },
   {
    "duration": 12,
    "start_time": "2022-02-13T14:57:35.556Z"
   },
   {
    "duration": 17,
    "start_time": "2022-02-13T14:57:39.245Z"
   },
   {
    "duration": 1020,
    "start_time": "2022-02-13T14:57:39.265Z"
   },
   {
    "duration": 6,
    "start_time": "2022-02-13T14:57:40.288Z"
   },
   {
    "duration": 2287,
    "start_time": "2022-02-13T14:57:40.845Z"
   },
   {
    "duration": 262,
    "start_time": "2022-02-13T14:57:43.135Z"
   },
   {
    "duration": 707,
    "start_time": "2022-02-13T14:57:44.382Z"
   },
   {
    "duration": 237,
    "start_time": "2022-02-13T14:57:46.655Z"
   },
   {
    "duration": 242,
    "start_time": "2022-02-13T14:57:47.643Z"
   },
   {
    "duration": 617,
    "start_time": "2022-02-13T14:57:50.779Z"
   },
   {
    "duration": 839,
    "start_time": "2022-02-13T14:57:51.398Z"
   },
   {
    "duration": 2413,
    "start_time": "2022-02-13T14:58:03.916Z"
   },
   {
    "duration": 2473,
    "start_time": "2022-02-13T14:58:11.357Z"
   },
   {
    "duration": 3497,
    "start_time": "2022-02-13T14:58:25.529Z"
   },
   {
    "duration": 1179,
    "start_time": "2022-02-13T14:58:38.195Z"
   },
   {
    "duration": 49,
    "start_time": "2022-02-13T14:58:39.377Z"
   },
   {
    "duration": 324,
    "start_time": "2022-02-13T14:58:39.429Z"
   },
   {
    "duration": 182,
    "start_time": "2022-02-13T14:58:39.756Z"
   },
   {
    "duration": 403,
    "start_time": "2022-02-13T14:58:39.940Z"
   },
   {
    "duration": 256,
    "start_time": "2022-02-13T14:58:40.346Z"
   },
   {
    "duration": 58,
    "start_time": "2022-02-13T14:58:40.908Z"
   },
   {
    "duration": 17,
    "start_time": "2022-02-13T14:58:41.260Z"
   },
   {
    "duration": 867,
    "start_time": "2022-02-13T14:58:41.439Z"
   },
   {
    "duration": 15,
    "start_time": "2022-02-13T14:58:42.309Z"
   },
   {
    "duration": 2557,
    "start_time": "2022-02-13T14:58:42.338Z"
   },
   {
    "duration": 264,
    "start_time": "2022-02-13T14:58:44.897Z"
   },
   {
    "duration": 695,
    "start_time": "2022-02-13T14:58:45.164Z"
   },
   {
    "duration": 240,
    "start_time": "2022-02-13T14:58:45.862Z"
   },
   {
    "duration": 243,
    "start_time": "2022-02-13T14:58:46.105Z"
   },
   {
    "duration": 680,
    "start_time": "2022-02-13T14:58:46.351Z"
   },
   {
    "duration": 811,
    "start_time": "2022-02-13T14:58:47.035Z"
   },
   {
    "duration": 2345,
    "start_time": "2022-02-13T14:58:50.283Z"
   },
   {
    "duration": 2576,
    "start_time": "2022-02-13T14:59:29.784Z"
   },
   {
    "duration": 2282,
    "start_time": "2022-02-13T14:59:40.088Z"
   },
   {
    "duration": 1153,
    "start_time": "2022-02-13T14:59:50.499Z"
   },
   {
    "duration": 55,
    "start_time": "2022-02-13T14:59:51.655Z"
   },
   {
    "duration": 306,
    "start_time": "2022-02-13T14:59:51.725Z"
   },
   {
    "duration": 92,
    "start_time": "2022-02-13T14:59:52.034Z"
   },
   {
    "duration": 426,
    "start_time": "2022-02-13T14:59:52.129Z"
   },
   {
    "duration": 40,
    "start_time": "2022-02-13T14:59:52.559Z"
   },
   {
    "duration": 11,
    "start_time": "2022-02-13T14:59:53.203Z"
   },
   {
    "duration": 18,
    "start_time": "2022-02-13T14:59:53.553Z"
   },
   {
    "duration": 967,
    "start_time": "2022-02-13T14:59:53.726Z"
   },
   {
    "duration": 8,
    "start_time": "2022-02-13T14:59:54.696Z"
   },
   {
    "duration": 2750,
    "start_time": "2022-02-13T14:59:54.707Z"
   },
   {
    "duration": 323,
    "start_time": "2022-02-13T15:00:00.365Z"
   },
   {
    "duration": 953,
    "start_time": "2022-02-13T15:00:00.790Z"
   },
   {
    "duration": 255,
    "start_time": "2022-02-13T15:00:01.746Z"
   },
   {
    "duration": 234,
    "start_time": "2022-02-13T15:00:02.162Z"
   },
   {
    "duration": 618,
    "start_time": "2022-02-13T15:00:04.064Z"
   },
   {
    "duration": 762,
    "start_time": "2022-02-13T15:00:05.298Z"
   },
   {
    "duration": 2430,
    "start_time": "2022-02-13T15:00:08.231Z"
   },
   {
    "duration": 2572,
    "start_time": "2022-02-13T15:01:17.361Z"
   },
   {
    "duration": 390,
    "start_time": "2022-02-13T15:01:22.445Z"
   },
   {
    "duration": 395,
    "start_time": "2022-02-13T15:01:24.510Z"
   },
   {
    "duration": 401,
    "start_time": "2022-02-13T15:01:31.041Z"
   },
   {
    "duration": 284,
    "start_time": "2022-02-13T15:01:34.359Z"
   },
   {
    "duration": 346,
    "start_time": "2022-02-13T15:01:39.902Z"
   },
   {
    "duration": 354,
    "start_time": "2022-02-13T15:01:43.128Z"
   },
   {
    "duration": 336,
    "start_time": "2022-02-13T15:01:45.354Z"
   },
   {
    "duration": 39,
    "start_time": "2022-02-13T15:01:47.395Z"
   },
   {
    "duration": 346,
    "start_time": "2022-02-13T15:01:49.319Z"
   },
   {
    "duration": 13,
    "start_time": "2022-02-13T15:01:51.340Z"
   },
   {
    "duration": 237,
    "start_time": "2022-02-13T15:01:51.901Z"
   },
   {
    "duration": 219,
    "start_time": "2022-02-13T15:01:52.732Z"
   },
   {
    "duration": 302,
    "start_time": "2022-02-13T15:01:53.164Z"
   },
   {
    "duration": 258,
    "start_time": "2022-02-13T15:01:53.469Z"
   },
   {
    "duration": 758,
    "start_time": "2022-02-13T15:01:53.925Z"
   },
   {
    "duration": 276,
    "start_time": "2022-02-13T15:01:54.858Z"
   },
   {
    "duration": 354,
    "start_time": "2022-02-13T15:01:56.270Z"
   },
   {
    "duration": 332,
    "start_time": "2022-02-13T15:01:58.432Z"
   },
   {
    "duration": 354,
    "start_time": "2022-02-13T15:02:00.677Z"
   },
   {
    "duration": 563,
    "start_time": "2022-02-13T15:02:02.242Z"
   },
   {
    "duration": 18,
    "start_time": "2022-02-13T15:04:10.171Z"
   },
   {
    "duration": 12,
    "start_time": "2022-02-13T15:05:55.071Z"
   },
   {
    "duration": 24,
    "start_time": "2022-02-13T15:06:23.179Z"
   },
   {
    "duration": 9,
    "start_time": "2022-02-13T15:06:39.085Z"
   },
   {
    "duration": 10,
    "start_time": "2022-02-13T15:06:47.135Z"
   },
   {
    "duration": 698,
    "start_time": "2022-02-13T15:08:51.270Z"
   },
   {
    "duration": 736,
    "start_time": "2022-02-13T15:08:56.278Z"
   },
   {
    "duration": 285,
    "start_time": "2022-02-13T15:09:58.342Z"
   },
   {
    "duration": 359,
    "start_time": "2022-02-13T15:10:16.425Z"
   },
   {
    "duration": 232,
    "start_time": "2022-02-13T15:10:25.617Z"
   },
   {
    "duration": 261,
    "start_time": "2022-02-13T15:11:09.218Z"
   },
   {
    "duration": 963,
    "start_time": "2022-02-13T15:11:24.984Z"
   },
   {
    "duration": 216,
    "start_time": "2022-02-13T15:12:04.658Z"
   },
   {
    "duration": 301,
    "start_time": "2022-02-13T15:12:08.637Z"
   },
   {
    "duration": 251,
    "start_time": "2022-02-13T15:12:19.209Z"
   },
   {
    "duration": 239,
    "start_time": "2022-02-13T15:12:27.391Z"
   },
   {
    "duration": 1092,
    "start_time": "2022-02-13T15:12:37.179Z"
   },
   {
    "duration": 2659,
    "start_time": "2022-02-13T15:12:39.068Z"
   },
   {
    "duration": 2495,
    "start_time": "2022-02-13T15:14:07.707Z"
   },
   {
    "duration": 1053,
    "start_time": "2022-02-13T15:14:22.482Z"
   },
   {
    "duration": 46,
    "start_time": "2022-02-13T15:14:23.538Z"
   },
   {
    "duration": 279,
    "start_time": "2022-02-13T15:14:23.588Z"
   },
   {
    "duration": 104,
    "start_time": "2022-02-13T15:14:23.870Z"
   },
   {
    "duration": 297,
    "start_time": "2022-02-13T15:14:23.977Z"
   },
   {
    "duration": 190,
    "start_time": "2022-02-13T15:14:24.276Z"
   },
   {
    "duration": 299,
    "start_time": "2022-02-13T15:14:24.469Z"
   },
   {
    "duration": 230,
    "start_time": "2022-02-13T15:14:24.774Z"
   },
   {
    "duration": 984,
    "start_time": "2022-02-13T15:14:25.008Z"
   },
   {
    "duration": 7,
    "start_time": "2022-02-13T15:14:25.994Z"
   },
   {
    "duration": 2657,
    "start_time": "2022-02-13T15:14:26.004Z"
   },
   {
    "duration": 251,
    "start_time": "2022-02-13T15:14:28.664Z"
   },
   {
    "duration": 341,
    "start_time": "2022-02-13T15:14:28.924Z"
   },
   {
    "duration": 299,
    "start_time": "2022-02-13T15:14:29.268Z"
   },
   {
    "duration": 348,
    "start_time": "2022-02-13T15:14:29.570Z"
   },
   {
    "duration": 802,
    "start_time": "2022-02-13T15:14:29.921Z"
   },
   {
    "duration": 2617,
    "start_time": "2022-02-13T15:14:30.726Z"
   },
   {
    "duration": 393,
    "start_time": "2022-02-13T15:14:33.345Z"
   },
   {
    "duration": 416,
    "start_time": "2022-02-13T15:14:33.741Z"
   },
   {
    "duration": 663,
    "start_time": "2022-02-13T15:14:34.162Z"
   },
   {
    "duration": 382,
    "start_time": "2022-02-13T15:14:34.830Z"
   },
   {
    "duration": 484,
    "start_time": "2022-02-13T15:14:35.214Z"
   },
   {
    "duration": 379,
    "start_time": "2022-02-13T15:14:35.702Z"
   },
   {
    "duration": 362,
    "start_time": "2022-02-13T15:14:36.084Z"
   },
   {
    "duration": 2608,
    "start_time": "2022-02-13T15:14:51.085Z"
   },
   {
    "duration": 1155,
    "start_time": "2022-02-13T15:16:01.233Z"
   },
   {
    "duration": 57,
    "start_time": "2022-02-13T15:16:02.391Z"
   },
   {
    "duration": 369,
    "start_time": "2022-02-13T15:16:02.451Z"
   },
   {
    "duration": 176,
    "start_time": "2022-02-13T15:16:02.823Z"
   },
   {
    "duration": 462,
    "start_time": "2022-02-13T15:16:03.002Z"
   },
   {
    "duration": 265,
    "start_time": "2022-02-13T15:16:03.467Z"
   },
   {
    "duration": 353,
    "start_time": "2022-02-13T15:16:03.735Z"
   },
   {
    "duration": 203,
    "start_time": "2022-02-13T15:16:04.093Z"
   },
   {
    "duration": 1218,
    "start_time": "2022-02-13T15:16:04.299Z"
   },
   {
    "duration": 9,
    "start_time": "2022-02-13T15:16:05.523Z"
   },
   {
    "duration": 2737,
    "start_time": "2022-02-13T15:16:05.536Z"
   },
   {
    "duration": 270,
    "start_time": "2022-02-13T15:16:08.275Z"
   },
   {
    "duration": 247,
    "start_time": "2022-02-13T15:16:08.547Z"
   },
   {
    "duration": 244,
    "start_time": "2022-02-13T15:16:08.798Z"
   },
   {
    "duration": 283,
    "start_time": "2022-02-13T15:16:09.044Z"
   },
   {
    "duration": 601,
    "start_time": "2022-02-13T15:16:09.330Z"
   },
   {
    "duration": 3171,
    "start_time": "2022-02-13T15:16:09.934Z"
   },
   {
    "duration": 2533,
    "start_time": "2022-02-13T15:17:05.713Z"
   },
   {
    "duration": 2939,
    "start_time": "2022-02-13T15:17:13.584Z"
   },
   {
    "duration": 2803,
    "start_time": "2022-02-13T15:17:19.742Z"
   },
   {
    "duration": 2553,
    "start_time": "2022-02-13T15:18:54.648Z"
   },
   {
    "duration": 49,
    "start_time": "2022-02-13T15:19:13.178Z"
   },
   {
    "duration": 3247,
    "start_time": "2022-02-13T15:19:17.646Z"
   },
   {
    "duration": 2787,
    "start_time": "2022-02-13T15:19:21.865Z"
   },
   {
    "duration": 57,
    "start_time": "2022-02-13T15:19:47.279Z"
   },
   {
    "duration": 3523,
    "start_time": "2022-02-13T15:19:48.925Z"
   },
   {
    "duration": 41,
    "start_time": "2022-02-13T15:20:24.486Z"
   },
   {
    "duration": 2260,
    "start_time": "2022-02-13T15:20:26.121Z"
   },
   {
    "duration": 71,
    "start_time": "2022-02-13T15:20:41.505Z"
   },
   {
    "duration": 170,
    "start_time": "2022-02-13T15:21:02.453Z"
   },
   {
    "duration": 1107,
    "start_time": "2022-02-13T15:21:56.848Z"
   },
   {
    "duration": 52,
    "start_time": "2022-02-13T15:21:57.959Z"
   },
   {
    "duration": 393,
    "start_time": "2022-02-13T15:21:58.027Z"
   },
   {
    "duration": 97,
    "start_time": "2022-02-13T15:21:58.423Z"
   },
   {
    "duration": 49,
    "start_time": "2022-02-13T15:21:58.825Z"
   },
   {
    "duration": 3,
    "start_time": "2022-02-13T15:21:59.492Z"
   },
   {
    "duration": 8,
    "start_time": "2022-02-13T15:22:01.173Z"
   },
   {
    "duration": 16,
    "start_time": "2022-02-13T15:22:01.550Z"
   },
   {
    "duration": 868,
    "start_time": "2022-02-13T15:22:01.735Z"
   },
   {
    "duration": 17,
    "start_time": "2022-02-13T15:22:02.606Z"
   },
   {
    "duration": 2424,
    "start_time": "2022-02-13T15:22:02.728Z"
   },
   {
    "duration": 258,
    "start_time": "2022-02-13T15:22:05.155Z"
   },
   {
    "duration": 258,
    "start_time": "2022-02-13T15:22:05.417Z"
   },
   {
    "duration": 249,
    "start_time": "2022-02-13T15:22:05.677Z"
   },
   {
    "duration": 260,
    "start_time": "2022-02-13T15:22:05.929Z"
   },
   {
    "duration": 658,
    "start_time": "2022-02-13T15:22:06.192Z"
   },
   {
    "duration": 44,
    "start_time": "2022-02-13T15:22:07.659Z"
   },
   {
    "duration": 2498,
    "start_time": "2022-02-13T15:22:08.310Z"
   },
   {
    "duration": 2693,
    "start_time": "2022-02-13T15:22:18.435Z"
   },
   {
    "duration": 2522,
    "start_time": "2022-02-13T15:22:26.148Z"
   },
   {
    "duration": 26,
    "start_time": "2022-02-13T15:23:09.159Z"
   },
   {
    "duration": 985,
    "start_time": "2022-02-13T15:23:16.143Z"
   },
   {
    "duration": 39,
    "start_time": "2022-02-13T15:23:17.131Z"
   },
   {
    "duration": 284,
    "start_time": "2022-02-13T15:23:17.173Z"
   },
   {
    "duration": 65,
    "start_time": "2022-02-13T15:23:17.460Z"
   },
   {
    "duration": 211,
    "start_time": "2022-02-13T15:23:17.528Z"
   },
   {
    "duration": 204,
    "start_time": "2022-02-13T15:23:17.741Z"
   },
   {
    "duration": 289,
    "start_time": "2022-02-13T15:23:17.948Z"
   },
   {
    "duration": 209,
    "start_time": "2022-02-13T15:23:18.241Z"
   },
   {
    "duration": 863,
    "start_time": "2022-02-13T15:23:18.452Z"
   },
   {
    "duration": 8,
    "start_time": "2022-02-13T15:23:19.318Z"
   },
   {
    "duration": 2410,
    "start_time": "2022-02-13T15:23:19.329Z"
   },
   {
    "duration": 274,
    "start_time": "2022-02-13T15:23:21.741Z"
   },
   {
    "duration": 250,
    "start_time": "2022-02-13T15:23:22.024Z"
   },
   {
    "duration": 254,
    "start_time": "2022-02-13T15:23:22.277Z"
   },
   {
    "duration": 230,
    "start_time": "2022-02-13T15:23:22.534Z"
   },
   {
    "duration": 686,
    "start_time": "2022-02-13T15:23:22.767Z"
   },
   {
    "duration": 43,
    "start_time": "2022-02-13T15:23:23.456Z"
   },
   {
    "duration": 2542,
    "start_time": "2022-02-13T15:23:23.502Z"
   },
   {
    "duration": 394,
    "start_time": "2022-02-13T15:23:26.046Z"
   },
   {
    "duration": 609,
    "start_time": "2022-02-13T15:23:26.446Z"
   },
   {
    "duration": 491,
    "start_time": "2022-02-13T15:23:27.059Z"
   },
   {
    "duration": 300,
    "start_time": "2022-02-13T15:23:27.552Z"
   },
   {
    "duration": 507,
    "start_time": "2022-02-13T15:23:27.855Z"
   },
   {
    "duration": 641,
    "start_time": "2022-02-13T15:23:28.365Z"
   },
   {
    "duration": 394,
    "start_time": "2022-02-13T15:23:29.011Z"
   },
   {
    "duration": 47,
    "start_time": "2022-02-13T15:23:29.407Z"
   },
   {
    "duration": 671,
    "start_time": "2022-02-13T15:23:29.456Z"
   },
   {
    "duration": 12,
    "start_time": "2022-02-13T15:23:30.130Z"
   },
   {
    "duration": 591,
    "start_time": "2022-02-13T15:23:30.144Z"
   },
   {
    "duration": 334,
    "start_time": "2022-02-13T15:23:30.740Z"
   },
   {
    "duration": 246,
    "start_time": "2022-02-13T15:23:31.077Z"
   },
   {
    "duration": 243,
    "start_time": "2022-02-13T15:23:31.325Z"
   },
   {
    "duration": 375,
    "start_time": "2022-02-13T15:23:31.571Z"
   },
   {
    "duration": 312,
    "start_time": "2022-02-13T15:23:31.948Z"
   },
   {
    "duration": 646,
    "start_time": "2022-02-13T15:23:32.263Z"
   },
   {
    "duration": 602,
    "start_time": "2022-02-13T15:23:32.914Z"
   },
   {
    "duration": 423,
    "start_time": "2022-02-13T15:23:33.519Z"
   },
   {
    "duration": 378,
    "start_time": "2022-02-13T15:23:33.945Z"
   },
   {
    "duration": 297,
    "start_time": "2022-02-13T15:24:12.911Z"
   },
   {
    "duration": 247,
    "start_time": "2022-02-13T15:24:24.927Z"
   },
   {
    "duration": 257,
    "start_time": "2022-02-13T15:25:19.419Z"
   },
   {
    "duration": 21,
    "start_time": "2022-02-13T15:26:07.447Z"
   },
   {
    "duration": 19,
    "start_time": "2022-02-13T15:26:20.128Z"
   },
   {
    "duration": 10,
    "start_time": "2022-02-13T15:26:41.513Z"
   },
   {
    "duration": 27,
    "start_time": "2022-02-13T15:27:09.840Z"
   },
   {
    "duration": 1129,
    "start_time": "2022-02-13T15:27:24.101Z"
   },
   {
    "duration": 47,
    "start_time": "2022-02-13T15:27:25.237Z"
   },
   {
    "duration": 483,
    "start_time": "2022-02-13T15:27:25.288Z"
   },
   {
    "duration": 168,
    "start_time": "2022-02-13T15:27:25.774Z"
   },
   {
    "duration": 286,
    "start_time": "2022-02-13T15:27:25.945Z"
   },
   {
    "duration": 85,
    "start_time": "2022-02-13T15:27:26.377Z"
   },
   {
    "duration": 1174,
    "start_time": "2022-02-13T15:27:56.513Z"
   },
   {
    "duration": 56,
    "start_time": "2022-02-13T15:27:57.690Z"
   },
   {
    "duration": 385,
    "start_time": "2022-02-13T15:27:57.749Z"
   },
   {
    "duration": 207,
    "start_time": "2022-02-13T15:27:58.136Z"
   },
   {
    "duration": 124,
    "start_time": "2022-02-13T15:28:08.253Z"
   },
   {
    "duration": 3,
    "start_time": "2022-02-13T15:28:09.396Z"
   },
   {
    "duration": 993,
    "start_time": "2022-02-13T15:31:24.281Z"
   },
   {
    "duration": 53,
    "start_time": "2022-02-13T15:31:25.277Z"
   },
   {
    "duration": 247,
    "start_time": "2022-02-13T15:31:25.334Z"
   },
   {
    "duration": 100,
    "start_time": "2022-02-13T15:31:25.584Z"
   },
   {
    "duration": 322,
    "start_time": "2022-02-13T15:31:25.688Z"
   },
   {
    "duration": 246,
    "start_time": "2022-02-13T15:31:26.013Z"
   },
   {
    "duration": 47,
    "start_time": "2022-02-13T15:31:26.854Z"
   },
   {
    "duration": 20,
    "start_time": "2022-02-13T15:31:27.210Z"
   },
   {
    "duration": 1356,
    "start_time": "2022-02-13T15:31:27.391Z"
   },
   {
    "duration": 8,
    "start_time": "2022-02-13T15:31:28.750Z"
   },
   {
    "duration": 3716,
    "start_time": "2022-02-13T15:31:28.761Z"
   },
   {
    "duration": 238,
    "start_time": "2022-02-13T15:31:36.936Z"
   },
   {
    "duration": 283,
    "start_time": "2022-02-13T15:31:41.537Z"
   },
   {
    "duration": 267,
    "start_time": "2022-02-13T15:31:41.824Z"
   },
   {
    "duration": 659,
    "start_time": "2022-02-13T15:31:42.094Z"
   },
   {
    "duration": 670,
    "start_time": "2022-02-13T15:31:42.756Z"
   },
   {
    "duration": 490,
    "start_time": "2022-02-13T15:31:43.604Z"
   },
   {
    "duration": 502,
    "start_time": "2022-02-13T15:31:44.469Z"
   },
   {
    "duration": 53,
    "start_time": "2022-02-13T15:32:20.206Z"
   },
   {
    "duration": 2886,
    "start_time": "2022-02-13T15:32:28.559Z"
   },
   {
    "duration": 1179,
    "start_time": "2022-02-13T15:36:52.191Z"
   },
   {
    "duration": 61,
    "start_time": "2022-02-13T15:36:53.373Z"
   },
   {
    "duration": 365,
    "start_time": "2022-02-13T15:36:53.439Z"
   },
   {
    "duration": 211,
    "start_time": "2022-02-13T15:36:53.808Z"
   },
   {
    "duration": 414,
    "start_time": "2022-02-13T15:36:54.022Z"
   },
   {
    "duration": 236,
    "start_time": "2022-02-13T15:36:54.439Z"
   },
   {
    "duration": 12,
    "start_time": "2022-02-13T15:36:55.129Z"
   },
   {
    "duration": 22,
    "start_time": "2022-02-13T15:36:55.535Z"
   },
   {
    "duration": 985,
    "start_time": "2022-02-13T15:36:55.715Z"
   },
   {
    "duration": 10,
    "start_time": "2022-02-13T15:36:56.703Z"
   },
   {
    "duration": 2698,
    "start_time": "2022-02-13T15:36:56.741Z"
   },
   {
    "duration": 393,
    "start_time": "2022-02-13T15:36:59.442Z"
   },
   {
    "duration": 452,
    "start_time": "2022-02-13T15:36:59.840Z"
   },
   {
    "duration": 331,
    "start_time": "2022-02-13T15:37:00.295Z"
   },
   {
    "duration": 325,
    "start_time": "2022-02-13T15:37:00.629Z"
   },
   {
    "duration": 714,
    "start_time": "2022-02-13T15:37:01.039Z"
   },
   {
    "duration": 51,
    "start_time": "2022-02-13T15:37:07.105Z"
   },
   {
    "duration": 2549,
    "start_time": "2022-02-13T15:37:07.750Z"
   },
   {
    "duration": 1046,
    "start_time": "2022-02-13T15:44:06.289Z"
   },
   {
    "duration": 42,
    "start_time": "2022-02-13T15:44:07.339Z"
   },
   {
    "duration": 277,
    "start_time": "2022-02-13T15:44:07.384Z"
   },
   {
    "duration": 100,
    "start_time": "2022-02-13T15:44:07.664Z"
   },
   {
    "duration": 459,
    "start_time": "2022-02-13T15:44:09.283Z"
   },
   {
    "duration": 350,
    "start_time": "2022-02-13T15:46:50.640Z"
   },
   {
    "duration": 1139,
    "start_time": "2022-02-13T15:49:27.907Z"
   },
   {
    "duration": 46,
    "start_time": "2022-02-13T15:49:29.049Z"
   },
   {
    "duration": 403,
    "start_time": "2022-02-13T15:49:29.123Z"
   },
   {
    "duration": 192,
    "start_time": "2022-02-13T15:49:29.529Z"
   },
   {
    "duration": 340,
    "start_time": "2022-02-13T15:49:29.724Z"
   },
   {
    "duration": 243,
    "start_time": "2022-02-13T15:49:30.066Z"
   },
   {
    "duration": 214,
    "start_time": "2022-02-13T15:49:30.311Z"
   },
   {
    "duration": 414,
    "start_time": "2022-02-13T15:49:30.528Z"
   },
   {
    "duration": 1304,
    "start_time": "2022-02-13T15:49:30.947Z"
   },
   {
    "duration": 9,
    "start_time": "2022-02-13T15:49:32.254Z"
   },
   {
    "duration": 2773,
    "start_time": "2022-02-13T15:49:32.267Z"
   },
   {
    "duration": 261,
    "start_time": "2022-02-13T15:49:35.044Z"
   },
   {
    "duration": 329,
    "start_time": "2022-02-13T15:49:35.308Z"
   },
   {
    "duration": 355,
    "start_time": "2022-02-13T15:49:35.640Z"
   },
   {
    "duration": 248,
    "start_time": "2022-02-13T15:49:35.997Z"
   },
   {
    "duration": 679,
    "start_time": "2022-02-13T15:49:36.247Z"
   },
   {
    "duration": 44,
    "start_time": "2022-02-13T15:49:36.930Z"
   },
   {
    "duration": 3045,
    "start_time": "2022-02-13T15:49:36.976Z"
   },
   {
    "duration": 371,
    "start_time": "2022-02-13T15:49:40.024Z"
   },
   {
    "duration": 496,
    "start_time": "2022-02-13T15:49:40.397Z"
   },
   {
    "duration": 446,
    "start_time": "2022-02-13T15:49:40.895Z"
   },
   {
    "duration": 292,
    "start_time": "2022-02-13T15:49:41.343Z"
   },
   {
    "duration": 366,
    "start_time": "2022-02-13T15:49:41.639Z"
   },
   {
    "duration": 377,
    "start_time": "2022-02-13T15:49:42.008Z"
   },
   {
    "duration": 367,
    "start_time": "2022-02-13T15:49:42.387Z"
   },
   {
    "duration": 35,
    "start_time": "2022-02-13T15:49:42.756Z"
   },
   {
    "duration": 705,
    "start_time": "2022-02-13T15:49:42.793Z"
   },
   {
    "duration": 22,
    "start_time": "2022-02-13T15:49:43.501Z"
   },
   {
    "duration": 604,
    "start_time": "2022-02-13T15:49:43.526Z"
   },
   {
    "duration": 420,
    "start_time": "2022-02-13T15:49:44.133Z"
   },
   {
    "duration": 333,
    "start_time": "2022-02-13T15:49:44.555Z"
   },
   {
    "duration": 411,
    "start_time": "2022-02-13T15:49:44.891Z"
   },
   {
    "duration": 497,
    "start_time": "2022-02-13T15:49:45.305Z"
   },
   {
    "duration": 321,
    "start_time": "2022-02-13T15:49:45.805Z"
   },
   {
    "duration": 448,
    "start_time": "2022-02-13T15:49:46.128Z"
   },
   {
    "duration": 361,
    "start_time": "2022-02-13T15:49:46.579Z"
   },
   {
    "duration": 338,
    "start_time": "2022-02-13T15:49:46.943Z"
   },
   {
    "duration": 358,
    "start_time": "2022-02-13T15:49:47.284Z"
   },
   {
    "duration": 1039,
    "start_time": "2022-02-13T15:50:52.387Z"
   },
   {
    "duration": 40,
    "start_time": "2022-02-13T15:50:53.429Z"
   },
   {
    "duration": 352,
    "start_time": "2022-02-13T15:50:53.472Z"
   },
   {
    "duration": 160,
    "start_time": "2022-02-13T15:50:53.826Z"
   },
   {
    "duration": 691,
    "start_time": "2022-02-13T15:50:55.376Z"
   },
   {
    "duration": 1055,
    "start_time": "2022-02-13T15:53:41.304Z"
   },
   {
    "duration": 63,
    "start_time": "2022-02-13T15:53:42.362Z"
   },
   {
    "duration": 272,
    "start_time": "2022-02-13T15:53:42.428Z"
   },
   {
    "duration": 37,
    "start_time": "2022-02-13T15:53:42.703Z"
   },
   {
    "duration": 318,
    "start_time": "2022-02-13T15:53:42.743Z"
   },
   {
    "duration": 204,
    "start_time": "2022-02-13T15:53:43.065Z"
   },
   {
    "duration": 213,
    "start_time": "2022-02-13T15:53:43.283Z"
   },
   {
    "duration": 165,
    "start_time": "2022-02-13T15:53:43.498Z"
   },
   {
    "duration": 847,
    "start_time": "2022-02-13T15:53:43.666Z"
   },
   {
    "duration": 11,
    "start_time": "2022-02-13T15:53:44.516Z"
   },
   {
    "duration": 2468,
    "start_time": "2022-02-13T15:53:44.529Z"
   },
   {
    "duration": 267,
    "start_time": "2022-02-13T15:53:47.000Z"
   },
   {
    "duration": 258,
    "start_time": "2022-02-13T15:53:47.269Z"
   },
   {
    "duration": 250,
    "start_time": "2022-02-13T15:53:47.529Z"
   },
   {
    "duration": 261,
    "start_time": "2022-02-13T15:53:47.783Z"
   },
   {
    "duration": 643,
    "start_time": "2022-02-13T15:53:48.047Z"
   },
   {
    "duration": 61,
    "start_time": "2022-02-13T15:53:48.693Z"
   },
   {
    "duration": 2612,
    "start_time": "2022-02-13T15:53:48.757Z"
   },
   {
    "duration": 381,
    "start_time": "2022-02-13T15:53:51.372Z"
   },
   {
    "duration": 414,
    "start_time": "2022-02-13T15:53:51.756Z"
   },
   {
    "duration": 435,
    "start_time": "2022-02-13T15:53:52.173Z"
   },
   {
    "duration": 303,
    "start_time": "2022-02-13T15:53:52.611Z"
   },
   {
    "duration": 384,
    "start_time": "2022-02-13T15:53:52.924Z"
   },
   {
    "duration": 490,
    "start_time": "2022-02-13T15:53:53.313Z"
   },
   {
    "duration": 573,
    "start_time": "2022-02-13T15:53:53.806Z"
   },
   {
    "duration": 52,
    "start_time": "2022-02-13T15:53:54.381Z"
   },
   {
    "duration": 667,
    "start_time": "2022-02-13T15:53:54.437Z"
   },
   {
    "duration": 20,
    "start_time": "2022-02-13T15:53:55.108Z"
   },
   {
    "duration": 776,
    "start_time": "2022-02-13T15:53:55.130Z"
   },
   {
    "duration": 328,
    "start_time": "2022-02-13T15:53:55.909Z"
   },
   {
    "duration": 280,
    "start_time": "2022-02-13T15:53:56.240Z"
   },
   {
    "duration": 351,
    "start_time": "2022-02-13T15:53:56.524Z"
   },
   {
    "duration": 445,
    "start_time": "2022-02-13T15:53:56.878Z"
   },
   {
    "duration": 603,
    "start_time": "2022-02-13T15:53:57.326Z"
   },
   {
    "duration": 524,
    "start_time": "2022-02-13T15:53:57.932Z"
   },
   {
    "duration": 451,
    "start_time": "2022-02-13T15:53:58.460Z"
   },
   {
    "duration": 403,
    "start_time": "2022-02-13T15:53:58.915Z"
   },
   {
    "duration": 468,
    "start_time": "2022-02-13T15:53:59.329Z"
   },
   {
    "duration": 501,
    "start_time": "2022-02-13T15:58:14.125Z"
   },
   {
    "duration": 1061,
    "start_time": "2022-02-13T15:58:25.686Z"
   },
   {
    "duration": 44,
    "start_time": "2022-02-13T15:58:26.751Z"
   },
   {
    "duration": 395,
    "start_time": "2022-02-13T15:58:26.798Z"
   },
   {
    "duration": 156,
    "start_time": "2022-02-13T15:58:27.196Z"
   },
   {
    "duration": 288,
    "start_time": "2022-02-13T15:58:27.355Z"
   },
   {
    "duration": 313,
    "start_time": "2022-02-13T15:58:27.646Z"
   },
   {
    "duration": 352,
    "start_time": "2022-02-13T15:58:27.962Z"
   },
   {
    "duration": 317,
    "start_time": "2022-02-13T15:58:28.318Z"
   },
   {
    "duration": 1054,
    "start_time": "2022-02-13T15:58:28.639Z"
   },
   {
    "duration": 8,
    "start_time": "2022-02-13T15:58:29.696Z"
   },
   {
    "duration": 3009,
    "start_time": "2022-02-13T15:58:29.707Z"
   },
   {
    "duration": 337,
    "start_time": "2022-02-13T15:58:32.719Z"
   },
   {
    "duration": 290,
    "start_time": "2022-02-13T15:58:33.059Z"
   },
   {
    "duration": 253,
    "start_time": "2022-02-13T15:58:33.352Z"
   },
   {
    "duration": 248,
    "start_time": "2022-02-13T15:58:33.608Z"
   },
   {
    "duration": 604,
    "start_time": "2022-02-13T15:58:33.860Z"
   },
   {
    "duration": 60,
    "start_time": "2022-02-13T15:58:34.467Z"
   },
   {
    "duration": 2573,
    "start_time": "2022-02-13T15:58:34.530Z"
   },
   {
    "duration": 372,
    "start_time": "2022-02-13T15:58:37.105Z"
   },
   {
    "duration": 395,
    "start_time": "2022-02-13T15:58:37.481Z"
   },
   {
    "duration": 494,
    "start_time": "2022-02-13T15:58:37.879Z"
   },
   {
    "duration": 489,
    "start_time": "2022-02-13T15:58:38.381Z"
   },
   {
    "duration": 367,
    "start_time": "2022-02-13T15:58:38.874Z"
   },
   {
    "duration": 358,
    "start_time": "2022-02-13T15:58:39.244Z"
   },
   {
    "duration": 329,
    "start_time": "2022-02-13T15:58:39.605Z"
   },
   {
    "duration": 67,
    "start_time": "2022-02-13T15:58:39.937Z"
   },
   {
    "duration": 654,
    "start_time": "2022-02-13T15:58:40.007Z"
   },
   {
    "duration": 12,
    "start_time": "2022-02-13T15:58:40.663Z"
   },
   {
    "duration": 531,
    "start_time": "2022-02-13T15:58:40.678Z"
   },
   {
    "duration": 267,
    "start_time": "2022-02-13T15:58:41.211Z"
   },
   {
    "duration": 244,
    "start_time": "2022-02-13T15:58:41.481Z"
   },
   {
    "duration": 240,
    "start_time": "2022-02-13T15:58:41.729Z"
   },
   {
    "duration": 372,
    "start_time": "2022-02-13T15:58:41.972Z"
   },
   {
    "duration": 303,
    "start_time": "2022-02-13T15:58:42.347Z"
   },
   {
    "duration": 374,
    "start_time": "2022-02-13T15:58:42.654Z"
   },
   {
    "duration": 367,
    "start_time": "2022-02-13T15:58:43.030Z"
   },
   {
    "duration": 352,
    "start_time": "2022-02-13T15:58:43.400Z"
   },
   {
    "duration": 362,
    "start_time": "2022-02-13T15:58:43.755Z"
   },
   {
    "duration": 108,
    "start_time": "2022-02-13T15:59:11.615Z"
   },
   {
    "duration": 725,
    "start_time": "2022-02-14T12:01:37.363Z"
   },
   {
    "duration": 26,
    "start_time": "2022-02-14T12:01:38.090Z"
   },
   {
    "duration": 85,
    "start_time": "2022-02-14T12:01:38.118Z"
   },
   {
    "duration": 2,
    "start_time": "2022-02-14T12:01:38.205Z"
   },
   {
    "duration": 51,
    "start_time": "2022-02-14T12:01:38.209Z"
   },
   {
    "duration": 2,
    "start_time": "2022-02-14T12:01:38.262Z"
   },
   {
    "duration": 20,
    "start_time": "2022-02-14T12:01:38.265Z"
   },
   {
    "duration": 28,
    "start_time": "2022-02-14T12:01:38.288Z"
   },
   {
    "duration": 387,
    "start_time": "2022-02-14T12:01:38.318Z"
   },
   {
    "duration": 5,
    "start_time": "2022-02-14T12:01:38.707Z"
   },
   {
    "duration": 1359,
    "start_time": "2022-02-14T12:01:38.714Z"
   },
   {
    "duration": 155,
    "start_time": "2022-02-14T12:01:40.075Z"
   },
   {
    "duration": 148,
    "start_time": "2022-02-14T12:01:40.232Z"
   },
   {
    "duration": 165,
    "start_time": "2022-02-14T12:01:40.382Z"
   },
   {
    "duration": 151,
    "start_time": "2022-02-14T12:01:40.549Z"
   },
   {
    "duration": 358,
    "start_time": "2022-02-14T12:01:40.702Z"
   },
   {
    "duration": 27,
    "start_time": "2022-02-14T12:01:41.062Z"
   },
   {
    "duration": 1419,
    "start_time": "2022-02-14T12:01:41.091Z"
   },
   {
    "duration": 220,
    "start_time": "2022-02-14T12:01:42.512Z"
   },
   {
    "duration": 228,
    "start_time": "2022-02-14T12:01:42.733Z"
   },
   {
    "duration": 257,
    "start_time": "2022-02-14T12:01:42.963Z"
   },
   {
    "duration": 178,
    "start_time": "2022-02-14T12:01:43.221Z"
   },
   {
    "duration": 203,
    "start_time": "2022-02-14T12:01:43.402Z"
   },
   {
    "duration": 225,
    "start_time": "2022-02-14T12:01:43.607Z"
   },
   {
    "duration": 215,
    "start_time": "2022-02-14T12:01:43.834Z"
   },
   {
    "duration": 26,
    "start_time": "2022-02-14T12:01:44.051Z"
   },
   {
    "duration": 311,
    "start_time": "2022-02-14T12:01:44.079Z"
   },
   {
    "duration": 9,
    "start_time": "2022-02-14T12:01:44.391Z"
   },
   {
    "duration": 160,
    "start_time": "2022-02-14T12:01:44.402Z"
   },
   {
    "duration": 160,
    "start_time": "2022-02-14T12:01:44.564Z"
   },
   {
    "duration": 145,
    "start_time": "2022-02-14T12:01:44.726Z"
   },
   {
    "duration": 150,
    "start_time": "2022-02-14T12:01:44.873Z"
   },
   {
    "duration": 225,
    "start_time": "2022-02-14T12:01:45.024Z"
   },
   {
    "duration": 201,
    "start_time": "2022-02-14T12:01:45.252Z"
   },
   {
    "duration": 229,
    "start_time": "2022-02-14T12:01:45.454Z"
   },
   {
    "duration": 225,
    "start_time": "2022-02-14T12:01:45.685Z"
   },
   {
    "duration": 216,
    "start_time": "2022-02-14T12:01:45.912Z"
   },
   {
    "duration": 215,
    "start_time": "2022-02-14T12:01:46.130Z"
   },
   {
    "duration": 248,
    "start_time": "2022-02-14T12:06:57.803Z"
   },
   {
    "duration": 172,
    "start_time": "2022-02-14T12:07:08.905Z"
   },
   {
    "duration": 4,
    "start_time": "2022-02-14T12:07:29.753Z"
   },
   {
    "duration": 184,
    "start_time": "2022-02-14T12:08:33.186Z"
   },
   {
    "duration": 200,
    "start_time": "2022-02-14T12:08:46.155Z"
   },
   {
    "duration": 181,
    "start_time": "2022-02-14T12:10:05.582Z"
   },
   {
    "duration": 60,
    "start_time": "2022-02-14T12:10:25.046Z"
   },
   {
    "duration": 180,
    "start_time": "2022-02-14T12:10:32.417Z"
   },
   {
    "duration": 179,
    "start_time": "2022-02-14T12:10:44.344Z"
   },
   {
    "duration": 195,
    "start_time": "2022-02-14T12:10:50.054Z"
   },
   {
    "duration": 200,
    "start_time": "2022-02-14T12:11:09.619Z"
   },
   {
    "duration": 190,
    "start_time": "2022-02-14T12:11:19.698Z"
   },
   {
    "duration": 204,
    "start_time": "2022-02-14T12:13:11.866Z"
   },
   {
    "duration": 264,
    "start_time": "2022-02-24T14:59:30.126Z"
   },
   {
    "duration": 781,
    "start_time": "2022-02-24T14:59:43.586Z"
   },
   {
    "duration": 30,
    "start_time": "2022-02-24T14:59:44.370Z"
   },
   {
    "duration": 104,
    "start_time": "2022-02-24T14:59:44.403Z"
   },
   {
    "duration": 2,
    "start_time": "2022-02-24T14:59:44.509Z"
   },
   {
    "duration": 37,
    "start_time": "2022-02-24T14:59:45.151Z"
   },
   {
    "duration": 3,
    "start_time": "2022-02-24T14:59:45.339Z"
   },
   {
    "duration": 5,
    "start_time": "2022-02-24T14:59:46.485Z"
   },
   {
    "duration": 13,
    "start_time": "2022-02-24T14:59:46.910Z"
   },
   {
    "duration": 442,
    "start_time": "2022-02-24T14:59:47.095Z"
   },
   {
    "duration": 5,
    "start_time": "2022-02-24T14:59:47.539Z"
   },
   {
    "duration": 1523,
    "start_time": "2022-02-24T14:59:48.813Z"
   },
   {
    "duration": 187,
    "start_time": "2022-02-24T14:59:53.066Z"
   },
   {
    "duration": 173,
    "start_time": "2022-02-24T14:59:54.483Z"
   },
   {
    "duration": 199,
    "start_time": "2022-02-24T14:59:55.155Z"
   },
   {
    "duration": 164,
    "start_time": "2022-02-24T14:59:56.604Z"
   },
   {
    "duration": 42,
    "start_time": "2022-02-24T15:00:02.621Z"
   }
  ],
  "kernelspec": {
   "display_name": "Python 3 (ipykernel)",
   "language": "python",
   "name": "python3"
  },
  "language_info": {
   "codemirror_mode": {
    "name": "ipython",
    "version": 3
   },
   "file_extension": ".py",
   "mimetype": "text/x-python",
   "name": "python",
   "nbconvert_exporter": "python",
   "pygments_lexer": "ipython3",
   "version": "3.11.4"
  },
  "toc": {
   "base_numbering": 1,
   "nav_menu": {},
   "number_sections": true,
   "sideBar": true,
   "skip_h1_title": true,
   "title_cell": "Содержание",
   "title_sidebar": "Contents",
   "toc_cell": true,
   "toc_position": {
    "height": "calc(100% - 180px)",
    "left": "10px",
    "top": "150px",
    "width": "165px"
   },
   "toc_section_display": true,
   "toc_window_display": false
  }
 },
 "nbformat": 4,
 "nbformat_minor": 2
}
